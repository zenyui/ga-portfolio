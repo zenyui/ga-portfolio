{
 "cells": [
  {
   "cell_type": "markdown",
   "metadata": {},
   "source": [
    "# Pima Indian Diabetes Dataset - GA HW #3\n",
    "### Zen Yui | 2016-02-27"
   ]
  },
  {
   "cell_type": "markdown",
   "metadata": {},
   "source": [
    "- Give an overall summary of your performance from HW2 on the dataset\n",
    "- Do you see any areas for improvement?\n",
    "- Run k-Means on the dataset and describe your results\n",
    "- Run PCA on the dataset and describe your results\n",
    "- Use the cluster outputs you got from running k-means as a new feature. Rerun your \"worst\" and \"best\" model from HW2, including this new feature along with your old features. Describe your results.\n",
    "- Use the PCA outputs you got from running PCA above as your features. Rerun your \"worst\" and \"best\" model from HW2, with the PCA features instead of your old features. Describe your results.\n",
    "- Give your conclusions on the use of k-Means and PCA on the Diabetes dataset"
   ]
  },
  {
   "cell_type": "code",
   "execution_count": 194,
   "metadata": {
    "collapsed": true
   },
   "outputs": [],
   "source": [
    "import pandas as pd\n",
    "import matplotlib.pyplot as plt\n",
    "import numpy as np\n",
    "%matplotlib inline"
   ]
  },
  {
   "cell_type": "code",
   "execution_count": 195,
   "metadata": {
    "collapsed": true
   },
   "outputs": [],
   "source": [
    "plt.style.use('ggplot')"
   ]
  },
  {
   "cell_type": "code",
   "execution_count": 196,
   "metadata": {
    "collapsed": false
   },
   "outputs": [],
   "source": [
    "url = 'https://archive.ics.uci.edu/ml/machine-learning-databases/pima-indians-diabetes/pima-indians-diabetes.data'\n",
    "cols = ['pregnancies','glucose','bp','skin','insulin','bmi','ped','age','class']\n",
    "df = pd.read_csv(url, header=None)\n",
    "df.columns = cols"
   ]
  },
  {
   "cell_type": "code",
   "execution_count": 197,
   "metadata": {
    "collapsed": false
   },
   "outputs": [],
   "source": [
    "# necessary?\n",
    "df['class'] = pd.Categorical(df['class'])"
   ]
  },
  {
   "cell_type": "code",
   "execution_count": 198,
   "metadata": {
    "collapsed": false
   },
   "outputs": [
    {
     "data": {
      "text/html": [
       "<div>\n",
       "<table border=\"1\" class=\"dataframe\">\n",
       "  <thead>\n",
       "    <tr style=\"text-align: right;\">\n",
       "      <th></th>\n",
       "      <th>pregnancies</th>\n",
       "      <th>glucose</th>\n",
       "      <th>bp</th>\n",
       "      <th>skin</th>\n",
       "      <th>insulin</th>\n",
       "      <th>bmi</th>\n",
       "      <th>ped</th>\n",
       "      <th>age</th>\n",
       "    </tr>\n",
       "  </thead>\n",
       "  <tbody>\n",
       "    <tr>\n",
       "      <th>count</th>\n",
       "      <td>768.000</td>\n",
       "      <td>768.000</td>\n",
       "      <td>768.000</td>\n",
       "      <td>768.000</td>\n",
       "      <td>768.000</td>\n",
       "      <td>768.000</td>\n",
       "      <td>768.000</td>\n",
       "      <td>768.000</td>\n",
       "    </tr>\n",
       "    <tr>\n",
       "      <th>mean</th>\n",
       "      <td>3.845</td>\n",
       "      <td>120.895</td>\n",
       "      <td>69.105</td>\n",
       "      <td>20.536</td>\n",
       "      <td>79.799</td>\n",
       "      <td>31.993</td>\n",
       "      <td>0.472</td>\n",
       "      <td>33.241</td>\n",
       "    </tr>\n",
       "    <tr>\n",
       "      <th>std</th>\n",
       "      <td>3.370</td>\n",
       "      <td>31.973</td>\n",
       "      <td>19.356</td>\n",
       "      <td>15.952</td>\n",
       "      <td>115.244</td>\n",
       "      <td>7.884</td>\n",
       "      <td>0.331</td>\n",
       "      <td>11.760</td>\n",
       "    </tr>\n",
       "    <tr>\n",
       "      <th>min</th>\n",
       "      <td>0.000</td>\n",
       "      <td>0.000</td>\n",
       "      <td>0.000</td>\n",
       "      <td>0.000</td>\n",
       "      <td>0.000</td>\n",
       "      <td>0.000</td>\n",
       "      <td>0.078</td>\n",
       "      <td>21.000</td>\n",
       "    </tr>\n",
       "    <tr>\n",
       "      <th>25%</th>\n",
       "      <td>1.000</td>\n",
       "      <td>99.000</td>\n",
       "      <td>62.000</td>\n",
       "      <td>0.000</td>\n",
       "      <td>0.000</td>\n",
       "      <td>27.300</td>\n",
       "      <td>0.244</td>\n",
       "      <td>24.000</td>\n",
       "    </tr>\n",
       "    <tr>\n",
       "      <th>50%</th>\n",
       "      <td>3.000</td>\n",
       "      <td>117.000</td>\n",
       "      <td>72.000</td>\n",
       "      <td>23.000</td>\n",
       "      <td>30.500</td>\n",
       "      <td>32.000</td>\n",
       "      <td>0.372</td>\n",
       "      <td>29.000</td>\n",
       "    </tr>\n",
       "    <tr>\n",
       "      <th>75%</th>\n",
       "      <td>6.000</td>\n",
       "      <td>140.250</td>\n",
       "      <td>80.000</td>\n",
       "      <td>32.000</td>\n",
       "      <td>127.250</td>\n",
       "      <td>36.600</td>\n",
       "      <td>0.626</td>\n",
       "      <td>41.000</td>\n",
       "    </tr>\n",
       "    <tr>\n",
       "      <th>max</th>\n",
       "      <td>17.000</td>\n",
       "      <td>199.000</td>\n",
       "      <td>122.000</td>\n",
       "      <td>99.000</td>\n",
       "      <td>846.000</td>\n",
       "      <td>67.100</td>\n",
       "      <td>2.420</td>\n",
       "      <td>81.000</td>\n",
       "    </tr>\n",
       "  </tbody>\n",
       "</table>\n",
       "</div>"
      ],
      "text/plain": [
       "       pregnancies  glucose      bp    skin  insulin     bmi     ped     age\n",
       "count      768.000  768.000 768.000 768.000  768.000 768.000 768.000 768.000\n",
       "mean         3.845  120.895  69.105  20.536   79.799  31.993   0.472  33.241\n",
       "std          3.370   31.973  19.356  15.952  115.244   7.884   0.331  11.760\n",
       "min          0.000    0.000   0.000   0.000    0.000   0.000   0.078  21.000\n",
       "25%          1.000   99.000  62.000   0.000    0.000  27.300   0.244  24.000\n",
       "50%          3.000  117.000  72.000  23.000   30.500  32.000   0.372  29.000\n",
       "75%          6.000  140.250  80.000  32.000  127.250  36.600   0.626  41.000\n",
       "max         17.000  199.000 122.000  99.000  846.000  67.100   2.420  81.000"
      ]
     },
     "execution_count": 198,
     "metadata": {},
     "output_type": "execute_result"
    }
   ],
   "source": [
    "df.describe()"
   ]
  },
  {
   "cell_type": "code",
   "execution_count": 199,
   "metadata": {
    "collapsed": false,
    "scrolled": true
   },
   "outputs": [
    {
     "data": {
      "text/html": [
       "<div>\n",
       "<table border=\"1\" class=\"dataframe\">\n",
       "  <thead>\n",
       "    <tr style=\"text-align: right;\">\n",
       "      <th></th>\n",
       "      <th>pregnancies</th>\n",
       "      <th>glucose</th>\n",
       "      <th>bp</th>\n",
       "      <th>skin</th>\n",
       "      <th>insulin</th>\n",
       "      <th>bmi</th>\n",
       "      <th>ped</th>\n",
       "      <th>age</th>\n",
       "      <th>class</th>\n",
       "    </tr>\n",
       "  </thead>\n",
       "  <tbody>\n",
       "    <tr>\n",
       "      <th>763</th>\n",
       "      <td>10</td>\n",
       "      <td>101</td>\n",
       "      <td>76</td>\n",
       "      <td>48</td>\n",
       "      <td>180</td>\n",
       "      <td>32.900</td>\n",
       "      <td>0.171</td>\n",
       "      <td>63</td>\n",
       "      <td>0</td>\n",
       "    </tr>\n",
       "    <tr>\n",
       "      <th>764</th>\n",
       "      <td>2</td>\n",
       "      <td>122</td>\n",
       "      <td>70</td>\n",
       "      <td>27</td>\n",
       "      <td>0</td>\n",
       "      <td>36.800</td>\n",
       "      <td>0.340</td>\n",
       "      <td>27</td>\n",
       "      <td>0</td>\n",
       "    </tr>\n",
       "    <tr>\n",
       "      <th>765</th>\n",
       "      <td>5</td>\n",
       "      <td>121</td>\n",
       "      <td>72</td>\n",
       "      <td>23</td>\n",
       "      <td>112</td>\n",
       "      <td>26.200</td>\n",
       "      <td>0.245</td>\n",
       "      <td>30</td>\n",
       "      <td>0</td>\n",
       "    </tr>\n",
       "    <tr>\n",
       "      <th>766</th>\n",
       "      <td>1</td>\n",
       "      <td>126</td>\n",
       "      <td>60</td>\n",
       "      <td>0</td>\n",
       "      <td>0</td>\n",
       "      <td>30.100</td>\n",
       "      <td>0.349</td>\n",
       "      <td>47</td>\n",
       "      <td>1</td>\n",
       "    </tr>\n",
       "    <tr>\n",
       "      <th>767</th>\n",
       "      <td>1</td>\n",
       "      <td>93</td>\n",
       "      <td>70</td>\n",
       "      <td>31</td>\n",
       "      <td>0</td>\n",
       "      <td>30.400</td>\n",
       "      <td>0.315</td>\n",
       "      <td>23</td>\n",
       "      <td>0</td>\n",
       "    </tr>\n",
       "  </tbody>\n",
       "</table>\n",
       "</div>"
      ],
      "text/plain": [
       "     pregnancies  glucose  bp  skin  insulin    bmi   ped  age class\n",
       "763           10      101  76    48      180 32.900 0.171   63     0\n",
       "764            2      122  70    27        0 36.800 0.340   27     0\n",
       "765            5      121  72    23      112 26.200 0.245   30     0\n",
       "766            1      126  60     0        0 30.100 0.349   47     1\n",
       "767            1       93  70    31        0 30.400 0.315   23     0"
      ]
     },
     "execution_count": 199,
     "metadata": {},
     "output_type": "execute_result"
    }
   ],
   "source": [
    "df.tail()"
   ]
  },
  {
   "cell_type": "markdown",
   "metadata": {},
   "source": [
    "### dataset and observations\n",
    "\n",
    "<strong><i>goal:</i></strong> To determine the most effecitve machine learning algorithm for predicting diabetes given the provided dataset\n",
    "\n",
    "<strong><i>preliminary observations:</i></strong>\n",
    "<ul>\n",
    "<li>8 attributes and a positive/negative diabetes diagnosis</li>\n",
    "<li>768 Pima Indian patients</li>\n",
    "<li>all patients are female</li>\n",
    "<li>all patients at leats 21 years of age</li>\n",
    "<li>all features are numeric</li>\n",
    "<li>overall diagnoses rate is ~35%</li>\n",
    "</ul>\n",
    "\n",
    "\n",
    "<strong><i>data dictionary:</i></strong>\n",
    "<ul>\n",
    "<li><strong>preg</strong> (int) - <i>Number of times pregnant</i></li>\n",
    "<li><strong>glu</strong> (int) - <i>Plasma glucose concentration a 2 hours in an oral glucose tolerance test</i></li>\n",
    "<li><strong>bp</strong> (int) - <i>Diastolic blood pressure (mm Hg)</i></li>\n",
    "<li><strong>skin</strong> (int) - <i>Triceps skin fold thickness (mm)</i></li>\n",
    "<li><strong>insulin</strong> (int) - <i>2-Hour serum insulin (mu U/ml)</i></li>\n",
    "<li><strong>bmi</strong> (float) - <i>Body mass index (weight in kg/(height in m)^2)</i></li>\n",
    "<li><strong>ped</strong> (float) - <i>Diabetes pedigree function</i></li>\n",
    "<li><strong>age</strong> (int) - <i>Age (years)</i></li>\n",
    "<li><strong>class</strong> (int) - <i>Class variable (0 or 1) - 1 is a positive diabetes diagnosis</i></li>\n",
    "</ul>"
   ]
  },
  {
   "cell_type": "markdown",
   "metadata": {},
   "source": [
    "### handle missing data"
   ]
  },
  {
   "cell_type": "code",
   "execution_count": 200,
   "metadata": {
    "collapsed": true
   },
   "outputs": [],
   "source": [
    "# Filling glucose, bp, skin, and insulin with np.nan as \"0\" values are meaningless\n",
    "for feature in ['glucose','bp','skin','insulin','bmi']:\n",
    "    df.loc[:,feature].replace(to_replace=0, value=np.nan, inplace=True)"
   ]
  },
  {
   "cell_type": "code",
   "execution_count": 201,
   "metadata": {
    "collapsed": false
   },
   "outputs": [],
   "source": [
    "# fill null records with median of that feature\n",
    "for f in ['glucose','bmi','bp','insulin','skin']:\n",
    "    med = df[f].median()\n",
    "    df[f].fillna(med, inplace=True)"
   ]
  },
  {
   "cell_type": "markdown",
   "metadata": {},
   "source": [
    "### hw2 performance summary\n",
    "My HW2 performnce in the Pima Indians Diabetes dataset was good, but I see areas for improvement.  I spent considerable trying to understand the dataset and create a good data dictionary, and it paid off.  When I wasn't sure about the best course of action (like deciding between two methods of handling missing data), I created tried both, and I ended up with better overall performance as a result.\n",
    "\n",
    "asdf"
   ]
  },
  {
   "cell_type": "markdown",
   "metadata": {},
   "source": [
    "### split and scale data"
   ]
  },
  {
   "cell_type": "code",
   "execution_count": 202,
   "metadata": {
    "collapsed": true
   },
   "outputs": [],
   "source": [
    "from sklearn.preprocessing import StandardScaler\n",
    "from sklearn.cross_validation import train_test_split, ShuffleSplit"
   ]
  },
  {
   "cell_type": "code",
   "execution_count": 203,
   "metadata": {
    "collapsed": false
   },
   "outputs": [],
   "source": [
    "# separate the data set into features and prediction\n",
    "X = df.drop('class',axis=1)\n",
    "y = df['class']"
   ]
  },
  {
   "cell_type": "code",
   "execution_count": 204,
   "metadata": {
    "collapsed": true
   },
   "outputs": [],
   "source": [
    "# scale data\n",
    "scale = StandardScaler()\n",
    "X_scale = pd.DataFrame(scale.fit_transform(X))\n",
    "X_scale.columns = X.columns"
   ]
  },
  {
   "cell_type": "code",
   "execution_count": 205,
   "metadata": {
    "collapsed": false
   },
   "outputs": [],
   "source": [
    "X_train, X_test, y_train, y_test = train_test_split(X_scale, y, test_size=0.25, random_state=0)\n",
    "cv = ShuffleSplit(X_train.shape[0], n_iter=10, test_size=0.25, random_state=0)"
   ]
  },
  {
   "cell_type": "markdown",
   "metadata": {},
   "source": [
    "### k-means clustering"
   ]
  },
  {
   "cell_type": "code",
   "execution_count": 206,
   "metadata": {
    "collapsed": true
   },
   "outputs": [],
   "source": [
    "from sklearn.cluster import KMeans\n",
    "from sklearn.metrics import silhouette_score"
   ]
  },
  {
   "cell_type": "code",
   "execution_count": 207,
   "metadata": {
    "collapsed": false
   },
   "outputs": [
    {
     "data": {
      "image/png": "[encoded data removed]",
      "text/plain": [
       "<matplotlib.figure.Figure at 0x13b7cba8>"
      ]
     },
     "metadata": {},
     "output_type": "display_data"
    }
   ],
   "source": [
    "# finding the elbow plotting inertia\n",
    "x = []\n",
    "y = []\n",
    "for n in range(1,30):\n",
    "    km2 = KMeans(n_clusters=n)\n",
    "    km2.fit(X_train)\n",
    "    x.append(n)\n",
    "    y.append(km2.inertia_)\n",
    "    \n",
    "plt.plot(x, y);"
   ]
  },
  {
   "cell_type": "code",
   "execution_count": 208,
   "metadata": {
    "collapsed": false
   },
   "outputs": [
    {
     "data": {
      "image/png": "[encoded data removed]",
      "text/plain": [
       "<matplotlib.figure.Figure at 0x13861278>"
      ]
     },
     "metadata": {},
     "output_type": "display_data"
    }
   ],
   "source": [
    "# not a clear elbow above, so plotting up to 8 clusters\n",
    "plt.plot(x[:8], y[:8]);"
   ]
  },
  {
   "cell_type": "code",
   "execution_count": 220,
   "metadata": {
    "collapsed": false
   },
   "outputs": [
    {
     "data": {
      "image/png": "[encoded data removed]",
      "text/plain": [
       "<matplotlib.figure.Figure at 0x143b9c50>"
      ]
     },
     "metadata": {},
     "output_type": "display_data"
    }
   ],
   "source": [
    "# plotting silhouette score\n",
    "x = []\n",
    "y = []\n",
    "for n in range(2,8):\n",
    "    km2 = KMeans(n_clusters=n)\n",
    "    km2.fit(X_train)\n",
    "    centers = km2.fit_predict(X_scale)\n",
    "\n",
    "    x.append(n)\n",
    "    y.append(silhouette_score(X_scale, centers))\n",
    "\n",
    "plt.plot(x,y);"
   ]
  },
  {
   "cell_type": "markdown",
   "metadata": {},
   "source": [
    "#### using 4 clusters given apparent elbow and increased silhouette score"
   ]
  },
  {
   "cell_type": "code",
   "execution_count": 250,
   "metadata": {
    "collapsed": true
   },
   "outputs": [],
   "source": [
    "# create kmeans with 4 clusters, get cluster labels\n",
    "km = KMeans(n_clusters=4, n_init=20)\n",
    "cluster_labels = km.fit_predict(X_train)"
   ]
  },
  {
   "cell_type": "code",
   "execution_count": 251,
   "metadata": {
    "collapsed": false
   },
   "outputs": [
    {
     "name": "stdout",
     "output_type": "stream",
     "text": [
      "inertia:\t 2959.83\n",
      "silhouette:\t 0.19138\n"
     ]
    }
   ],
   "source": [
    "# get specific inertia / silhouette score\n",
    "print('inertia:\\t {:.2f}'.format(km.inertia_))\n",
    "print('silhouette:\\t {:.5f}'.format(silhouette_score(X_train, cluster_labels)))"
   ]
  },
  {
   "cell_type": "code",
   "execution_count": 254,
   "metadata": {
    "collapsed": false,
    "scrolled": false
   },
   "outputs": [
    {
     "data": {
      "text/html": [
       "<div>\n",
       "<table border=\"1\" class=\"dataframe\">\n",
       "  <thead>\n",
       "    <tr style=\"text-align: right;\">\n",
       "      <th></th>\n",
       "      <th>rotund</th>\n",
       "      <th>baby_mommas</th>\n",
       "      <th>young_healthy</th>\n",
       "      <th>at_risk</th>\n",
       "    </tr>\n",
       "  </thead>\n",
       "  <tbody>\n",
       "    <tr>\n",
       "      <th>pregnancies</th>\n",
       "      <td>1.821</td>\n",
       "      <td>7.509</td>\n",
       "      <td>2.371</td>\n",
       "      <td>3.611</td>\n",
       "    </tr>\n",
       "    <tr>\n",
       "      <th>glucose</th>\n",
       "      <td>124.007</td>\n",
       "      <td>132.199</td>\n",
       "      <td>107.096</td>\n",
       "      <td>160.056</td>\n",
       "    </tr>\n",
       "    <tr>\n",
       "      <th>bp</th>\n",
       "      <td>74.979</td>\n",
       "      <td>78.801</td>\n",
       "      <td>67.319</td>\n",
       "      <td>70.833</td>\n",
       "    </tr>\n",
       "    <tr>\n",
       "      <th>skin</th>\n",
       "      <td>37.221</td>\n",
       "      <td>29.766</td>\n",
       "      <td>23.655</td>\n",
       "      <td>32.722</td>\n",
       "    </tr>\n",
       "    <tr>\n",
       "      <th>insulin</th>\n",
       "      <td>131.407</td>\n",
       "      <td>134.029</td>\n",
       "      <td>114.039</td>\n",
       "      <td>411.361</td>\n",
       "    </tr>\n",
       "    <tr>\n",
       "      <th>bmi</th>\n",
       "      <td>39.517</td>\n",
       "      <td>32.513</td>\n",
       "      <td>28.077</td>\n",
       "      <td>35.803</td>\n",
       "    </tr>\n",
       "    <tr>\n",
       "      <th>ped</th>\n",
       "      <td>0.549</td>\n",
       "      <td>0.455</td>\n",
       "      <td>0.406</td>\n",
       "      <td>0.615</td>\n",
       "    </tr>\n",
       "    <tr>\n",
       "      <th>age</th>\n",
       "      <td>29.029</td>\n",
       "      <td>47.123</td>\n",
       "      <td>26.358</td>\n",
       "      <td>32.944</td>\n",
       "    </tr>\n",
       "  </tbody>\n",
       "</table>\n",
       "</div>"
      ],
      "text/plain": [
       "             rotund  baby_mommas  young_healthy  at_risk\n",
       "pregnancies   1.821        7.509          2.371    3.611\n",
       "glucose     124.007      132.199        107.096  160.056\n",
       "bp           74.979       78.801         67.319   70.833\n",
       "skin         37.221       29.766         23.655   32.722\n",
       "insulin     131.407      134.029        114.039  411.361\n",
       "bmi          39.517       32.513         28.077   35.803\n",
       "ped           0.549        0.455          0.406    0.615\n",
       "age          29.029       47.123         26.358   32.944"
      ]
     },
     "execution_count": 254,
     "metadata": {},
     "output_type": "execute_result"
    }
   ],
   "source": [
    "# show cluster centers\n",
    "pd.set_option('display.float_format', lambda x: '%.3f' % x)\n",
    "columns = {str(x): scale.inverse_transform(km.cluster_centers_[x]) for x in range(0,len(km.cluster_centers_))}\n",
    "dfclus = pd.DataFrame(columns, index=X.columns).copy()\n",
    "dfclus.columns=['rotund','baby_mommas','young_healthy','at_risk']\n",
    "dfclus"
   ]
  },
  {
   "cell_type": "code",
   "execution_count": 131,
   "metadata": {
    "collapsed": false,
    "scrolled": true
   },
   "outputs": [
    {
     "data": {
      "image/png": "[encoded data removed]",
      "text/plain": [
       "<matplotlib.figure.Figure at 0x118fe0f0>"
      ]
     },
     "metadata": {},
     "output_type": "display_data"
    }
   ],
   "source": [
    "# Plot % diagnosis per cluster\n",
    "dfcl = pd.DataFrame(zip(cluster_labels, y_train), columns=['clus','class'])\n",
    "dfcl['clus'] = dfcl.clus.map({0: 'baby_mommas',1:'at_risk',2:'rotund',3:'young_healthy'})\n",
    "(dfcl.groupby(['clus']).sum() / dfcl.groupby(['clus']).count()*100).plot(kind='barh', color='k', legend=None);"
   ]
  },
  {
   "cell_type": "markdown",
   "metadata": {},
   "source": [
    "#### clustering yields some interesting results:\n",
    "- <strong>baby_mommas</strong> - 7.5 pregnancies!, highest BP of the group, oldest (47 yo)\n",
    "- <strong>at_risk</strong> - 3.6 pregancies, highest glucose (upper quartile), highest insulin, 32 yo, highest % positive diagnosis\n",
    "- <strong>rotund</strong> - second highest BP, but only 29 years old.  Highest BMI and skin thickenss...\n",
    "- <strong>young_healthy</strong> - 2.4 pregnancies and 26 yo. Low glucose and insulin, and lowest BP and BMI.  Lowest % positive diagnosis\n",
    "\n",
    "Overall, silhouette score of 0.191 isn't that high, but intuitively it seems the clusters are reasonably different people."
   ]
  },
  {
   "cell_type": "markdown",
   "metadata": {},
   "source": [
    "### principal component analysis"
   ]
  },
  {
   "cell_type": "code",
   "execution_count": 153,
   "metadata": {
    "collapsed": true
   },
   "outputs": [],
   "source": [
    "from sklearn.decomposition import PCA"
   ]
  },
  {
   "cell_type": "code",
   "execution_count": 157,
   "metadata": {
    "collapsed": false
   },
   "outputs": [
    {
     "data": {
      "text/plain": [
       "PCA(copy=True, n_components=None, whiten=True)"
      ]
     },
     "execution_count": 157,
     "metadata": {},
     "output_type": "execute_result"
    }
   ],
   "source": [
    "# create PCA model with 8 components (8 features)\n",
    "# whiten set to True as PC's will be fed as input to models downstream\n",
    "pca = PCA(whiten=True)#PCA(n_components=8, whiten=True)\n",
    "pca.fit(X_train)"
   ]
  },
  {
   "cell_type": "code",
   "execution_count": 158,
   "metadata": {
    "collapsed": false
   },
   "outputs": [
    {
     "data": {
      "text/plain": [
       "array([ 2.27338272,  1.56631747,  1.20280911,  0.92002833,  0.78105442,\n",
       "        0.53265018,  0.46997775,  0.38272513])"
      ]
     },
     "execution_count": 158,
     "metadata": {},
     "output_type": "execute_result"
    }
   ],
   "source": [
    "pca.explained_variance_"
   ]
  },
  {
   "cell_type": "code",
   "execution_count": 156,
   "metadata": {
    "collapsed": false
   },
   "outputs": [
    {
     "data": {
      "text/plain": [
       "[<matplotlib.lines.Line2D at 0x1314a898>]"
      ]
     },
     "execution_count": 156,
     "metadata": {},
     "output_type": "execute_result"
    },
    {
     "data": {
      "image/png": "[encoded data removed]",
      "text/plain": [
       "<matplotlib.figure.Figure at 0x130476d8>"
      ]
     },
     "metadata": {},
     "output_type": "display_data"
    }
   ],
   "source": [
    "x = [i+1 for i in range(8)]\n",
    "y = pca.explained_variance_\n",
    "plt.plot(x,y)"
   ]
  },
  {
   "cell_type": "code",
   "execution_count": null,
   "metadata": {
    "collapsed": true
   },
   "outputs": [],
   "source": []
  }
 ],
 "metadata": {
  "kernelspec": {
   "display_name": "Python 2",
   "language": "python",
   "name": "python2"
  },
  "language_info": {
   "codemirror_mode": {
    "name": "ipython",
    "version": 2
   },
   "file_extension": ".py",
   "mimetype": "text/x-python",
   "name": "python",
   "nbconvert_exporter": "python",
   "pygments_lexer": "ipython2",
   "version": "2.7.11"
  }
 },
 "nbformat": 4,
 "nbformat_minor": 0
}
