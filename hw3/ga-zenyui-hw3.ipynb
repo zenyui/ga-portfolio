{
 "cells": [
  {
   "cell_type": "markdown",
   "metadata": {},
   "source": [
    "# Pima Indian Diabetes Dataset - GA HW #3\n",
    "### Zen Yui | 2016-02-27"
   ]
  },
  {
   "cell_type": "code",
   "execution_count": 116,
   "metadata": {
    "collapsed": true
   },
   "outputs": [],
   "source": [
    "import pandas as pd\n",
    "import matplotlib.pyplot as plt\n",
    "import numpy as np\n",
    "from sklearn.grid_search import GridSearchCV\n",
    "%matplotlib inline"
   ]
  },
  {
   "cell_type": "code",
   "execution_count": 158,
   "metadata": {
    "collapsed": true
   },
   "outputs": [],
   "source": [
    "from sklearn.metrics import accuracy_score\n",
    "from sklearn.metrics import precision_score\n",
    "from sklearn.metrics import recall_score\n",
    "from sklearn.metrics import f1_score"
   ]
  },
  {
   "cell_type": "code",
   "execution_count": 2,
   "metadata": {
    "collapsed": true
   },
   "outputs": [],
   "source": [
    "plt.style.use('ggplot')"
   ]
  },
  {
   "cell_type": "code",
   "execution_count": 3,
   "metadata": {
    "collapsed": false
   },
   "outputs": [],
   "source": [
    "url = 'https://archive.ics.uci.edu/ml/machine-learning-databases/pima-indians-diabetes/pima-indians-diabetes.data'\n",
    "cols = ['pregnancies','glucose','bp','skin','insulin','bmi','ped','age','class']\n",
    "df = pd.read_csv(url, header=None)\n",
    "df.columns = cols"
   ]
  },
  {
   "cell_type": "code",
   "execution_count": 4,
   "metadata": {
    "collapsed": false
   },
   "outputs": [],
   "source": [
    "# necessary?\n",
    "df['class'] = pd.Categorical(df['class'])"
   ]
  },
  {
   "cell_type": "code",
   "execution_count": 5,
   "metadata": {
    "collapsed": false
   },
   "outputs": [
    {
     "data": {
      "text/html": [
       "<div>\n",
       "<table border=\"1\" class=\"dataframe\">\n",
       "  <thead>\n",
       "    <tr style=\"text-align: right;\">\n",
       "      <th></th>\n",
       "      <th>pregnancies</th>\n",
       "      <th>glucose</th>\n",
       "      <th>bp</th>\n",
       "      <th>skin</th>\n",
       "      <th>insulin</th>\n",
       "      <th>bmi</th>\n",
       "      <th>ped</th>\n",
       "      <th>age</th>\n",
       "    </tr>\n",
       "  </thead>\n",
       "  <tbody>\n",
       "    <tr>\n",
       "      <th>count</th>\n",
       "      <td>768.000000</td>\n",
       "      <td>768.000000</td>\n",
       "      <td>768.000000</td>\n",
       "      <td>768.000000</td>\n",
       "      <td>768.000000</td>\n",
       "      <td>768.000000</td>\n",
       "      <td>768.000000</td>\n",
       "      <td>768.000000</td>\n",
       "    </tr>\n",
       "    <tr>\n",
       "      <th>mean</th>\n",
       "      <td>3.845052</td>\n",
       "      <td>120.894531</td>\n",
       "      <td>69.105469</td>\n",
       "      <td>20.536458</td>\n",
       "      <td>79.799479</td>\n",
       "      <td>31.992578</td>\n",
       "      <td>0.471876</td>\n",
       "      <td>33.240885</td>\n",
       "    </tr>\n",
       "    <tr>\n",
       "      <th>std</th>\n",
       "      <td>3.369578</td>\n",
       "      <td>31.972618</td>\n",
       "      <td>19.355807</td>\n",
       "      <td>15.952218</td>\n",
       "      <td>115.244002</td>\n",
       "      <td>7.884160</td>\n",
       "      <td>0.331329</td>\n",
       "      <td>11.760232</td>\n",
       "    </tr>\n",
       "    <tr>\n",
       "      <th>min</th>\n",
       "      <td>0.000000</td>\n",
       "      <td>0.000000</td>\n",
       "      <td>0.000000</td>\n",
       "      <td>0.000000</td>\n",
       "      <td>0.000000</td>\n",
       "      <td>0.000000</td>\n",
       "      <td>0.078000</td>\n",
       "      <td>21.000000</td>\n",
       "    </tr>\n",
       "    <tr>\n",
       "      <th>25%</th>\n",
       "      <td>1.000000</td>\n",
       "      <td>99.000000</td>\n",
       "      <td>62.000000</td>\n",
       "      <td>0.000000</td>\n",
       "      <td>0.000000</td>\n",
       "      <td>27.300000</td>\n",
       "      <td>0.243750</td>\n",
       "      <td>24.000000</td>\n",
       "    </tr>\n",
       "    <tr>\n",
       "      <th>50%</th>\n",
       "      <td>3.000000</td>\n",
       "      <td>117.000000</td>\n",
       "      <td>72.000000</td>\n",
       "      <td>23.000000</td>\n",
       "      <td>30.500000</td>\n",
       "      <td>32.000000</td>\n",
       "      <td>0.372500</td>\n",
       "      <td>29.000000</td>\n",
       "    </tr>\n",
       "    <tr>\n",
       "      <th>75%</th>\n",
       "      <td>6.000000</td>\n",
       "      <td>140.250000</td>\n",
       "      <td>80.000000</td>\n",
       "      <td>32.000000</td>\n",
       "      <td>127.250000</td>\n",
       "      <td>36.600000</td>\n",
       "      <td>0.626250</td>\n",
       "      <td>41.000000</td>\n",
       "    </tr>\n",
       "    <tr>\n",
       "      <th>max</th>\n",
       "      <td>17.000000</td>\n",
       "      <td>199.000000</td>\n",
       "      <td>122.000000</td>\n",
       "      <td>99.000000</td>\n",
       "      <td>846.000000</td>\n",
       "      <td>67.100000</td>\n",
       "      <td>2.420000</td>\n",
       "      <td>81.000000</td>\n",
       "    </tr>\n",
       "  </tbody>\n",
       "</table>\n",
       "</div>"
      ],
      "text/plain": [
       "       pregnancies     glucose          bp        skin     insulin  \\\n",
       "count   768.000000  768.000000  768.000000  768.000000  768.000000   \n",
       "mean      3.845052  120.894531   69.105469   20.536458   79.799479   \n",
       "std       3.369578   31.972618   19.355807   15.952218  115.244002   \n",
       "min       0.000000    0.000000    0.000000    0.000000    0.000000   \n",
       "25%       1.000000   99.000000   62.000000    0.000000    0.000000   \n",
       "50%       3.000000  117.000000   72.000000   23.000000   30.500000   \n",
       "75%       6.000000  140.250000   80.000000   32.000000  127.250000   \n",
       "max      17.000000  199.000000  122.000000   99.000000  846.000000   \n",
       "\n",
       "              bmi         ped         age  \n",
       "count  768.000000  768.000000  768.000000  \n",
       "mean    31.992578    0.471876   33.240885  \n",
       "std      7.884160    0.331329   11.760232  \n",
       "min      0.000000    0.078000   21.000000  \n",
       "25%     27.300000    0.243750   24.000000  \n",
       "50%     32.000000    0.372500   29.000000  \n",
       "75%     36.600000    0.626250   41.000000  \n",
       "max     67.100000    2.420000   81.000000  "
      ]
     },
     "execution_count": 5,
     "metadata": {},
     "output_type": "execute_result"
    }
   ],
   "source": [
    "df.describe()"
   ]
  },
  {
   "cell_type": "code",
   "execution_count": 6,
   "metadata": {
    "collapsed": false,
    "scrolled": true
   },
   "outputs": [
    {
     "data": {
      "text/html": [
       "<div>\n",
       "<table border=\"1\" class=\"dataframe\">\n",
       "  <thead>\n",
       "    <tr style=\"text-align: right;\">\n",
       "      <th></th>\n",
       "      <th>pregnancies</th>\n",
       "      <th>glucose</th>\n",
       "      <th>bp</th>\n",
       "      <th>skin</th>\n",
       "      <th>insulin</th>\n",
       "      <th>bmi</th>\n",
       "      <th>ped</th>\n",
       "      <th>age</th>\n",
       "      <th>class</th>\n",
       "    </tr>\n",
       "  </thead>\n",
       "  <tbody>\n",
       "    <tr>\n",
       "      <th>763</th>\n",
       "      <td>10</td>\n",
       "      <td>101</td>\n",
       "      <td>76</td>\n",
       "      <td>48</td>\n",
       "      <td>180</td>\n",
       "      <td>32.9</td>\n",
       "      <td>0.171</td>\n",
       "      <td>63</td>\n",
       "      <td>0</td>\n",
       "    </tr>\n",
       "    <tr>\n",
       "      <th>764</th>\n",
       "      <td>2</td>\n",
       "      <td>122</td>\n",
       "      <td>70</td>\n",
       "      <td>27</td>\n",
       "      <td>0</td>\n",
       "      <td>36.8</td>\n",
       "      <td>0.340</td>\n",
       "      <td>27</td>\n",
       "      <td>0</td>\n",
       "    </tr>\n",
       "    <tr>\n",
       "      <th>765</th>\n",
       "      <td>5</td>\n",
       "      <td>121</td>\n",
       "      <td>72</td>\n",
       "      <td>23</td>\n",
       "      <td>112</td>\n",
       "      <td>26.2</td>\n",
       "      <td>0.245</td>\n",
       "      <td>30</td>\n",
       "      <td>0</td>\n",
       "    </tr>\n",
       "    <tr>\n",
       "      <th>766</th>\n",
       "      <td>1</td>\n",
       "      <td>126</td>\n",
       "      <td>60</td>\n",
       "      <td>0</td>\n",
       "      <td>0</td>\n",
       "      <td>30.1</td>\n",
       "      <td>0.349</td>\n",
       "      <td>47</td>\n",
       "      <td>1</td>\n",
       "    </tr>\n",
       "    <tr>\n",
       "      <th>767</th>\n",
       "      <td>1</td>\n",
       "      <td>93</td>\n",
       "      <td>70</td>\n",
       "      <td>31</td>\n",
       "      <td>0</td>\n",
       "      <td>30.4</td>\n",
       "      <td>0.315</td>\n",
       "      <td>23</td>\n",
       "      <td>0</td>\n",
       "    </tr>\n",
       "  </tbody>\n",
       "</table>\n",
       "</div>"
      ],
      "text/plain": [
       "     pregnancies  glucose  bp  skin  insulin   bmi    ped  age class\n",
       "763           10      101  76    48      180  32.9  0.171   63     0\n",
       "764            2      122  70    27        0  36.8  0.340   27     0\n",
       "765            5      121  72    23      112  26.2  0.245   30     0\n",
       "766            1      126  60     0        0  30.1  0.349   47     1\n",
       "767            1       93  70    31        0  30.4  0.315   23     0"
      ]
     },
     "execution_count": 6,
     "metadata": {},
     "output_type": "execute_result"
    }
   ],
   "source": [
    "df.tail()"
   ]
  },
  {
   "cell_type": "markdown",
   "metadata": {},
   "source": [
    "### dataset and observations\n",
    "\n",
    "<strong><i>goal:</i></strong> To determine the most effecitve machine learning algorithm for predicting diabetes given the provided dataset\n",
    "\n",
    "<strong><i>preliminary observations:</i></strong>\n",
    "<ul>\n",
    "<li>8 attributes and a positive/negative diabetes diagnosis</li>\n",
    "<li>768 Pima Indian patients</li>\n",
    "<li>all patients are female</li>\n",
    "<li>all patients at leats 21 years of age</li>\n",
    "<li>all features are numeric</li>\n",
    "<li>overall diagnoses rate is ~35%</li>\n",
    "</ul>\n",
    "\n",
    "\n",
    "<strong><i>data dictionary:</i></strong>\n",
    "<ul>\n",
    "<li><strong>preg</strong> (int) - <i>Number of times pregnant</i></li>\n",
    "<li><strong>glu</strong> (int) - <i>Plasma glucose concentration a 2 hours in an oral glucose tolerance test</i></li>\n",
    "<li><strong>bp</strong> (int) - <i>Diastolic blood pressure (mm Hg)</i></li>\n",
    "<li><strong>skin</strong> (int) - <i>Triceps skin fold thickness (mm)</i></li>\n",
    "<li><strong>insulin</strong> (int) - <i>2-Hour serum insulin (mu U/ml)</i></li>\n",
    "<li><strong>bmi</strong> (float) - <i>Body mass index (weight in kg/(height in m)^2)</i></li>\n",
    "<li><strong>ped</strong> (float) - <i>Diabetes pedigree function</i></li>\n",
    "<li><strong>age</strong> (int) - <i>Age (years)</i></li>\n",
    "<li><strong>class</strong> (int) - <i>Class variable (0 or 1) - 1 is a positive diabetes diagnosis</i></li>\n",
    "</ul>"
   ]
  },
  {
   "cell_type": "markdown",
   "metadata": {},
   "source": [
    "### handle missing data"
   ]
  },
  {
   "cell_type": "code",
   "execution_count": 7,
   "metadata": {
    "collapsed": true
   },
   "outputs": [],
   "source": [
    "# Filling glucose, bp, skin, and insulin with np.nan as \"0\" values are meaningless\n",
    "for feature in ['glucose','bp','skin','insulin','bmi']:\n",
    "    df.loc[:,feature].replace(to_replace=0, value=np.nan, inplace=True)"
   ]
  },
  {
   "cell_type": "code",
   "execution_count": 8,
   "metadata": {
    "collapsed": false
   },
   "outputs": [],
   "source": [
    "# fill null records with median of that feature\n",
    "for f in ['glucose','bmi','bp','insulin','skin']:\n",
    "    med = df[f].median()\n",
    "    df[f].fillna(med, inplace=True)"
   ]
  },
  {
   "cell_type": "markdown",
   "metadata": {},
   "source": [
    "### hw2 performance summary\n",
    "My HW2 performnce in the Pima Indians Diabetes dataset was good, but I definitely see areas for improvement.  I spent considerable trying to understand the dataset and create a good data dictionary, and it paid off.  When I wasn't sure about the best course of action (like deciding between two methods of handling missing data), I created tried both, and I ended up with better overall performance as a result.\n",
    "\n",
    "I feel that I could have done a better job with the logistic regression models, as I saw almost no difference in performnace between the no-penalty, lasso, and ridge models.\n",
    "\n",
    "I would also like to do do feature selection / engineering per model as opposed to a global approach, as the models certainly perform better/worse with different datasets."
   ]
  },
  {
   "cell_type": "markdown",
   "metadata": {},
   "source": [
    "### split and scale data"
   ]
  },
  {
   "cell_type": "code",
   "execution_count": 9,
   "metadata": {
    "collapsed": true
   },
   "outputs": [],
   "source": [
    "from sklearn.preprocessing import StandardScaler\n",
    "from sklearn.cross_validation import train_test_split, ShuffleSplit"
   ]
  },
  {
   "cell_type": "code",
   "execution_count": 10,
   "metadata": {
    "collapsed": false
   },
   "outputs": [],
   "source": [
    "# separate the data set into features and prediction\n",
    "X = df.drop('class',axis=1)\n",
    "y = df['class']"
   ]
  },
  {
   "cell_type": "code",
   "execution_count": 11,
   "metadata": {
    "collapsed": true
   },
   "outputs": [],
   "source": [
    "# scale data\n",
    "scale = StandardScaler()\n",
    "X_scale = pd.DataFrame(scale.fit_transform(X))\n",
    "X_scale.columns = X.columns"
   ]
  },
  {
   "cell_type": "code",
   "execution_count": 12,
   "metadata": {
    "collapsed": false
   },
   "outputs": [],
   "source": [
    "X_train, X_test, y_train, y_test = train_test_split(X_scale, y, test_size=0.25, random_state=0)\n",
    "cv = ShuffleSplit(X_train.shape[0], n_iter=10, test_size=0.25, random_state=0)"
   ]
  },
  {
   "cell_type": "markdown",
   "metadata": {},
   "source": [
    "### k-means clustering"
   ]
  },
  {
   "cell_type": "code",
   "execution_count": 13,
   "metadata": {
    "collapsed": true
   },
   "outputs": [],
   "source": [
    "from sklearn.cluster import KMeans\n",
    "from sklearn.metrics import silhouette_score"
   ]
  },
  {
   "cell_type": "code",
   "execution_count": 106,
   "metadata": {
    "collapsed": false
   },
   "outputs": [
    {
     "data": {
      "image/png": "[encoded data removed]",
      "text/plain": [
       "<matplotlib.figure.Figure at 0x17aa3ce68d0>"
      ]
     },
     "metadata": {},
     "output_type": "display_data"
    }
   ],
   "source": [
    "# finding the elbow plotting inertia\n",
    "k = []\n",
    "i = []\n",
    "for n in range(1,30):\n",
    "    km2 = KMeans(n_clusters=n)\n",
    "    km2.fit(X_train)\n",
    "    k.append(n)\n",
    "    i.append(km2.inertia_)\n",
    "    \n",
    "plt.plot(k, i);"
   ]
  },
  {
   "cell_type": "code",
   "execution_count": 108,
   "metadata": {
    "collapsed": false
   },
   "outputs": [
    {
     "data": {
      "image/png": "[encoded data removed]",
      "text/plain": [
       "<matplotlib.figure.Figure at 0x17aa3f7c128>"
      ]
     },
     "metadata": {},
     "output_type": "display_data"
    }
   ],
   "source": [
    "# not a clear elbow above, so plotting up to 8 clusters\n",
    "plt.plot(k[:8], i[:8]);"
   ]
  },
  {
   "cell_type": "code",
   "execution_count": 109,
   "metadata": {
    "collapsed": false
   },
   "outputs": [
    {
     "data": {
      "image/png": "[encoded data removed]",
      "text/plain": [
       "<matplotlib.figure.Figure at 0x17aa3f56ba8>"
      ]
     },
     "metadata": {},
     "output_type": "display_data"
    }
   ],
   "source": [
    "# plotting silhouette score\n",
    "k = []\n",
    "s = []\n",
    "for n in range(2,8):\n",
    "    km2 = KMeans(n_clusters=n)\n",
    "    km2.fit(X_train)\n",
    "    centers = km2.fit_predict(X_scale)\n",
    "\n",
    "    k.append(n)\n",
    "    s.append(silhouette_score(X_scale, centers))\n",
    "\n",
    "plt.plot(k,s);"
   ]
  },
  {
   "cell_type": "markdown",
   "metadata": {},
   "source": [
    "#### using 4 clusters given apparent elbow and increased silhouette score"
   ]
  },
  {
   "cell_type": "code",
   "execution_count": 73,
   "metadata": {
    "collapsed": true
   },
   "outputs": [],
   "source": [
    "# create kmeans with 4 clusters, get cluster labels\n",
    "km = KMeans(n_clusters=4, n_init=20)\n",
    "cluster_labels = km.fit_predict(X_train)"
   ]
  },
  {
   "cell_type": "code",
   "execution_count": 74,
   "metadata": {
    "collapsed": false
   },
   "outputs": [
    {
     "name": "stdout",
     "output_type": "stream",
     "text": [
      "inertia:\t 2959.81\n",
      "silhouette:\t 0.19024\n"
     ]
    }
   ],
   "source": [
    "# get specific inertia / silhouette score\n",
    "print('inertia:\\t {:.2f}'.format(km.inertia_))\n",
    "print('silhouette:\\t {:.5f}'.format(silhouette_score(X_train, cluster_labels)))"
   ]
  },
  {
   "cell_type": "code",
   "execution_count": 76,
   "metadata": {
    "collapsed": false,
    "scrolled": false
   },
   "outputs": [
    {
     "data": {
      "text/html": [
       "<div>\n",
       "<table border=\"1\" class=\"dataframe\">\n",
       "  <thead>\n",
       "    <tr style=\"text-align: right;\">\n",
       "      <th></th>\n",
       "      <th>rotund</th>\n",
       "      <th>baby_mommas</th>\n",
       "      <th>at_risk</th>\n",
       "      <th>young_healthy</th>\n",
       "    </tr>\n",
       "  </thead>\n",
       "  <tbody>\n",
       "    <tr>\n",
       "      <th>pregnancies</th>\n",
       "      <td>1.768</td>\n",
       "      <td>7.500</td>\n",
       "      <td>3.611</td>\n",
       "      <td>2.394</td>\n",
       "    </tr>\n",
       "    <tr>\n",
       "      <th>glucose</th>\n",
       "      <td>124.289</td>\n",
       "      <td>132.052</td>\n",
       "      <td>160.056</td>\n",
       "      <td>106.770</td>\n",
       "    </tr>\n",
       "    <tr>\n",
       "      <th>bp</th>\n",
       "      <td>74.937</td>\n",
       "      <td>78.855</td>\n",
       "      <td>70.833</td>\n",
       "      <td>67.186</td>\n",
       "    </tr>\n",
       "    <tr>\n",
       "      <th>skin</th>\n",
       "      <td>37.070</td>\n",
       "      <td>29.762</td>\n",
       "      <td>32.722</td>\n",
       "      <td>23.606</td>\n",
       "    </tr>\n",
       "    <tr>\n",
       "      <th>insulin</th>\n",
       "      <td>131.317</td>\n",
       "      <td>133.977</td>\n",
       "      <td>411.361</td>\n",
       "      <td>113.894</td>\n",
       "    </tr>\n",
       "    <tr>\n",
       "      <th>bmi</th>\n",
       "      <td>39.417</td>\n",
       "      <td>32.538</td>\n",
       "      <td>35.803</td>\n",
       "      <td>28.000</td>\n",
       "    </tr>\n",
       "    <tr>\n",
       "      <th>ped</th>\n",
       "      <td>0.544</td>\n",
       "      <td>0.457</td>\n",
       "      <td>0.615</td>\n",
       "      <td>0.407</td>\n",
       "    </tr>\n",
       "    <tr>\n",
       "      <th>age</th>\n",
       "      <td>28.894</td>\n",
       "      <td>47.029</td>\n",
       "      <td>32.944</td>\n",
       "      <td>26.398</td>\n",
       "    </tr>\n",
       "  </tbody>\n",
       "</table>\n",
       "</div>"
      ],
      "text/plain": [
       "             rotund  baby_mommas  at_risk  young_healthy\n",
       "pregnancies   1.768        7.500    3.611          2.394\n",
       "glucose     124.289      132.052  160.056        106.770\n",
       "bp           74.937       78.855   70.833         67.186\n",
       "skin         37.070       29.762   32.722         23.606\n",
       "insulin     131.317      133.977  411.361        113.894\n",
       "bmi          39.417       32.538   35.803         28.000\n",
       "ped           0.544        0.457    0.615          0.407\n",
       "age          28.894       47.029   32.944         26.398"
      ]
     },
     "execution_count": 76,
     "metadata": {},
     "output_type": "execute_result"
    }
   ],
   "source": [
    "# show cluster centers\n",
    "pd.set_option('display.float_format', lambda x: '%.3f' % x)\n",
    "columns = {str(x): scale.inverse_transform(km.cluster_centers_[x]) for x in range(0,len(km.cluster_centers_))}\n",
    "dfclus = pd.DataFrame(columns, index=X.columns).copy()\n",
    "dfclus.columns=['rotund','baby_mommas','at_risk','young_healthy']\n",
    "dfclus"
   ]
  },
  {
   "cell_type": "code",
   "execution_count": 82,
   "metadata": {
    "collapsed": false
   },
   "outputs": [
    {
     "data": {
      "text/plain": [
       "{0: 'rotund', 1: 'baby_mommas', 2: 'at_risk', 3: 'young_healthy'}"
      ]
     },
     "execution_count": 82,
     "metadata": {},
     "output_type": "execute_result"
    }
   ],
   "source": []
  },
  {
   "cell_type": "code",
   "execution_count": 83,
   "metadata": {
    "collapsed": false,
    "scrolled": false
   },
   "outputs": [
    {
     "data": {
      "image/png": "[encoded data removed]",
      "text/plain": [
       "<matplotlib.figure.Figure at 0x17aa3d43cc0>"
      ]
     },
     "metadata": {},
     "output_type": "display_data"
    }
   ],
   "source": [
    "# Plot % diagnosis per cluster\n",
    "dfcl = pd.DataFrame(list(zip(cluster_labels, y_train)), columns=['clus','class'])\n",
    "dfcl['clus'] = dfcl.clus.map({i:col for i, col in enumerate(dfclus.columns)})\n",
    "(dfcl.groupby(['clus']).mean()*100).plot(kind='barh', color='k', legend=None);"
   ]
  },
  {
   "cell_type": "markdown",
   "metadata": {},
   "source": [
    "#### clustering yields some interesting results:\n",
    "- <strong>baby_mommas</strong> - 7.5 pregnancies!, highest BP of the group, oldest (47 yo)\n",
    "- <strong>at_risk</strong> - 3.6 pregancies, highest glucose (upper quartile), highest insulin, 32 yo, highest % positive diagnosis\n",
    "- <strong>rotund</strong> - second highest BP, but only 29 years old.  Highest BMI and skin thickenss...\n",
    "- <strong>young_healthy</strong> - 2.4 pregnancies and 26 yo. Low glucose and insulin, and lowest BP and BMI.  Lowest % positive diagnosis\n",
    "\n",
    "Overall, silhouette score of 0.191 isn't that high, but intuitively it seems the clusters are reasonably different people."
   ]
  },
  {
   "cell_type": "markdown",
   "metadata": {},
   "source": [
    "### principal component analysis"
   ]
  },
  {
   "cell_type": "code",
   "execution_count": 84,
   "metadata": {
    "collapsed": true
   },
   "outputs": [],
   "source": [
    "from sklearn.decomposition import PCA"
   ]
  },
  {
   "cell_type": "code",
   "execution_count": 85,
   "metadata": {
    "collapsed": false
   },
   "outputs": [
    {
     "data": {
      "text/plain": [
       "PCA(copy=True, n_components=None, whiten=True)"
      ]
     },
     "execution_count": 85,
     "metadata": {},
     "output_type": "execute_result"
    }
   ],
   "source": [
    "# create PCA model with 8 components (8 features)\n",
    "# whiten set to True as PC's will be fed as input to models downstream\n",
    "pca = PCA(whiten=True)\n",
    "pca.fit(X_train)"
   ]
  },
  {
   "cell_type": "code",
   "execution_count": 86,
   "metadata": {
    "collapsed": false
   },
   "outputs": [
    {
     "data": {
      "text/plain": [
       "array([ 0.27966516,  0.19268398,  0.1479662 ,  0.1131793 ,  0.09608312,\n",
       "        0.06552513,  0.05781534,  0.04708177])"
      ]
     },
     "execution_count": 86,
     "metadata": {},
     "output_type": "execute_result"
    }
   ],
   "source": [
    "pca.explained_variance_ratio_"
   ]
  },
  {
   "cell_type": "code",
   "execution_count": 110,
   "metadata": {
    "collapsed": false
   },
   "outputs": [
    {
     "data": {
      "text/html": [
       "<div>\n",
       "<table border=\"1\" class=\"dataframe\">\n",
       "  <thead>\n",
       "    <tr style=\"text-align: right;\">\n",
       "      <th></th>\n",
       "      <th>explained_variance</th>\n",
       "      <th>var_cumulative</th>\n",
       "      <th>var_cumulative_prior</th>\n",
       "    </tr>\n",
       "  </thead>\n",
       "  <tbody>\n",
       "    <tr>\n",
       "      <th>1</th>\n",
       "      <td>27.967</td>\n",
       "      <td>27.967</td>\n",
       "      <td>0.000</td>\n",
       "    </tr>\n",
       "    <tr>\n",
       "      <th>2</th>\n",
       "      <td>19.268</td>\n",
       "      <td>47.235</td>\n",
       "      <td>27.967</td>\n",
       "    </tr>\n",
       "    <tr>\n",
       "      <th>3</th>\n",
       "      <td>14.797</td>\n",
       "      <td>62.032</td>\n",
       "      <td>47.235</td>\n",
       "    </tr>\n",
       "    <tr>\n",
       "      <th>4</th>\n",
       "      <td>11.318</td>\n",
       "      <td>73.349</td>\n",
       "      <td>62.032</td>\n",
       "    </tr>\n",
       "    <tr>\n",
       "      <th>5</th>\n",
       "      <td>9.608</td>\n",
       "      <td>82.958</td>\n",
       "      <td>73.349</td>\n",
       "    </tr>\n",
       "    <tr>\n",
       "      <th>6</th>\n",
       "      <td>6.553</td>\n",
       "      <td>89.510</td>\n",
       "      <td>82.958</td>\n",
       "    </tr>\n",
       "    <tr>\n",
       "      <th>7</th>\n",
       "      <td>5.782</td>\n",
       "      <td>95.292</td>\n",
       "      <td>89.510</td>\n",
       "    </tr>\n",
       "    <tr>\n",
       "      <th>8</th>\n",
       "      <td>4.708</td>\n",
       "      <td>100.000</td>\n",
       "      <td>95.292</td>\n",
       "    </tr>\n",
       "  </tbody>\n",
       "</table>\n",
       "</div>"
      ],
      "text/plain": [
       "   explained_variance  var_cumulative  var_cumulative_prior\n",
       "1              27.967          27.967                 0.000\n",
       "2              19.268          47.235                27.967\n",
       "3              14.797          62.032                47.235\n",
       "4              11.318          73.349                62.032\n",
       "5               9.608          82.958                73.349\n",
       "6               6.553          89.510                82.958\n",
       "7               5.782          95.292                89.510\n",
       "8               4.708         100.000                95.292"
      ]
     },
     "execution_count": 110,
     "metadata": {},
     "output_type": "execute_result"
    }
   ],
   "source": [
    "# graph explained_variance_ratio values and cumulative sum\n",
    "evr = pca.explained_variance_ratio_ * 100\n",
    "dfev = pd.DataFrame(list(zip(evr,np.cumsum(evr))), columns=['explained_variance','var_cumulative'])\n",
    "dfev.index=[i+1 for i in range(8)]\n",
    "dfev['var_cumulative_prior'] = dfev['var_cumulative'] - dfev['explained_variance']\n",
    "dfev"
   ]
  },
  {
   "cell_type": "code",
   "execution_count": 111,
   "metadata": {
    "collapsed": false
   },
   "outputs": [
    {
     "data": {
      "image/png": "[encoded data removed]",
      "text/plain": [
       "<matplotlib.figure.Figure at 0x17aa744ba90>"
      ]
     },
     "metadata": {},
     "output_type": "display_data"
    }
   ],
   "source": [
    "dfev[['explained_variance','var_cumulative_prior']].plot(kind='bar', stacked=True, color=['k','g'], alpha=0.5);"
   ]
  },
  {
   "cell_type": "markdown",
   "metadata": {},
   "source": [
    "<strong>PCA results</strong>\n",
    "- 82.9% variance explained with 5 features\n",
    "- 89.5% variance explained with 6 features"
   ]
  },
  {
   "cell_type": "markdown",
   "metadata": {},
   "source": [
    "### all_score helper function to measure models"
   ]
  },
  {
   "cell_type": "code",
   "execution_count": 169,
   "metadata": {
    "collapsed": true
   },
   "outputs": [],
   "source": [
    "def all_score(mod_nam, mod, X_test, y_test):\n",
    "    '''Score model according to accuracy, recall, and f1 score\n",
    "        and print scores to screen'''\n",
    "    y_pred = mod.predict(X_test)\n",
    "    \n",
    "    s = round(accuracy_score(y_test, y_pred) * 100, 2)\n",
    "    print(mod_nam + ' accuracy:\\t {:.2f}%'.format(s))\n",
    "    \n",
    "    s = round(precision_score(y_test, y_pred) * 100, 2)\n",
    "    print(mod_nam + ' precision:\\t {:.2f}%'.format(s))\n",
    "    \n",
    "    s = round(recall_score(y_test, y_pred) * 100, 2)\n",
    "    print(mod_nam + ' recall:\\t\\t {:.2f}%'.format(s))\n",
    "    \n",
    "    s = round(f1_score(y_test, y_pred) * 100, 2)\n",
    "    print(mod_nam + ' f1:\\t\\t {:.2f}%'.format(s))"
   ]
  },
  {
   "cell_type": "markdown",
   "metadata": {
    "collapsed": true
   },
   "source": [
    "### applying k-means clusters to hw2 knn model"
   ]
  },
  {
   "cell_type": "code",
   "execution_count": 144,
   "metadata": {
    "collapsed": true
   },
   "outputs": [],
   "source": [
    "# import kNN classifier\n",
    "from sklearn.neighbors import KNeighborsClassifier"
   ]
  },
  {
   "cell_type": "code",
   "execution_count": 145,
   "metadata": {
    "collapsed": true
   },
   "outputs": [],
   "source": [
    "# create kNN classifier, take params from Hw2\n",
    "# {'n_neighbors': 9, 'p': 2, 'weights': 'uniform'}\n",
    "knn_old = KNeighborsClassifier(n_neighbors=9, p=2, weights='uniform')\n",
    "knn_new = KNeighborsClassifier(n_neighbors=9, p=2, weights='uniform')"
   ]
  },
  {
   "cell_type": "code",
   "execution_count": 148,
   "metadata": {
    "collapsed": false
   },
   "outputs": [
    {
     "data": {
      "text/html": [
       "<div>\n",
       "<table border=\"1\" class=\"dataframe\">\n",
       "  <thead>\n",
       "    <tr style=\"text-align: right;\">\n",
       "      <th></th>\n",
       "      <th>pregnancies</th>\n",
       "      <th>glucose</th>\n",
       "      <th>bp</th>\n",
       "      <th>skin</th>\n",
       "      <th>insulin</th>\n",
       "      <th>bmi</th>\n",
       "      <th>ped</th>\n",
       "      <th>age</th>\n",
       "    </tr>\n",
       "  </thead>\n",
       "  <tbody>\n",
       "    <tr>\n",
       "      <th>460</th>\n",
       "      <td>1.531</td>\n",
       "      <td>-0.054</td>\n",
       "      <td>-0.032</td>\n",
       "      <td>-0.809</td>\n",
       "      <td>-0.981</td>\n",
       "      <td>-1.696</td>\n",
       "      <td>0.789</td>\n",
       "      <td>1.256</td>\n",
       "    </tr>\n",
       "    <tr>\n",
       "      <th>738</th>\n",
       "      <td>-0.548</td>\n",
       "      <td>-0.745</td>\n",
       "      <td>-1.025</td>\n",
       "      <td>-1.378</td>\n",
       "      <td>0.224</td>\n",
       "      <td>0.603</td>\n",
       "      <td>-0.057</td>\n",
       "      <td>-1.042</td>\n",
       "    </tr>\n",
       "    <tr>\n",
       "      <th>391</th>\n",
       "      <td>0.343</td>\n",
       "      <td>1.458</td>\n",
       "      <td>0.299</td>\n",
       "      <td>-0.012</td>\n",
       "      <td>-0.182</td>\n",
       "      <td>1.928</td>\n",
       "      <td>-0.398</td>\n",
       "      <td>-0.531</td>\n",
       "    </tr>\n",
       "    <tr>\n",
       "      <th>229</th>\n",
       "      <td>-1.142</td>\n",
       "      <td>-0.153</td>\n",
       "      <td>0.630</td>\n",
       "      <td>0.215</td>\n",
       "      <td>-1.016</td>\n",
       "      <td>1.855</td>\n",
       "      <td>-1.156</td>\n",
       "      <td>-0.786</td>\n",
       "    </tr>\n",
       "    <tr>\n",
       "      <th>96</th>\n",
       "      <td>-0.548</td>\n",
       "      <td>-0.975</td>\n",
       "      <td>-0.859</td>\n",
       "      <td>-0.126</td>\n",
       "      <td>-0.182</td>\n",
       "      <td>-0.124</td>\n",
       "      <td>-1.033</td>\n",
       "      <td>-0.786</td>\n",
       "    </tr>\n",
       "  </tbody>\n",
       "</table>\n",
       "</div>"
      ],
      "text/plain": [
       "     pregnancies  glucose     bp   skin  insulin    bmi    ped    age\n",
       "460        1.531   -0.054 -0.032 -0.809   -0.981 -1.696  0.789  1.256\n",
       "738       -0.548   -0.745 -1.025 -1.378    0.224  0.603 -0.057 -1.042\n",
       "391        0.343    1.458  0.299 -0.012   -0.182  1.928 -0.398 -0.531\n",
       "229       -1.142   -0.153  0.630  0.215   -1.016  1.855 -1.156 -0.786\n",
       "96        -0.548   -0.975 -0.859 -0.126   -0.182 -0.124 -1.033 -0.786"
      ]
     },
     "execution_count": 148,
     "metadata": {},
     "output_type": "execute_result"
    }
   ],
   "source": [
    "X_train.sample(5)"
   ]
  },
  {
   "cell_type": "code",
   "execution_count": 170,
   "metadata": {
    "collapsed": false
   },
   "outputs": [
    {
     "name": "stdout",
     "output_type": "stream",
     "text": [
      "knn_old accuracy:\t 79.69%\n",
      "knn_old precision:\t 73.47%\n",
      "knn_old recall:\t\t 58.06%\n",
      "knn_old f1:\t\t 64.86%\n"
     ]
    }
   ],
   "source": [
    "knn_old.fit(X_train, y_train)\n",
    "all_score('knn_old',knn_old,X_test,y_test)"
   ]
  },
  {
   "cell_type": "code",
   "execution_count": 177,
   "metadata": {
    "collapsed": false
   },
   "outputs": [
    {
     "name": "stdout",
     "output_type": "stream",
     "text": [
      "100 loops, best of 3: 2.23 ms per loop\n"
     ]
    }
   ],
   "source": [
    "%%%timeit\n",
    "knn_old.predict(X_test)"
   ]
  },
  {
   "cell_type": "code",
   "execution_count": 173,
   "metadata": {
    "collapsed": false
   },
   "outputs": [
    {
     "data": {
      "text/html": [
       "<div>\n",
       "<table border=\"1\" class=\"dataframe\">\n",
       "  <thead>\n",
       "    <tr style=\"text-align: right;\">\n",
       "      <th></th>\n",
       "      <th>pregnancies</th>\n",
       "      <th>glucose</th>\n",
       "      <th>bp</th>\n",
       "      <th>skin</th>\n",
       "      <th>insulin</th>\n",
       "      <th>bmi</th>\n",
       "      <th>ped</th>\n",
       "      <th>age</th>\n",
       "      <th>km_label</th>\n",
       "    </tr>\n",
       "  </thead>\n",
       "  <tbody>\n",
       "    <tr>\n",
       "      <th>686</th>\n",
       "      <td>-0.251</td>\n",
       "      <td>0.274</td>\n",
       "      <td>-0.694</td>\n",
       "      <td>-0.012</td>\n",
       "      <td>-0.182</td>\n",
       "      <td>-1.362</td>\n",
       "      <td>-0.477</td>\n",
       "      <td>-0.956</td>\n",
       "      <td>3</td>\n",
       "    </tr>\n",
       "    <tr>\n",
       "      <th>657</th>\n",
       "      <td>-0.845</td>\n",
       "      <td>-0.054</td>\n",
       "      <td>0.630</td>\n",
       "      <td>2.150</td>\n",
       "      <td>0.687</td>\n",
       "      <td>0.938</td>\n",
       "      <td>2.084</td>\n",
       "      <td>0.660</td>\n",
       "      <td>0</td>\n",
       "    </tr>\n",
       "    <tr>\n",
       "      <th>67</th>\n",
       "      <td>-0.548</td>\n",
       "      <td>-0.416</td>\n",
       "      <td>1.622</td>\n",
       "      <td>-0.012</td>\n",
       "      <td>-0.182</td>\n",
       "      <td>1.491</td>\n",
       "      <td>1.127</td>\n",
       "      <td>1.766</td>\n",
       "      <td>1</td>\n",
       "    </tr>\n",
       "    <tr>\n",
       "      <th>562</th>\n",
       "      <td>-0.845</td>\n",
       "      <td>-1.139</td>\n",
       "      <td>-0.363</td>\n",
       "      <td>0.557</td>\n",
       "      <td>-0.738</td>\n",
       "      <td>0.749</td>\n",
       "      <td>-0.214</td>\n",
       "      <td>-0.786</td>\n",
       "      <td>0</td>\n",
       "    </tr>\n",
       "    <tr>\n",
       "      <th>539</th>\n",
       "      <td>-0.251</td>\n",
       "      <td>0.241</td>\n",
       "      <td>1.622</td>\n",
       "      <td>2.264</td>\n",
       "      <td>0.166</td>\n",
       "      <td>0.574</td>\n",
       "      <td>1.498</td>\n",
       "      <td>-0.106</td>\n",
       "      <td>0</td>\n",
       "    </tr>\n",
       "  </tbody>\n",
       "</table>\n",
       "</div>"
      ],
      "text/plain": [
       "     pregnancies  glucose     bp   skin  insulin    bmi    ped    age  \\\n",
       "686       -0.251    0.274 -0.694 -0.012   -0.182 -1.362 -0.477 -0.956   \n",
       "657       -0.845   -0.054  0.630  2.150    0.687  0.938  2.084  0.660   \n",
       "67        -0.548   -0.416  1.622 -0.012   -0.182  1.491  1.127  1.766   \n",
       "562       -0.845   -1.139 -0.363  0.557   -0.738  0.749 -0.214 -0.786   \n",
       "539       -0.251    0.241  1.622  2.264    0.166  0.574  1.498 -0.106   \n",
       "\n",
       "     km_label  \n",
       "686         3  \n",
       "657         0  \n",
       "67          1  \n",
       "562         0  \n",
       "539         0  "
      ]
     },
     "execution_count": 173,
     "metadata": {},
     "output_type": "execute_result"
    }
   ],
   "source": [
    "# add cluster_label as a feature in training/test data\n",
    "X_train_km = X_train.copy()\n",
    "X_train_km['km_label'] = cluster_labels\n",
    "\n",
    "X_test_km = X_test.copy()\n",
    "X_test_km['km_label'] = km.predict(X_test)\n",
    "\n",
    "X_train_km.sample(5)"
   ]
  },
  {
   "cell_type": "code",
   "execution_count": 174,
   "metadata": {
    "collapsed": false
   },
   "outputs": [
    {
     "name": "stdout",
     "output_type": "stream",
     "text": [
      "knn_new accuracy:\t 79.69%\n",
      "knn_new precision:\t 70.91%\n",
      "knn_new recall:\t\t 62.90%\n",
      "knn_new f1:\t\t 66.67%\n"
     ]
    }
   ],
   "source": [
    "knn_new.fit(X_train_km, y_train)\n",
    "all_score('knn_new',knn_new,X_test_km,y_test)"
   ]
  },
  {
   "cell_type": "code",
   "execution_count": 175,
   "metadata": {
    "collapsed": false
   },
   "outputs": [
    {
     "name": "stdout",
     "output_type": "stream",
     "text": [
      "100 loops, best of 3: 2.39 ms per loop\n"
     ]
    }
   ],
   "source": [
    "%%%timeit\n",
    "knn_new.predict(X_test_km)"
   ]
  },
  {
   "cell_type": "markdown",
   "metadata": {},
   "source": [
    "<strong>clusters' impact on knn model:</strong>\n",
    "- equally \"accurate\"\n",
    "- old data set (no clusters) achieved higher precision of 73.47%\n",
    "- new model (with clusters) achieved higher recall and f1 scores\n",
    "- new model ran 0.16ms slower... somewhat neglibible in this application\n",
    "\n",
    "- of course, further model tuning could yield far stronger results with the new feature"
   ]
  },
  {
   "cell_type": "markdown",
   "metadata": {},
   "source": [
    "### applying k-means clusters to hw2 naive-bayes model"
   ]
  },
  {
   "cell_type": "code",
   "execution_count": 178,
   "metadata": {
    "collapsed": true
   },
   "outputs": [],
   "source": [
    "# importing GaussianNB because features are already standardized\n",
    "from sklearn.naive_bayes import GaussianNB"
   ]
  },
  {
   "cell_type": "code",
   "execution_count": 181,
   "metadata": {
    "collapsed": false
   },
   "outputs": [
    {
     "name": "stdout",
     "output_type": "stream",
     "text": [
      "nb_old accuracy:\t 77.08%\n",
      "nb_old precision:\t 67.31%\n",
      "nb_old recall:\t\t 56.45%\n",
      "nb_old f1:\t\t 61.40%\n"
     ]
    }
   ],
   "source": [
    "# create GuassianNB, nothing to tune!\n",
    "nb_old = GaussianNB()\n",
    "nb_old.fit(X_train, y_train);\n",
    "all_score('nb_old', nb_old, X_test, y_test)"
   ]
  },
  {
   "cell_type": "code",
   "execution_count": 183,
   "metadata": {
    "collapsed": false
   },
   "outputs": [
    {
     "name": "stdout",
     "output_type": "stream",
     "text": [
      "10000 loops, best of 3: 96.1 µs per loop\n"
     ]
    }
   ],
   "source": [
    "%%%timeit\n",
    "nb_old.predict(X_test)"
   ]
  },
  {
   "cell_type": "code",
   "execution_count": 182,
   "metadata": {
    "collapsed": false
   },
   "outputs": [
    {
     "name": "stdout",
     "output_type": "stream",
     "text": [
      "nb_new accuracy:\t 79.17%\n",
      "nb_new precision:\t 69.64%\n",
      "nb_new recall:\t\t 62.90%\n",
      "nb_new f1:\t\t 66.10%\n"
     ]
    }
   ],
   "source": [
    "nb_new = GaussianNB()\n",
    "nb_new.fit(X_train_km, y_train);\n",
    "all_score('nb_new', nb_new, X_test_km, y_test)"
   ]
  },
  {
   "cell_type": "code",
   "execution_count": 184,
   "metadata": {
    "collapsed": false
   },
   "outputs": [
    {
     "name": "stdout",
     "output_type": "stream",
     "text": [
      "10000 loops, best of 3: 120 µs per loop\n"
     ]
    }
   ],
   "source": [
    "%%%timeit\n",
    "nb_new.predict(X_test_km)"
   ]
  },
  {
   "cell_type": "markdown",
   "metadata": {},
   "source": [
    "<strong>clusters' impact on naive-bayes model:</strong>\n",
    "- NB achieved higher accuracy, precision, recall, and f1 using the clusters label as a feature!\n",
    "- NB was ~ 30% slower with the clusters label as a feature, but this is negligible\n",
    "- NB performed worse than other models in terms of reliability in HW2, but has significantly higher recall and f1 now\n",
    "- Given new cluster-label feature, NB performs nearly as well as knn!"
   ]
  },
  {
   "cell_type": "markdown",
   "metadata": {},
   "source": [
    "### construct 5 & 6 principal component data sets"
   ]
  },
  {
   "cell_type": "code",
   "execution_count": 245,
   "metadata": {
    "collapsed": false
   },
   "outputs": [
    {
     "data": {
      "text/html": [
       "<div>\n",
       "<table border=\"1\" class=\"dataframe\">\n",
       "  <thead>\n",
       "    <tr style=\"text-align: right;\">\n",
       "      <th></th>\n",
       "      <th>PC1</th>\n",
       "      <th>PC2</th>\n",
       "      <th>PC3</th>\n",
       "      <th>PC4</th>\n",
       "      <th>PC5</th>\n",
       "    </tr>\n",
       "  </thead>\n",
       "  <tbody>\n",
       "    <tr>\n",
       "      <th>187</th>\n",
       "      <td>0.257</td>\n",
       "      <td>0.470</td>\n",
       "      <td>0.007</td>\n",
       "      <td>-0.182</td>\n",
       "      <td>-0.268</td>\n",
       "    </tr>\n",
       "    <tr>\n",
       "      <th>188</th>\n",
       "      <td>0.343</td>\n",
       "      <td>-0.695</td>\n",
       "      <td>0.518</td>\n",
       "      <td>-0.375</td>\n",
       "      <td>-0.762</td>\n",
       "    </tr>\n",
       "    <tr>\n",
       "      <th>189</th>\n",
       "      <td>1.487</td>\n",
       "      <td>-0.159</td>\n",
       "      <td>1.972</td>\n",
       "      <td>1.279</td>\n",
       "      <td>0.861</td>\n",
       "    </tr>\n",
       "    <tr>\n",
       "      <th>190</th>\n",
       "      <td>-0.009</td>\n",
       "      <td>1.438</td>\n",
       "      <td>0.127</td>\n",
       "      <td>-0.285</td>\n",
       "      <td>0.491</td>\n",
       "    </tr>\n",
       "    <tr>\n",
       "      <th>191</th>\n",
       "      <td>0.363</td>\n",
       "      <td>0.710</td>\n",
       "      <td>-0.675</td>\n",
       "      <td>-0.166</td>\n",
       "      <td>-0.169</td>\n",
       "    </tr>\n",
       "  </tbody>\n",
       "</table>\n",
       "</div>"
      ],
      "text/plain": [
       "       PC1    PC2    PC3    PC4    PC5\n",
       "187  0.257  0.470  0.007 -0.182 -0.268\n",
       "188  0.343 -0.695  0.518 -0.375 -0.762\n",
       "189  1.487 -0.159  1.972  1.279  0.861\n",
       "190 -0.009  1.438  0.127 -0.285  0.491\n",
       "191  0.363  0.710 -0.675 -0.166 -0.169"
      ]
     },
     "execution_count": 245,
     "metadata": {},
     "output_type": "execute_result"
    }
   ],
   "source": [
    "# construct PCA model with 5 PC's\n",
    "pca5 = PCA(n_components=5,whiten=True)\n",
    "X_p5_train = pd.DataFrame(pca5.fit_transform(X_train, y_train))\n",
    "X_p5_test = pd.DataFrame(pca5.transform(X_test))\n",
    "\n",
    "X_p5_train.columns = ['PC' + str(c+1) for c in X_p5_train.columns]\n",
    "X_p5_test.columns = X_p5_train.columns\n",
    "X_p5_test.tail()"
   ]
  },
  {
   "cell_type": "code",
   "execution_count": 246,
   "metadata": {
    "collapsed": false
   },
   "outputs": [
    {
     "data": {
      "text/html": [
       "<div>\n",
       "<table border=\"1\" class=\"dataframe\">\n",
       "  <thead>\n",
       "    <tr style=\"text-align: right;\">\n",
       "      <th></th>\n",
       "      <th>PC1</th>\n",
       "      <th>PC2</th>\n",
       "      <th>PC3</th>\n",
       "      <th>PC4</th>\n",
       "      <th>PC5</th>\n",
       "      <th>PC6</th>\n",
       "    </tr>\n",
       "  </thead>\n",
       "  <tbody>\n",
       "    <tr>\n",
       "      <th>187</th>\n",
       "      <td>0.257</td>\n",
       "      <td>0.470</td>\n",
       "      <td>0.007</td>\n",
       "      <td>-0.182</td>\n",
       "      <td>-0.268</td>\n",
       "      <td>0.013</td>\n",
       "    </tr>\n",
       "    <tr>\n",
       "      <th>188</th>\n",
       "      <td>0.343</td>\n",
       "      <td>-0.695</td>\n",
       "      <td>0.518</td>\n",
       "      <td>-0.375</td>\n",
       "      <td>-0.762</td>\n",
       "      <td>-1.354</td>\n",
       "    </tr>\n",
       "    <tr>\n",
       "      <th>189</th>\n",
       "      <td>1.487</td>\n",
       "      <td>-0.159</td>\n",
       "      <td>1.972</td>\n",
       "      <td>1.279</td>\n",
       "      <td>0.861</td>\n",
       "      <td>0.407</td>\n",
       "    </tr>\n",
       "    <tr>\n",
       "      <th>190</th>\n",
       "      <td>-0.009</td>\n",
       "      <td>1.438</td>\n",
       "      <td>0.127</td>\n",
       "      <td>-0.285</td>\n",
       "      <td>0.491</td>\n",
       "      <td>-0.524</td>\n",
       "    </tr>\n",
       "    <tr>\n",
       "      <th>191</th>\n",
       "      <td>0.363</td>\n",
       "      <td>0.710</td>\n",
       "      <td>-0.675</td>\n",
       "      <td>-0.166</td>\n",
       "      <td>-0.169</td>\n",
       "      <td>1.117</td>\n",
       "    </tr>\n",
       "  </tbody>\n",
       "</table>\n",
       "</div>"
      ],
      "text/plain": [
       "       PC1    PC2    PC3    PC4    PC5    PC6\n",
       "187  0.257  0.470  0.007 -0.182 -0.268  0.013\n",
       "188  0.343 -0.695  0.518 -0.375 -0.762 -1.354\n",
       "189  1.487 -0.159  1.972  1.279  0.861  0.407\n",
       "190 -0.009  1.438  0.127 -0.285  0.491 -0.524\n",
       "191  0.363  0.710 -0.675 -0.166 -0.169  1.117"
      ]
     },
     "execution_count": 246,
     "metadata": {},
     "output_type": "execute_result"
    }
   ],
   "source": [
    "# construct PCA model with 6 PC's\n",
    "pca6 = PCA(n_components=6, whiten=True)\n",
    "X_p6_train = pd.DataFrame(pca6.fit_transform(X_train, y_train))\n",
    "X_p6_test = pd.DataFrame(pca6.transform(X_test))\n",
    "\n",
    "X_p6_train.columns = ['PC' + str(c+1) for c in X_p6_train.columns]\n",
    "X_p6_test.columns = X_p6_train.columns\n",
    "X_p6_test.tail()"
   ]
  },
  {
   "cell_type": "markdown",
   "metadata": {},
   "source": [
    "### applying PCA features to hw2 knn model"
   ]
  },
  {
   "cell_type": "code",
   "execution_count": 227,
   "metadata": {
    "collapsed": false
   },
   "outputs": [
    {
     "name": "stdout",
     "output_type": "stream",
     "text": [
      "  knn5 accuracy:\t 77.08%\n",
      "  knn5 precision:\t 67.31%\n",
      "  knn5 recall:\t\t 56.45%\n",
      "  knn5 f1:\t\t 61.40%\n"
     ]
    }
   ],
   "source": [
    "# fit and score knn with 5-PC data set\n",
    "knn5 = KNeighborsClassifier(n_neighbors=9, p=2, weights='uniform')\n",
    "knn5.fit(X_p5_train, y_train)\n",
    "all_score('  knn5',knn5, X_p5_test, y_test)"
   ]
  },
  {
   "cell_type": "code",
   "execution_count": 228,
   "metadata": {
    "collapsed": false
   },
   "outputs": [
    {
     "name": "stdout",
     "output_type": "stream",
     "text": [
      "1000 loops, best of 3: 1.64 ms per loop\n"
     ]
    }
   ],
   "source": [
    "%%%timeit\n",
    "knn5.predict(X_p5_test)"
   ]
  },
  {
   "cell_type": "code",
   "execution_count": 229,
   "metadata": {
    "collapsed": false
   },
   "outputs": [
    {
     "name": "stdout",
     "output_type": "stream",
     "text": [
      "  knn6 accuracy:\t 75.52%\n",
      "  knn6 precision:\t 65.96%\n",
      "  knn6 recall:\t\t 50.00%\n",
      "  knn6 f1:\t\t 56.88%\n"
     ]
    }
   ],
   "source": [
    "# fit and score knn with 6-PC data set\n",
    "knn6 = KNeighborsClassifier(n_neighbors=9, p=2, weights='uniform')\n",
    "knn6.fit(X_p6_train, y_train)\n",
    "all_score('  knn6',knn6, X_p6_test, y_test)"
   ]
  },
  {
   "cell_type": "code",
   "execution_count": 230,
   "metadata": {
    "collapsed": false
   },
   "outputs": [
    {
     "name": "stdout",
     "output_type": "stream",
     "text": [
      "1000 loops, best of 3: 1.93 ms per loop\n"
     ]
    }
   ],
   "source": [
    "%%%timeit\n",
    "knn6.predict(X_p6_test)"
   ]
  },
  {
   "cell_type": "markdown",
   "metadata": {},
   "source": [
    "<strong>observations of k-means clusters on knn model:</strong>\n",
    "- as expected, 5 PC's runs slightly faster than 6 PC's\n",
    "- PC's datasets run significantly faster than the original dataset\n",
    "- unfortunately, PCA seems to perform worse than the original data set in this case\n",
    "- 6 PC's performs worse than 5, which is counterintuitive"
   ]
  },
  {
   "cell_type": "markdown",
   "metadata": {},
   "source": [
    "### applying PCA features to hw2 naive-bayes model"
   ]
  },
  {
   "cell_type": "code",
   "execution_count": 241,
   "metadata": {
    "collapsed": false
   },
   "outputs": [
    {
     "name": "stdout",
     "output_type": "stream",
     "text": [
      "nb_pc5 accuracy:\t 72.92%\n",
      "nb_pc5 precision:\t 62.50%\n",
      "nb_pc5 recall:\t\t 40.32%\n",
      "nb_pc5 f1:\t\t 49.02%\n"
     ]
    }
   ],
   "source": [
    "nb_pc5 = GaussianNB()\n",
    "nb_pc5.fit(X_p5_train, y_train);\n",
    "all_score('nb_pc5', nb_pc5, X_p5_test, y_test)"
   ]
  },
  {
   "cell_type": "code",
   "execution_count": 242,
   "metadata": {
    "collapsed": false
   },
   "outputs": [
    {
     "name": "stdout",
     "output_type": "stream",
     "text": [
      "10000 loops, best of 3: 102 µs per loop\n"
     ]
    }
   ],
   "source": [
    "%%%timeit \n",
    "nb_pc5.predict(X_p5_test)"
   ]
  },
  {
   "cell_type": "code",
   "execution_count": 243,
   "metadata": {
    "collapsed": false
   },
   "outputs": [
    {
     "name": "stdout",
     "output_type": "stream",
     "text": [
      "nb_pc6 accuracy:\t 73.44%\n",
      "nb_pc6 precision:\t 61.70%\n",
      "nb_pc6 recall:\t\t 46.77%\n",
      "nb_pc6 f1:\t\t 53.21%\n"
     ]
    }
   ],
   "source": [
    "nb_pc6 = GaussianNB()\n",
    "nb_pc6.fit(X_p6_train, y_train);\n",
    "all_score('nb_pc6', nb_pc6, X_p6_test, y_test)"
   ]
  },
  {
   "cell_type": "code",
   "execution_count": 244,
   "metadata": {
    "collapsed": false
   },
   "outputs": [
    {
     "name": "stdout",
     "output_type": "stream",
     "text": [
      "10000 loops, best of 3: 105 µs per loop\n"
     ]
    }
   ],
   "source": [
    "%%%timeit \n",
    "nb_pc6.predict(X_p6_test)"
   ]
  },
  {
   "cell_type": "markdown",
   "metadata": {},
   "source": [
    "<strong>observations of k-means clusters on naive-bayes model:</strong>\n",
    "- in naive-bayes, adding a PC has almost no impact (+3 µs) on speed\n",
    "- PC datasets are not much faster than original dataset in naive-bayes"
   ]
  },
  {
   "cell_type": "markdown",
   "metadata": {
    "collapsed": true
   },
   "source": [
    "### conclusions about k-means and pca in this dataset"
   ]
  },
  {
   "cell_type": "markdown",
   "metadata": {},
   "source": [
    "This data definitely seems well-suited for k-means clustering and PCA.  The features are all numeric and continuous, and there are not any true \"categorical\" features.  \n",
    "\n",
    "In terms of k-means clustering, I found the clusters to be intuitive groups within the dataset, which was reassuring.  I could definitely see applying this in the real world to segment customers, etc.  What was really interesting was that knn showed little improvement post-clustering, but the guassian naive-bayes model showed significant improvement.\n",
    "\n",
    "PCA also showed promise, as I was able to achieve ~83% explained variance with 5/8 features, and ~90% explained variance with 6 features.  I did not center the data first, as I'm not sure how it translates over from our lab where all data points were pixels.  That said, PCA did not show dramatic improvement on accuracy, precision, recall, or f1 score.  It did improve the runtime of knn and NB (as expected), but by a negligible amount that does not justfiy their use (at least in my implementation)."
   ]
  }
 ],
 "metadata": {
  "kernelspec": {
   "display_name": "Python 2",
   "language": "python",
   "name": "python2"
  },
  "language_info": {
   "codemirror_mode": {
    "name": "ipython",
    "version": 2
   },
   "file_extension": ".py",
   "mimetype": "text/x-python",
   "name": "python",
   "nbconvert_exporter": "python",
   "pygments_lexer": "ipython2",
   "version": "2.7.11"
  }
 },
 "nbformat": 4,
 "nbformat_minor": 0
}
