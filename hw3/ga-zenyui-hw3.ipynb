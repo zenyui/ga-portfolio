{
 "cells": [
  {
   "cell_type": "markdown",
   "metadata": {},
   "source": [
    "# Pima Indian Diabetes Dataset - GA HW #3\n",
    "### Zen Yui | 2016-02-27"
   ]
  },
  {
   "cell_type": "markdown",
   "metadata": {},
   "source": [
    "- Give an overall summary of your performance from HW2 on the dataset\n",
    "- Do you see any areas for improvement?\n",
    "- Run k-Means on the dataset and describe your results\n",
    "- Run PCA on the dataset and describe your results\n",
    "- Use the cluster outputs you got from running k-means as a new feature. Rerun your \"worst\" and \"best\" model from HW2, including this new feature along with your old features. Describe your results.\n",
    "- Use the PCA outputs you got from running PCA above as your features. Rerun your \"worst\" and \"best\" model from HW2, with the PCA features instead of your old features. Describe your results.\n",
    "- Give your conclusions on the use of k-Means and PCA on the Diabetes dataset"
   ]
  },
  {
   "cell_type": "code",
   "execution_count": 1,
   "metadata": {
    "collapsed": true
   },
   "outputs": [],
   "source": [
    "import pandas as pd\n",
    "import matplotlib.pyplot as plt\n",
    "import numpy as np\n",
    "%matplotlib inline"
   ]
  },
  {
   "cell_type": "code",
   "execution_count": 35,
   "metadata": {
    "collapsed": true
   },
   "outputs": [],
   "source": [
    "plt.style.use('ggplot')"
   ]
  },
  {
   "cell_type": "code",
   "execution_count": 2,
   "metadata": {
    "collapsed": false
   },
   "outputs": [],
   "source": [
    "url = 'https://archive.ics.uci.edu/ml/machine-learning-databases/pima-indians-diabetes/pima-indians-diabetes.data'\n",
    "cols = ['pregnancies','glucose','bp','skin','insulin','bmi','ped','age','class']\n",
    "df = pd.read_csv(url, header=None)\n",
    "df.columns = cols"
   ]
  },
  {
   "cell_type": "code",
   "execution_count": 3,
   "metadata": {
    "collapsed": false
   },
   "outputs": [],
   "source": [
    "# necessary?\n",
    "df['class'] = pd.Categorical(df['class'])"
   ]
  },
  {
   "cell_type": "code",
   "execution_count": 4,
   "metadata": {
    "collapsed": false,
    "scrolled": true
   },
   "outputs": [
    {
     "data": {
      "text/html": [
       "<div>\n",
       "<table border=\"1\" class=\"dataframe\">\n",
       "  <thead>\n",
       "    <tr style=\"text-align: right;\">\n",
       "      <th></th>\n",
       "      <th>pregnancies</th>\n",
       "      <th>glucose</th>\n",
       "      <th>bp</th>\n",
       "      <th>skin</th>\n",
       "      <th>insulin</th>\n",
       "      <th>bmi</th>\n",
       "      <th>ped</th>\n",
       "      <th>age</th>\n",
       "      <th>class</th>\n",
       "    </tr>\n",
       "  </thead>\n",
       "  <tbody>\n",
       "    <tr>\n",
       "      <th>763</th>\n",
       "      <td>10</td>\n",
       "      <td>101</td>\n",
       "      <td>76</td>\n",
       "      <td>48</td>\n",
       "      <td>180</td>\n",
       "      <td>32.9</td>\n",
       "      <td>0.171</td>\n",
       "      <td>63</td>\n",
       "      <td>0</td>\n",
       "    </tr>\n",
       "    <tr>\n",
       "      <th>764</th>\n",
       "      <td>2</td>\n",
       "      <td>122</td>\n",
       "      <td>70</td>\n",
       "      <td>27</td>\n",
       "      <td>0</td>\n",
       "      <td>36.8</td>\n",
       "      <td>0.340</td>\n",
       "      <td>27</td>\n",
       "      <td>0</td>\n",
       "    </tr>\n",
       "    <tr>\n",
       "      <th>765</th>\n",
       "      <td>5</td>\n",
       "      <td>121</td>\n",
       "      <td>72</td>\n",
       "      <td>23</td>\n",
       "      <td>112</td>\n",
       "      <td>26.2</td>\n",
       "      <td>0.245</td>\n",
       "      <td>30</td>\n",
       "      <td>0</td>\n",
       "    </tr>\n",
       "    <tr>\n",
       "      <th>766</th>\n",
       "      <td>1</td>\n",
       "      <td>126</td>\n",
       "      <td>60</td>\n",
       "      <td>0</td>\n",
       "      <td>0</td>\n",
       "      <td>30.1</td>\n",
       "      <td>0.349</td>\n",
       "      <td>47</td>\n",
       "      <td>1</td>\n",
       "    </tr>\n",
       "    <tr>\n",
       "      <th>767</th>\n",
       "      <td>1</td>\n",
       "      <td>93</td>\n",
       "      <td>70</td>\n",
       "      <td>31</td>\n",
       "      <td>0</td>\n",
       "      <td>30.4</td>\n",
       "      <td>0.315</td>\n",
       "      <td>23</td>\n",
       "      <td>0</td>\n",
       "    </tr>\n",
       "  </tbody>\n",
       "</table>\n",
       "</div>"
      ],
      "text/plain": [
       "     pregnancies  glucose  bp  skin  insulin   bmi    ped  age class\n",
       "763           10      101  76    48      180  32.9  0.171   63     0\n",
       "764            2      122  70    27        0  36.8  0.340   27     0\n",
       "765            5      121  72    23      112  26.2  0.245   30     0\n",
       "766            1      126  60     0        0  30.1  0.349   47     1\n",
       "767            1       93  70    31        0  30.4  0.315   23     0"
      ]
     },
     "execution_count": 4,
     "metadata": {},
     "output_type": "execute_result"
    }
   ],
   "source": [
    "df.tail()"
   ]
  },
  {
   "cell_type": "markdown",
   "metadata": {},
   "source": [
    "### dataset and observations\n",
    "\n",
    "<strong><i>goal:</i></strong> To determine the most effecitve machine learning algorithm for predicting diabetes given the provided dataset\n",
    "\n",
    "<strong><i>preliminary observations:</i></strong>\n",
    "<ul>\n",
    "<li>8 attributes and a positive/negative diabetes diagnosis</li>\n",
    "<li>768 Pima Indian patients</li>\n",
    "<li>all patients are female</li>\n",
    "<li>all patients at leats 21 years of age</li>\n",
    "<li>all features are numeric</li>\n",
    "<li>overall diagnoses rate is ~35%</li>\n",
    "</ul>\n",
    "\n",
    "\n",
    "<strong><i>data dictionary:</i></strong>\n",
    "<ul>\n",
    "<li><strong>preg</strong> (int) - <i>Number of times pregnant</i></li>\n",
    "<li><strong>glu</strong> (int) - <i>Plasma glucose concentration a 2 hours in an oral glucose tolerance test</i></li>\n",
    "<li><strong>bp</strong> (int) - <i>Diastolic blood pressure (mm Hg)</i></li>\n",
    "<li><strong>skin</strong> (int) - <i>Triceps skin fold thickness (mm)</i></li>\n",
    "<li><strong>insulin</strong> (int) - <i>2-Hour serum insulin (mu U/ml)</i></li>\n",
    "<li><strong>bmi</strong> (float) - <i>Body mass index (weight in kg/(height in m)^2)</i></li>\n",
    "<li><strong>ped</strong> (float) - <i>Diabetes pedigree function</i></li>\n",
    "<li><strong>age</strong> (int) - <i>Age (years)</i></li>\n",
    "<li><strong>class</strong> (int) - <i>Class variable (0 or 1) - 1 is a positive diabetes diagnosis</i></li>\n",
    "</ul>"
   ]
  },
  {
   "cell_type": "markdown",
   "metadata": {},
   "source": [
    "### handle missing data"
   ]
  },
  {
   "cell_type": "code",
   "execution_count": 5,
   "metadata": {
    "collapsed": true
   },
   "outputs": [],
   "source": [
    "# Filling glucose, bp, skin, and insulin with np.nan as \"0\" values are meaningless\n",
    "for feature in ['glucose','bp','skin','insulin','bmi']:\n",
    "    df.loc[:,feature].replace(to_replace=0, value=np.nan, inplace=True)"
   ]
  },
  {
   "cell_type": "code",
   "execution_count": 6,
   "metadata": {
    "collapsed": false
   },
   "outputs": [],
   "source": [
    "# fill null records with median of that feature\n",
    "for f in ['glucose','bmi','bp','insulin','skin']:\n",
    "    med = df[f].median()\n",
    "    df[f].fillna(med, inplace=True)"
   ]
  },
  {
   "cell_type": "markdown",
   "metadata": {},
   "source": [
    "### hw2 performance summary\n",
    "My HW2 performnce in the Pima Indians Diabetes dataset was good, but I see areas for improvement.  I spent considerable trying to understand the dataset and create a good data dictionary, and it paid off.  When I wasn't sure about the best course of action (like deciding between two methods of handling missing data), I created tried both, and I ended up with better overall performance as a result.\n",
    "\n",
    "asdf"
   ]
  },
  {
   "cell_type": "markdown",
   "metadata": {},
   "source": [
    "### split and scale data"
   ]
  },
  {
   "cell_type": "code",
   "execution_count": 7,
   "metadata": {
    "collapsed": false
   },
   "outputs": [
    {
     "name": "stdout",
     "output_type": "stream",
     "text": [
      "(768, 8)\n",
      "(768,)\n"
     ]
    }
   ],
   "source": [
    "# separate the data set into features and prediction\n",
    "X = df.drop('class',axis=1)\n",
    "y = df['class']"
   ]
  },
  {
   "cell_type": "code",
   "execution_count": 9,
   "metadata": {
    "collapsed": true
   },
   "outputs": [],
   "source": [
    "from sklearn.preprocessing import StandardScaler"
   ]
  },
  {
   "cell_type": "code",
   "execution_count": 10,
   "metadata": {
    "collapsed": true
   },
   "outputs": [],
   "source": [
    "# scale data\n",
    "scale = StandardScaler()\n",
    "X_scale = scale.fit_transform(X)"
   ]
  },
  {
   "cell_type": "markdown",
   "metadata": {},
   "source": [
    "### k-means clustering"
   ]
  },
  {
   "cell_type": "code",
   "execution_count": 11,
   "metadata": {
    "collapsed": true
   },
   "outputs": [],
   "source": [
    "from sklearn.cluster import KMeans\n",
    "from sklearn.metrics import silhouette_score"
   ]
  },
  {
   "cell_type": "code",
   "execution_count": 38,
   "metadata": {
    "collapsed": false
   },
   "outputs": [
    {
     "data": {
      "image/png": "[encoded data removed]",
      "text/plain": [
       "<matplotlib.figure.Figure at 0x11311b390>"
      ]
     },
     "metadata": {},
     "output_type": "display_data"
    }
   ],
   "source": [
    "# finding the elbow plotting inertia\n",
    "x = []\n",
    "y = []\n",
    "for n in range(1,30):\n",
    "    km2 = KMeans(n_clusters=n)\n",
    "    km2.fit(X_scale)\n",
    "    x.append(n)\n",
    "    y.append(km2.inertia_)\n",
    "    \n",
    "plt.plot(x, y);"
   ]
  },
  {
   "cell_type": "code",
   "execution_count": 39,
   "metadata": {
    "collapsed": false
   },
   "outputs": [
    {
     "data": {
      "image/png": "[encoded data removed]",
      "text/plain": [
       "<matplotlib.figure.Figure at 0x112c72f10>"
      ]
     },
     "metadata": {},
     "output_type": "display_data"
    }
   ],
   "source": [
    "# plotting silhouette score\n",
    "x = []\n",
    "y = []\n",
    "for n in range(2,15):\n",
    "    km2 = KMeans(n_clusters=n)\n",
    "    km2.fit(X_scale)\n",
    "    centers = km2.fit_predict(X_scale)\n",
    "\n",
    "    x.append(n)\n",
    "    y.append(silhouette_score(X_scale, centers))\n",
    "\n",
    "plt.plot(x,y);"
   ]
  },
  {
   "cell_type": "markdown",
   "metadata": {},
   "source": [
    "#### using 4 clusters given apparent elbow and increased silhouette score"
   ]
  },
  {
   "cell_type": "code",
   "execution_count": 32,
   "metadata": {
    "collapsed": true
   },
   "outputs": [],
   "source": [
    "# create kmeans with 4 clusters, get cluster labels\n",
    "km = KMeans(n_clusters=4, n_init=20)\n",
    "cluster_labels = km.fit_predict(X_scale)"
   ]
  },
  {
   "cell_type": "code",
   "execution_count": 53,
   "metadata": {
    "collapsed": false
   },
   "outputs": [
    {
     "name": "stdout",
     "output_type": "stream",
     "text": [
      "silhouette score: 0.18550\n"
     ]
    }
   ],
   "source": [
    "# get specific silhouette score\n",
    "print('silhouette score: {:.5f}'.format(silhouette_score(X_scale, cluster_labels)))"
   ]
  },
  {
   "cell_type": "code",
   "execution_count": 33,
   "metadata": {
    "collapsed": false
   },
   "outputs": [
    {
     "data": {
      "text/html": [
       "<div>\n",
       "<table border=\"1\" class=\"dataframe\">\n",
       "  <thead>\n",
       "    <tr style=\"text-align: right;\">\n",
       "      <th></th>\n",
       "      <th>0</th>\n",
       "      <th>1</th>\n",
       "      <th>2</th>\n",
       "      <th>3</th>\n",
       "    </tr>\n",
       "  </thead>\n",
       "  <tbody>\n",
       "    <tr>\n",
       "      <th>pregnancies</th>\n",
       "      <td>1.914</td>\n",
       "      <td>7.460</td>\n",
       "      <td>2.320</td>\n",
       "      <td>3.318</td>\n",
       "    </tr>\n",
       "    <tr>\n",
       "      <th>glucose</th>\n",
       "      <td>122.975</td>\n",
       "      <td>131.936</td>\n",
       "      <td>106.474</td>\n",
       "      <td>161.227</td>\n",
       "    </tr>\n",
       "    <tr>\n",
       "      <th>bp</th>\n",
       "      <td>74.545</td>\n",
       "      <td>78.238</td>\n",
       "      <td>66.416</td>\n",
       "      <td>70.909</td>\n",
       "    </tr>\n",
       "    <tr>\n",
       "      <th>skin</th>\n",
       "      <td>36.192</td>\n",
       "      <td>29.702</td>\n",
       "      <td>23.265</td>\n",
       "      <td>32.705</td>\n",
       "    </tr>\n",
       "    <tr>\n",
       "      <th>insulin</th>\n",
       "      <td>130.662</td>\n",
       "      <td>134.047</td>\n",
       "      <td>111.309</td>\n",
       "      <td>415.295</td>\n",
       "    </tr>\n",
       "    <tr>\n",
       "      <th>bmi</th>\n",
       "      <td>38.881</td>\n",
       "      <td>32.497</td>\n",
       "      <td>27.562</td>\n",
       "      <td>35.680</td>\n",
       "    </tr>\n",
       "    <tr>\n",
       "      <th>ped</th>\n",
       "      <td>0.537</td>\n",
       "      <td>0.462</td>\n",
       "      <td>0.413</td>\n",
       "      <td>0.618</td>\n",
       "    </tr>\n",
       "    <tr>\n",
       "      <th>age</th>\n",
       "      <td>28.818</td>\n",
       "      <td>46.145</td>\n",
       "      <td>25.979</td>\n",
       "      <td>32.250</td>\n",
       "    </tr>\n",
       "  </tbody>\n",
       "</table>\n",
       "</div>"
      ],
      "text/plain": [
       "                  0       1       2       3\n",
       "pregnancies   1.914   7.460   2.320   3.318\n",
       "glucose     122.975 131.936 106.474 161.227\n",
       "bp           74.545  78.238  66.416  70.909\n",
       "skin         36.192  29.702  23.265  32.705\n",
       "insulin     130.662 134.047 111.309 415.295\n",
       "bmi          38.881  32.497  27.562  35.680\n",
       "ped           0.537   0.462   0.413   0.618\n",
       "age          28.818  46.145  25.979  32.250"
      ]
     },
     "execution_count": 33,
     "metadata": {},
     "output_type": "execute_result"
    }
   ],
   "source": [
    "# print clusters in a dataframe\n",
    "pd.set_option('display.float_format', lambda x: '%.3f' % x)\n",
    "columns = {str(x): scale.inverse_transform(km.cluster_centers_[x]) for x in range(0,len(km.cluster_centers_))}\n",
    "pd.DataFrame(columns, index=X.columns)"
   ]
  },
  {
   "cell_type": "markdown",
   "metadata": {},
   "source": [
    "#### clustering yields some interesting results:\n",
    "- cluster 1 - 1.9 children, highest skin thickness and bmi, and is 28 years old\n",
    "- cluster 2 - 7 children!, highest bp, oldest (46 years old)\n",
    "- cluster 3 - 2.3 children, lowest bp, thin skin, low bmi, ~26 years old... overall healthy\n",
    "- cluster 4 - 3.3 children, highest glucose (161), highest insulin level (415), 32 years old\n",
    "\n",
    "Overall, silhouette score of 0.185 isn't that high, but intuitively it seems the clusters are reasonably different people."
   ]
  },
  {
   "cell_type": "markdown",
   "metadata": {},
   "source": [
    "### principal component analysis"
   ]
  },
  {
   "cell_type": "code",
   "execution_count": null,
   "metadata": {
    "collapsed": true
   },
   "outputs": [],
   "source": []
  }
 ],
 "metadata": {
  "kernelspec": {
   "display_name": "Python 2",
   "language": "python",
   "name": "python2"
  },
  "language_info": {
   "codemirror_mode": {
    "name": "ipython",
    "version": 2
   },
   "file_extension": ".py",
   "mimetype": "text/x-python",
   "name": "python",
   "nbconvert_exporter": "python",
   "pygments_lexer": "ipython2",
   "version": "2.7.11"
  }
 },
 "nbformat": 4,
 "nbformat_minor": 0
}
