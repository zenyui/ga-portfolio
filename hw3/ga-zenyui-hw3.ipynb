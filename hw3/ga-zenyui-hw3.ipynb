{
 "cells": [
  {
   "cell_type": "markdown",
   "metadata": {},
   "source": [
    "# Pima Indian Diabetes Dataset - GA HW #3\n",
    "### Zen Yui | 2016-02-27"
   ]
  },
  {
   "cell_type": "markdown",
   "metadata": {},
   "source": [
    "- Give an overall summary of your performance from HW2 on the dataset\n",
    "- Do you see any areas for improvement?\n",
    "- Run k-Means on the dataset and describe your results\n",
    "- Run PCA on the dataset and describe your results\n",
    "- Use the cluster outputs you got from running k-means as a new feature. Rerun your \"worst\" and \"best\" model from HW2, including this new feature along with your old features. Describe your results.\n",
    "- Use the PCA outputs you got from running PCA above as your features. Rerun your \"worst\" and \"best\" model from HW2, with the PCA features instead of your old features. Describe your results.\n",
    "- Give your conclusions on the use of k-Means and PCA on the Diabetes dataset"
   ]
  },
  {
   "cell_type": "markdown",
   "metadata": {},
   "source": [
    ":EMOJICODE:"
   ]
  },
  {
   "cell_type": "code",
   "execution_count": 11,
   "metadata": {
    "collapsed": true
   },
   "outputs": [],
   "source": [
    "import pandas as pd\n",
    "import matplotlib.pyplot as plt\n",
    "import numpy as np\n",
    "%matplotlib inline"
   ]
  },
  {
   "cell_type": "code",
   "execution_count": 8,
   "metadata": {
    "collapsed": false
   },
   "outputs": [],
   "source": [
    "url = 'https://archive.ics.uci.edu/ml/machine-learning-databases/pima-indians-diabetes/pima-indians-diabetes.data'\n",
    "cols = ['pregnancies','glucose','bp','skin','insulin','bmi','ped','age','class']\n",
    "df = pd.read_csv(url, header=None)\n",
    "df.columns = cols"
   ]
  },
  {
   "cell_type": "code",
   "execution_count": 20,
   "metadata": {
    "collapsed": false
   },
   "outputs": [],
   "source": [
    "# necessary?\n",
    "df['class'] = pd.Categorical(df['class'])"
   ]
  },
  {
   "cell_type": "code",
   "execution_count": 22,
   "metadata": {
    "collapsed": false,
    "scrolled": true
   },
   "outputs": [
    {
     "data": {
      "text/html": [
       "<div>\n",
       "<table border=\"1\" class=\"dataframe\">\n",
       "  <thead>\n",
       "    <tr style=\"text-align: right;\">\n",
       "      <th></th>\n",
       "      <th>pregnancies</th>\n",
       "      <th>glucose</th>\n",
       "      <th>bp</th>\n",
       "      <th>skin</th>\n",
       "      <th>insulin</th>\n",
       "      <th>bmi</th>\n",
       "      <th>ped</th>\n",
       "      <th>age</th>\n",
       "      <th>class</th>\n",
       "    </tr>\n",
       "  </thead>\n",
       "  <tbody>\n",
       "    <tr>\n",
       "      <th>763</th>\n",
       "      <td>10</td>\n",
       "      <td>101</td>\n",
       "      <td>76</td>\n",
       "      <td>48</td>\n",
       "      <td>180</td>\n",
       "      <td>32.9</td>\n",
       "      <td>0.171</td>\n",
       "      <td>63</td>\n",
       "      <td>0</td>\n",
       "    </tr>\n",
       "    <tr>\n",
       "      <th>764</th>\n",
       "      <td>2</td>\n",
       "      <td>122</td>\n",
       "      <td>70</td>\n",
       "      <td>27</td>\n",
       "      <td>125</td>\n",
       "      <td>36.8</td>\n",
       "      <td>0.340</td>\n",
       "      <td>27</td>\n",
       "      <td>0</td>\n",
       "    </tr>\n",
       "    <tr>\n",
       "      <th>765</th>\n",
       "      <td>5</td>\n",
       "      <td>121</td>\n",
       "      <td>72</td>\n",
       "      <td>23</td>\n",
       "      <td>112</td>\n",
       "      <td>26.2</td>\n",
       "      <td>0.245</td>\n",
       "      <td>30</td>\n",
       "      <td>0</td>\n",
       "    </tr>\n",
       "    <tr>\n",
       "      <th>766</th>\n",
       "      <td>1</td>\n",
       "      <td>126</td>\n",
       "      <td>60</td>\n",
       "      <td>29</td>\n",
       "      <td>125</td>\n",
       "      <td>30.1</td>\n",
       "      <td>0.349</td>\n",
       "      <td>47</td>\n",
       "      <td>1</td>\n",
       "    </tr>\n",
       "    <tr>\n",
       "      <th>767</th>\n",
       "      <td>1</td>\n",
       "      <td>93</td>\n",
       "      <td>70</td>\n",
       "      <td>31</td>\n",
       "      <td>125</td>\n",
       "      <td>30.4</td>\n",
       "      <td>0.315</td>\n",
       "      <td>23</td>\n",
       "      <td>0</td>\n",
       "    </tr>\n",
       "  </tbody>\n",
       "</table>\n",
       "</div>"
      ],
      "text/plain": [
       "     pregnancies  glucose  bp  skin  insulin   bmi    ped  age class\n",
       "763           10      101  76    48      180  32.9  0.171   63     0\n",
       "764            2      122  70    27      125  36.8  0.340   27     0\n",
       "765            5      121  72    23      112  26.2  0.245   30     0\n",
       "766            1      126  60    29      125  30.1  0.349   47     1\n",
       "767            1       93  70    31      125  30.4  0.315   23     0"
      ]
     },
     "execution_count": 22,
     "metadata": {},
     "output_type": "execute_result"
    }
   ],
   "source": [
    "df.tail()"
   ]
  },
  {
   "cell_type": "markdown",
   "metadata": {},
   "source": [
    "### dataset and observations\n",
    "\n",
    "<strong><i>goal:</i></strong> To determine the most effecitve machine learning algorithm for predicting diabetes given the provided dataset\n",
    "\n",
    "<strong><i>preliminary observations:</i></strong>\n",
    "<ul>\n",
    "<li>8 attributes and a positive/negative diabetes diagnosis</li>\n",
    "<li>768 Pima Indian patients</li>\n",
    "<li>all patients are female</li>\n",
    "<li>all patients at leats 21 years of age</li>\n",
    "<li>all features are numeric</li>\n",
    "<li>overall diagnoses rate is ~35%</li>\n",
    "</ul>\n",
    "\n",
    "\n",
    "<strong><i>data dictionary:</i></strong>\n",
    "<ul>\n",
    "<li><strong>preg</strong> (int) - <i>Number of times pregnant</i></li>\n",
    "<li><strong>glu</strong> (int) - <i>Plasma glucose concentration a 2 hours in an oral glucose tolerance test</i></li>\n",
    "<li><strong>bp</strong> (int) - <i>Diastolic blood pressure (mm Hg)</i></li>\n",
    "<li><strong>skin</strong> (int) - <i>Triceps skin fold thickness (mm)</i></li>\n",
    "<li><strong>insulin</strong> (int) - <i>2-Hour serum insulin (mu U/ml)</i></li>\n",
    "<li><strong>bmi</strong> (float) - <i>Body mass index (weight in kg/(height in m)^2)</i></li>\n",
    "<li><strong>ped</strong> (float) - <i>Diabetes pedigree function</i></li>\n",
    "<li><strong>age</strong> (int) - <i>Age (years)</i></li>\n",
    "<li><strong>class</strong> (int) - <i>Class variable (0 or 1) - 1 is a positive diabetes diagnosis</i></li>\n",
    "</ul>"
   ]
  },
  {
   "cell_type": "markdown",
   "metadata": {},
   "source": [
    "### handle missing data"
   ]
  },
  {
   "cell_type": "code",
   "execution_count": 14,
   "metadata": {
    "collapsed": true
   },
   "outputs": [],
   "source": [
    "# Filling glucose, bp, skin, and insulin with np.nan as \"0\" values are meaningless\n",
    "for feature in ['glucose','bp','skin','insulin','bmi']:\n",
    "    df.loc[:,feature].replace(to_replace=0, value=np.nan, inplace=True)"
   ]
  },
  {
   "cell_type": "code",
   "execution_count": 16,
   "metadata": {
    "collapsed": false
   },
   "outputs": [],
   "source": [
    "# fill null records with median of that feature\n",
    "for f in ['glucose','bmi','bp','insulin','skin']:\n",
    "    med = df[f].median()\n",
    "    df[f].fillna(med, inplace=True)"
   ]
  },
  {
   "cell_type": "markdown",
   "metadata": {},
   "source": [
    "### hw2 performance summary\n",
    "My HW2 performnce in the Pima Indians Diabetes dataset was good, but I see areas for improvement.  I spent considerable trying to understand the dataset and create a good data dictionary, and it paid off.  When I wasn't sure about the best course of action (like deciding between two methods of handling missing data), I created tried both, and I ended up with better overall performance as a result.\n",
    "\n",
    "asdf"
   ]
  },
  {
   "cell_type": "markdown",
   "metadata": {},
   "source": [
    "### test/train split"
   ]
  },
  {
   "cell_type": "code",
   "execution_count": 28,
   "metadata": {
    "collapsed": false
   },
   "outputs": [
    {
     "name": "stdout",
     "output_type": "stream",
     "text": [
      "(768, 8)\n",
      "(768,)\n"
     ]
    }
   ],
   "source": [
    "# separate the data set into features and prediction\n",
    "X = df.drop('class',axis=1)\n",
    "y = df['class']\n",
    "print(X.shape)\n",
    "print(y.shape)"
   ]
  },
  {
   "cell_type": "markdown",
   "metadata": {},
   "source": [
    "### k-means clustering"
   ]
  },
  {
   "cell_type": "code",
   "execution_count": 41,
   "metadata": {
    "collapsed": true
   },
   "outputs": [],
   "source": [
    "from sklearn.preprocessing import StandardScaler\n",
    "from sklearn.cluster import KMeans\n",
    "from sklearn.metrics import silhouette_score"
   ]
  },
  {
   "cell_type": "code",
   "execution_count": 42,
   "metadata": {
    "collapsed": true
   },
   "outputs": [],
   "source": [
    "scale = StandardScaler()\n",
    "X_scale = scale.fit_transform(X)"
   ]
  },
  {
   "cell_type": "code",
   "execution_count": 58,
   "metadata": {
    "collapsed": true
   },
   "outputs": [],
   "source": [
    "x = []\n",
    "y = []\n",
    "for n in range(2,20):\n",
    "    km2 = KMeans(n_clusters=n)\n",
    "    km2.fit(X_scale)\n",
    "    centers = km2.fit_predict(X_scale)\n",
    "\n",
    "    x.append(n)\n",
    "    y.append(silhouette_score(X_scale, centers))\n"
   ]
  },
  {
   "cell_type": "code",
   "execution_count": 59,
   "metadata": {
    "collapsed": false
   },
   "outputs": [
    {
     "data": {
      "text/plain": [
       "[<matplotlib.lines.Line2D at 0x111cccdd0>]"
      ]
     },
     "execution_count": 59,
     "metadata": {},
     "output_type": "execute_result"
    },
    {
     "data": {
      "image/png": "[encoded data removed]",
      "text/plain": [
       "<matplotlib.figure.Figure at 0x111c53ed0>"
      ]
     },
     "metadata": {},
     "output_type": "display_data"
    }
   ],
   "source": [
    "plt.plot(x,y)"
   ]
  },
  {
   "cell_type": "code",
   "execution_count": 55,
   "metadata": {
    "collapsed": false
   },
   "outputs": [],
   "source": [
    "x = []\n",
    "y = []\n",
    "z = []\n",
    "for n in range(1,20):\n",
    "    km2 = KMeans(n_clusters=n)\n",
    "    km2.fit(X_scale)\n",
    "    x.append(n)\n",
    "    # z.append(silhouette_score(X_scale, centers))"
   ]
  },
  {
   "cell_type": "code",
   "execution_count": 53,
   "metadata": {
    "collapsed": false
   },
   "outputs": [
    {
     "data": {
      "text/plain": [
       "array([ 4,  6,  9,  6, 15, 14,  6, 16,  5, 13, 18,  3,  0,  5,  4, 14, 10,\n",
       "       14,  8, 17, 10, 16, 13, 14, 13, 16, 13,  1,  4, 18,  4, 12,  1, 18,\n",
       "       16, 11,  3, 16,  8,  2,  9,  3, 18, 13,  9, 15,  9,  6, 14, 14,  1,\n",
       "        1,  1, 13,  7,  1,  7,  2, 15,  8,  6, 16,  6,  8, 16, 14, 12, 12,\n",
       "        1, 18, 11, 14,  3, 18,  6,  1, 16, 17, 17,  1,  1,  6, 16,  6, 13,\n",
       "       17,  3, 17,  3,  1,  6, 18, 17,  4, 18,  9,  6,  1,  6, 10, 12,  9,\n",
       "       18,  1, 11, 11, 18,  9,  6, 17,  9,  7, 17,  6,  9,  4, 14,  6,  6,\n",
       "        1, 10, 14, 17,  4, 17,  8, 17,  8, 18,  4,  9,  0,  9, 16,  1,  6,\n",
       "        6,  6, 12,  7,  4, 17,  6, 16,  7,  6, 16, 11,  4,  1, 10, 14,  0,\n",
       "        5, 13, 10,  1, 11,  1,  3, 13, 16, 10,  6, 12,  0,  9, 14, 14, 18,\n",
       "       14, 14, 11,  8,  6,  3, 16, 10, 13, 12, 14, 11,  1,  6, 14,  9,  7,\n",
       "        2, 14, 14,  6,  3,  9,  3, 16, 10,  6,  1,  8,  7, 11, 17, 11,  1,\n",
       "       16, 14, 13, 13,  6, 13,  6, 10, 13,  8, 16,  3,  8, 14, 11, 14,  5,\n",
       "        4, 14,  4,  1, 17, 17,  8, 15, 17, 12,  7,  6, 14,  6,  9, 13, 12,\n",
       "        0,  6,  6,  6,  6, 11, 17,  0, 16,  5,  7, 18, 16, 18,  1, 17,  0,\n",
       "        8,  8,  6,  7,  0,  9, 12, 14,  4, 14, 11, 12,  2,  6,  9,  3,  6,\n",
       "       14, 17, 16,  2, 14,  6,  4, 11, 17, 16, 18, 13,  4,  4,  5, 10,  1,\n",
       "       17, 17,  8, 12,  8,  4,  9,  7, 18, 16,  0, 12,  8, 17, 10, 14, 17,\n",
       "        4,  1, 11, 12, 16,  8,  9,  1,  0,  6,  1,  9, 17,  4,  1, 14,  1,\n",
       "        0, 17,  9,  8,  9, 17, 14,  0,  1,  9, 16,  1, 10, 12, 14,  3, 13,\n",
       "        1,  1,  8, 18, 16, 13,  1, 14,  1, 17, 17, 18, 16,  1, 17, 13,  8,\n",
       "        3, 16, 12,  7,  4, 13,  4,  7,  6, 14,  1, 18, 18, 15, 11,  6,  8,\n",
       "        8,  3,  1,  8, 10,  2, 11,  1, 11, 11,  1,  1, 14, 13,  4, 11, 14,\n",
       "        9,  7,  1, 12, 11, 11,  8,  6,  9, 14,  4, 17, 16,  9,  8, 14,  6,\n",
       "        0,  5, 17, 17, 12,  1,  8,  5, 11, 12,  6, 14, 10,  1,  8,  6,  3,\n",
       "        9,  6,  9, 10, 18,  6,  1,  1, 14, 11, 17,  3,  9,  1, 12, 13,  6,\n",
       "       14,  0,  1, 15,  1, 17,  8,  1,  1, 14, 17,  4,  8,  3,  4,  6,  3,\n",
       "        4,  0,  6, 16, 14,  0,  1,  1,  8, 16, 10, 10, 17, 17, 13, 14,  4,\n",
       "        2, 14, 16,  4,  7, 17,  6, 17, 12, 10,  5, 12,  1,  4,  6, 18, 14,\n",
       "       11,  6,  4, 14,  1,  4,  0, 18, 17,  3, 16, 17, 16,  9, 11, 11,  4,\n",
       "       16,  1, 16,  6,  1,  9,  0, 13, 16,  4,  6, 17, 14,  3,  6,  1,  1,\n",
       "        1,  6,  6, 11, 17,  2, 14, 11, 14, 18,  4, 12,  2,  3, 14,  0, 18,\n",
       "       17, 13, 12, 14, 13, 13,  6,  6,  4,  6,  6, 14, 17,  4,  3, 16,  4,\n",
       "        9, 17,  1, 17,  1, 17, 16,  9, 17, 14, 18,  6,  6, 12,  8, 11, 17,\n",
       "       16,  2, 10, 14,  4, 16,  7,  1, 16, 14, 12,  6,  3, 10, 14, 11,  2,\n",
       "        9, 17,  1,  9,  1, 18, 14, 14,  4,  9,  8, 15,  1, 10,  1,  6,  9,\n",
       "        3, 14,  3, 14, 18,  1,  0, 17, 17, 11, 12, 17,  6, 17,  6, 17, 13,\n",
       "        6, 14, 17,  6, 18, 16, 16, 16,  1,  3,  1, 18, 14,  4, 14, 14,  5,\n",
       "        9,  8, 16,  6,  6,  6, 17,  6, 17,  5,  6,  2, 13, 11, 13, 15, 13,\n",
       "        3, 14, 17,  4, 16, 16, 13,  9,  1, 16, 10,  4,  9,  4,  6,  8,  1,\n",
       "        6, 10,  8, 14,  4, 12,  6,  1, 11, 10,  0, 13, 12,  3,  6,  7,  9,\n",
       "        6, 18, 12, 17,  4, 12, 17, 18, 17, 16,  7, 13,  8,  7, 14,  3,  1,\n",
       "       14,  7, 12, 16,  8, 16, 18,  8,  9, 13, 18, 17, 17, 18,  9,  6, 18,\n",
       "       14, 10,  6,  4,  6, 18, 16,  6, 17,  3,  6,  1,  0,  3, 16, 10,  2,\n",
       "        9,  4, 11, 17,  6,  5, 13, 12, 13,  4, 17, 13,  6,  3, 16, 16, 17,\n",
       "       14, 14,  6], dtype=int32)"
      ]
     },
     "execution_count": 53,
     "metadata": {},
     "output_type": "execute_result"
    }
   ],
   "source": [
    "centers"
   ]
  },
  {
   "cell_type": "code",
   "execution_count": 56,
   "metadata": {
    "collapsed": false,
    "scrolled": false
   },
   "outputs": [
    {
     "ename": "ValueError",
     "evalue": "x and y must have same first dimension",
     "output_type": "error",
     "traceback": [
      "\u001b[0;31m---------------------------------------------------------------------------\u001b[0m",
      "\u001b[0;31mValueError\u001b[0m                                Traceback (most recent call last)",
      "\u001b[0;32m<ipython-input-56-0ed05b94d9ab>\u001b[0m in \u001b[0;36m<module>\u001b[0;34m()\u001b[0m\n\u001b[0;32m----> 1\u001b[0;31m \u001b[0mplt\u001b[0m\u001b[0;34m.\u001b[0m\u001b[0mplot\u001b[0m\u001b[0;34m(\u001b[0m\u001b[0mx\u001b[0m\u001b[0;34m,\u001b[0m \u001b[0my\u001b[0m\u001b[0;34m)\u001b[0m\u001b[0;34m\u001b[0m\u001b[0m\n\u001b[0m",
      "\u001b[0;32m/Users/zen/anaconda/lib/python2.7/site-packages/matplotlib/pyplot.pyc\u001b[0m in \u001b[0;36mplot\u001b[0;34m(*args, **kwargs)\u001b[0m\n\u001b[1;32m   3152\u001b[0m         \u001b[0max\u001b[0m\u001b[0;34m.\u001b[0m\u001b[0mhold\u001b[0m\u001b[0;34m(\u001b[0m\u001b[0mhold\u001b[0m\u001b[0;34m)\u001b[0m\u001b[0;34m\u001b[0m\u001b[0m\n\u001b[1;32m   3153\u001b[0m     \u001b[0;32mtry\u001b[0m\u001b[0;34m:\u001b[0m\u001b[0;34m\u001b[0m\u001b[0m\n\u001b[0;32m-> 3154\u001b[0;31m         \u001b[0mret\u001b[0m \u001b[0;34m=\u001b[0m \u001b[0max\u001b[0m\u001b[0;34m.\u001b[0m\u001b[0mplot\u001b[0m\u001b[0;34m(\u001b[0m\u001b[0;34m*\u001b[0m\u001b[0margs\u001b[0m\u001b[0;34m,\u001b[0m \u001b[0;34m**\u001b[0m\u001b[0mkwargs\u001b[0m\u001b[0;34m)\u001b[0m\u001b[0;34m\u001b[0m\u001b[0m\n\u001b[0m\u001b[1;32m   3155\u001b[0m     \u001b[0;32mfinally\u001b[0m\u001b[0;34m:\u001b[0m\u001b[0;34m\u001b[0m\u001b[0m\n\u001b[1;32m   3156\u001b[0m         \u001b[0max\u001b[0m\u001b[0;34m.\u001b[0m\u001b[0mhold\u001b[0m\u001b[0;34m(\u001b[0m\u001b[0mwashold\u001b[0m\u001b[0;34m)\u001b[0m\u001b[0;34m\u001b[0m\u001b[0m\n",
      "\u001b[0;32m/Users/zen/anaconda/lib/python2.7/site-packages/matplotlib/__init__.pyc\u001b[0m in \u001b[0;36minner\u001b[0;34m(ax, *args, **kwargs)\u001b[0m\n\u001b[1;32m   1809\u001b[0m                     warnings.warn(msg % (label_namer, func.__name__),\n\u001b[1;32m   1810\u001b[0m                                   RuntimeWarning, stacklevel=2)\n\u001b[0;32m-> 1811\u001b[0;31m             \u001b[0;32mreturn\u001b[0m \u001b[0mfunc\u001b[0m\u001b[0;34m(\u001b[0m\u001b[0max\u001b[0m\u001b[0;34m,\u001b[0m \u001b[0;34m*\u001b[0m\u001b[0margs\u001b[0m\u001b[0;34m,\u001b[0m \u001b[0;34m**\u001b[0m\u001b[0mkwargs\u001b[0m\u001b[0;34m)\u001b[0m\u001b[0;34m\u001b[0m\u001b[0m\n\u001b[0m\u001b[1;32m   1812\u001b[0m         \u001b[0mpre_doc\u001b[0m \u001b[0;34m=\u001b[0m \u001b[0minner\u001b[0m\u001b[0;34m.\u001b[0m\u001b[0m__doc__\u001b[0m\u001b[0;34m\u001b[0m\u001b[0m\n\u001b[1;32m   1813\u001b[0m         \u001b[0;32mif\u001b[0m \u001b[0mpre_doc\u001b[0m \u001b[0;32mis\u001b[0m \u001b[0mNone\u001b[0m\u001b[0;34m:\u001b[0m\u001b[0;34m\u001b[0m\u001b[0m\n",
      "\u001b[0;32m/Users/zen/anaconda/lib/python2.7/site-packages/matplotlib/axes/_axes.pyc\u001b[0m in \u001b[0;36mplot\u001b[0;34m(self, *args, **kwargs)\u001b[0m\n\u001b[1;32m   1425\u001b[0m             \u001b[0mkwargs\u001b[0m\u001b[0;34m[\u001b[0m\u001b[0;34m'color'\u001b[0m\u001b[0;34m]\u001b[0m \u001b[0;34m=\u001b[0m \u001b[0mc\u001b[0m\u001b[0;34m\u001b[0m\u001b[0m\n\u001b[1;32m   1426\u001b[0m \u001b[0;34m\u001b[0m\u001b[0m\n\u001b[0;32m-> 1427\u001b[0;31m         \u001b[0;32mfor\u001b[0m \u001b[0mline\u001b[0m \u001b[0;32min\u001b[0m \u001b[0mself\u001b[0m\u001b[0;34m.\u001b[0m\u001b[0m_get_lines\u001b[0m\u001b[0;34m(\u001b[0m\u001b[0;34m*\u001b[0m\u001b[0margs\u001b[0m\u001b[0;34m,\u001b[0m \u001b[0;34m**\u001b[0m\u001b[0mkwargs\u001b[0m\u001b[0;34m)\u001b[0m\u001b[0;34m:\u001b[0m\u001b[0;34m\u001b[0m\u001b[0m\n\u001b[0m\u001b[1;32m   1428\u001b[0m             \u001b[0mself\u001b[0m\u001b[0;34m.\u001b[0m\u001b[0madd_line\u001b[0m\u001b[0;34m(\u001b[0m\u001b[0mline\u001b[0m\u001b[0;34m)\u001b[0m\u001b[0;34m\u001b[0m\u001b[0m\n\u001b[1;32m   1429\u001b[0m             \u001b[0mlines\u001b[0m\u001b[0;34m.\u001b[0m\u001b[0mappend\u001b[0m\u001b[0;34m(\u001b[0m\u001b[0mline\u001b[0m\u001b[0;34m)\u001b[0m\u001b[0;34m\u001b[0m\u001b[0m\n",
      "\u001b[0;32m/Users/zen/anaconda/lib/python2.7/site-packages/matplotlib/axes/_base.pyc\u001b[0m in \u001b[0;36m_grab_next_args\u001b[0;34m(self, *args, **kwargs)\u001b[0m\n\u001b[1;32m    384\u001b[0m                 \u001b[0;32mreturn\u001b[0m\u001b[0;34m\u001b[0m\u001b[0m\n\u001b[1;32m    385\u001b[0m             \u001b[0;32mif\u001b[0m \u001b[0mlen\u001b[0m\u001b[0;34m(\u001b[0m\u001b[0mremaining\u001b[0m\u001b[0;34m)\u001b[0m \u001b[0;34m<=\u001b[0m \u001b[0;36m3\u001b[0m\u001b[0;34m:\u001b[0m\u001b[0;34m\u001b[0m\u001b[0m\n\u001b[0;32m--> 386\u001b[0;31m                 \u001b[0;32mfor\u001b[0m \u001b[0mseg\u001b[0m \u001b[0;32min\u001b[0m \u001b[0mself\u001b[0m\u001b[0;34m.\u001b[0m\u001b[0m_plot_args\u001b[0m\u001b[0;34m(\u001b[0m\u001b[0mremaining\u001b[0m\u001b[0;34m,\u001b[0m \u001b[0mkwargs\u001b[0m\u001b[0;34m)\u001b[0m\u001b[0;34m:\u001b[0m\u001b[0;34m\u001b[0m\u001b[0m\n\u001b[0m\u001b[1;32m    387\u001b[0m                     \u001b[0;32myield\u001b[0m \u001b[0mseg\u001b[0m\u001b[0;34m\u001b[0m\u001b[0m\n\u001b[1;32m    388\u001b[0m                 \u001b[0;32mreturn\u001b[0m\u001b[0;34m\u001b[0m\u001b[0m\n",
      "\u001b[0;32m/Users/zen/anaconda/lib/python2.7/site-packages/matplotlib/axes/_base.pyc\u001b[0m in \u001b[0;36m_plot_args\u001b[0;34m(self, tup, kwargs)\u001b[0m\n\u001b[1;32m    362\u001b[0m             \u001b[0mx\u001b[0m\u001b[0;34m,\u001b[0m \u001b[0my\u001b[0m \u001b[0;34m=\u001b[0m \u001b[0mindex_of\u001b[0m\u001b[0;34m(\u001b[0m\u001b[0mtup\u001b[0m\u001b[0;34m[\u001b[0m\u001b[0;34m-\u001b[0m\u001b[0;36m1\u001b[0m\u001b[0;34m]\u001b[0m\u001b[0;34m)\u001b[0m\u001b[0;34m\u001b[0m\u001b[0m\n\u001b[1;32m    363\u001b[0m \u001b[0;34m\u001b[0m\u001b[0m\n\u001b[0;32m--> 364\u001b[0;31m         \u001b[0mx\u001b[0m\u001b[0;34m,\u001b[0m \u001b[0my\u001b[0m \u001b[0;34m=\u001b[0m \u001b[0mself\u001b[0m\u001b[0;34m.\u001b[0m\u001b[0m_xy_from_xy\u001b[0m\u001b[0;34m(\u001b[0m\u001b[0mx\u001b[0m\u001b[0;34m,\u001b[0m \u001b[0my\u001b[0m\u001b[0;34m)\u001b[0m\u001b[0;34m\u001b[0m\u001b[0m\n\u001b[0m\u001b[1;32m    365\u001b[0m \u001b[0;34m\u001b[0m\u001b[0m\n\u001b[1;32m    366\u001b[0m         \u001b[0;32mif\u001b[0m \u001b[0mself\u001b[0m\u001b[0;34m.\u001b[0m\u001b[0mcommand\u001b[0m \u001b[0;34m==\u001b[0m \u001b[0;34m'plot'\u001b[0m\u001b[0;34m:\u001b[0m\u001b[0;34m\u001b[0m\u001b[0m\n",
      "\u001b[0;32m/Users/zen/anaconda/lib/python2.7/site-packages/matplotlib/axes/_base.pyc\u001b[0m in \u001b[0;36m_xy_from_xy\u001b[0;34m(self, x, y)\u001b[0m\n\u001b[1;32m    221\u001b[0m         \u001b[0my\u001b[0m \u001b[0;34m=\u001b[0m \u001b[0m_check_1d\u001b[0m\u001b[0;34m(\u001b[0m\u001b[0my\u001b[0m\u001b[0;34m)\u001b[0m\u001b[0;34m\u001b[0m\u001b[0m\n\u001b[1;32m    222\u001b[0m         \u001b[0;32mif\u001b[0m \u001b[0mx\u001b[0m\u001b[0;34m.\u001b[0m\u001b[0mshape\u001b[0m\u001b[0;34m[\u001b[0m\u001b[0;36m0\u001b[0m\u001b[0;34m]\u001b[0m \u001b[0;34m!=\u001b[0m \u001b[0my\u001b[0m\u001b[0;34m.\u001b[0m\u001b[0mshape\u001b[0m\u001b[0;34m[\u001b[0m\u001b[0;36m0\u001b[0m\u001b[0;34m]\u001b[0m\u001b[0;34m:\u001b[0m\u001b[0;34m\u001b[0m\u001b[0m\n\u001b[0;32m--> 223\u001b[0;31m             \u001b[0;32mraise\u001b[0m \u001b[0mValueError\u001b[0m\u001b[0;34m(\u001b[0m\u001b[0;34m\"x and y must have same first dimension\"\u001b[0m\u001b[0;34m)\u001b[0m\u001b[0;34m\u001b[0m\u001b[0m\n\u001b[0m\u001b[1;32m    224\u001b[0m         \u001b[0;32mif\u001b[0m \u001b[0mx\u001b[0m\u001b[0;34m.\u001b[0m\u001b[0mndim\u001b[0m \u001b[0;34m>\u001b[0m \u001b[0;36m2\u001b[0m \u001b[0;32mor\u001b[0m \u001b[0my\u001b[0m\u001b[0;34m.\u001b[0m\u001b[0mndim\u001b[0m \u001b[0;34m>\u001b[0m \u001b[0;36m2\u001b[0m\u001b[0;34m:\u001b[0m\u001b[0;34m\u001b[0m\u001b[0m\n\u001b[1;32m    225\u001b[0m             \u001b[0;32mraise\u001b[0m \u001b[0mValueError\u001b[0m\u001b[0;34m(\u001b[0m\u001b[0;34m\"x and y can be no greater than 2-D\"\u001b[0m\u001b[0;34m)\u001b[0m\u001b[0;34m\u001b[0m\u001b[0m\n",
      "\u001b[0;31mValueError\u001b[0m: x and y must have same first dimension"
     ]
    },
    {
     "data": {
      "image/png": "[encoded data removed]",
      "text/plain": [
       "<matplotlib.figure.Figure at 0x11022e390>"
      ]
     },
     "metadata": {},
     "output_type": "display_data"
    }
   ],
   "source": [
    "plt.plot(x, y)"
   ]
  },
  {
   "cell_type": "code",
   "execution_count": 34,
   "metadata": {
    "collapsed": true
   },
   "outputs": [],
   "source": [
    "km = KMeans(n_clusters=4)\n",
    "cluster_labels = km.fit_predict(X_scale)"
   ]
  },
  {
   "cell_type": "code",
   "execution_count": 35,
   "metadata": {
    "collapsed": true
   },
   "outputs": [
    {
     "data": {
      "text/plain": [
       "array([2, 0, 2, 0, 3, 0, 0, 2, 1, 2, 3, 2, 2, 1, 2, 2, 3, 2, 3, 3, 3, 2, 2,\n",
       "       2, 2, 2, 2, 0, 2, 2, 2, 1, 0, 0, 2, 0, 2, 2, 3, 3, 0, 2, 2, 2, 2, 3,\n",
       "       0, 0, 3, 0, 0, 0, 0, 2, 1, 0, 1, 3, 3, 3, 0, 2, 0, 0, 2, 0, 3, 2, 0,\n",
       "       0, 0, 0, 2, 0, 0, 0, 2, 3, 3, 0, 0, 0, 2, 0, 3, 3, 2, 0, 2, 0, 0, 0,\n",
       "       3, 2, 0, 2, 0, 0, 0, 3, 3, 0, 0, 0, 3, 0, 0, 0, 0, 3, 3, 1, 0, 0, 2,\n",
       "       2, 2, 0, 0, 0, 3, 3, 0, 2, 0, 3, 3, 3, 3, 2, 0, 2, 3, 2, 0, 0, 0, 0,\n",
       "       3, 1, 2, 2, 0, 2, 1, 0, 2, 3, 2, 0, 3, 0, 2, 1, 2, 3, 0, 0, 0, 2, 2,\n",
       "       2, 3, 0, 3, 2, 0, 0, 0, 0, 2, 2, 0, 3, 0, 2, 2, 3, 2, 3, 0, 0, 0, 0,\n",
       "       2, 2, 1, 3, 2, 3, 0, 2, 2, 2, 0, 3, 0, 0, 3, 1, 0, 3, 0, 0, 2, 0, 2,\n",
       "       2, 0, 2, 0, 3, 2, 3, 2, 2, 3, 2, 0, 2, 1, 2, 2, 2, 0, 0, 3, 3, 1, 3,\n",
       "       3, 1, 0, 3, 0, 3, 2, 3, 2, 0, 0, 0, 0, 0, 3, 2, 2, 1, 1, 0, 2, 0, 0,\n",
       "       3, 2, 3, 3, 0, 1, 2, 0, 0, 0, 2, 0, 2, 3, 3, 0, 0, 2, 0, 0, 3, 2, 3,\n",
       "       0, 0, 2, 0, 3, 2, 2, 2, 2, 2, 1, 3, 0, 3, 3, 3, 3, 3, 2, 3, 1, 3, 2,\n",
       "       2, 3, 0, 3, 3, 0, 3, 2, 0, 0, 3, 0, 3, 0, 0, 2, 0, 0, 3, 3, 2, 0, 0,\n",
       "       0, 2, 3, 0, 3, 2, 3, 2, 2, 0, 3, 2, 0, 3, 3, 2, 2, 2, 0, 0, 3, 2, 2,\n",
       "       2, 0, 0, 0, 3, 3, 2, 2, 0, 3, 2, 3, 2, 2, 1, 1, 2, 2, 2, 1, 0, 0, 0,\n",
       "       0, 2, 1, 0, 0, 3, 3, 2, 0, 3, 3, 3, 0, 0, 0, 0, 0, 0, 2, 2, 2, 0, 0,\n",
       "       3, 1, 0, 3, 1, 0, 3, 0, 3, 0, 2, 3, 2, 2, 3, 2, 0, 2, 1, 3, 3, 1, 0,\n",
       "       3, 1, 0, 3, 0, 0, 3, 0, 3, 0, 2, 1, 0, 3, 3, 3, 0, 0, 0, 0, 0, 3, 2,\n",
       "       2, 0, 3, 2, 0, 0, 2, 0, 3, 0, 3, 3, 0, 0, 0, 3, 2, 0, 2, 2, 0, 2, 2,\n",
       "       2, 0, 2, 0, 2, 0, 0, 3, 2, 3, 3, 3, 3, 2, 0, 2, 3, 0, 2, 2, 1, 3, 0,\n",
       "       3, 3, 3, 1, 1, 0, 2, 0, 3, 3, 2, 0, 2, 0, 0, 2, 2, 0, 3, 3, 2, 3, 2,\n",
       "       3, 0, 0, 2, 2, 0, 2, 0, 0, 0, 2, 2, 2, 2, 0, 3, 0, 2, 0, 0, 0, 0, 0,\n",
       "       0, 0, 3, 3, 0, 0, 0, 2, 0, 3, 3, 2, 0, 2, 3, 0, 2, 2, 0, 3, 2, 0, 0,\n",
       "       2, 0, 0, 2, 3, 2, 2, 2, 2, 1, 3, 0, 3, 0, 3, 2, 2, 3, 0, 0, 0, 0, 1,\n",
       "       3, 0, 3, 2, 3, 3, 0, 2, 2, 1, 0, 2, 0, 2, 0, 2, 3, 2, 0, 3, 0, 3, 0,\n",
       "       3, 0, 0, 0, 0, 2, 2, 3, 1, 0, 3, 0, 0, 0, 1, 3, 2, 0, 2, 0, 2, 0, 3,\n",
       "       0, 2, 3, 0, 3, 0, 3, 2, 0, 0, 3, 0, 0, 0, 2, 2, 0, 3, 0, 0, 3, 2, 0,\n",
       "       0, 1, 0, 3, 2, 0, 0, 0, 3, 0, 0, 1, 0, 3, 2, 3, 2, 3, 2, 2, 2, 3, 2,\n",
       "       2, 2, 2, 2, 0, 2, 3, 2, 2, 2, 0, 0, 0, 0, 3, 3, 3, 2, 3, 0, 0, 0, 3,\n",
       "       2, 2, 3, 3, 0, 1, 0, 0, 0, 3, 3, 2, 2, 3, 0, 3, 2, 1, 2, 3, 1, 2, 2,\n",
       "       0, 0, 1, 3, 2, 3, 2, 0, 3, 0, 2, 2, 3, 3, 3, 0, 0, 0, 2, 3, 0, 2, 0,\n",
       "       0, 2, 0, 3, 2, 0, 0, 2, 2, 2, 3, 3, 2, 2, 3, 3, 0, 1, 2, 3, 2, 3, 3,\n",
       "       2, 0, 2, 0, 2, 3, 0, 0, 0], dtype=int32)"
      ]
     },
     "execution_count": 35,
     "metadata": {},
     "output_type": "execute_result"
    }
   ],
   "source": [
    "cluster_labels = km.fit_predict(X_scale)\n",
    "cluster_labels"
   ]
  }
 ],
 "metadata": {
  "kernelspec": {
   "display_name": "Python 2",
   "language": "python",
   "name": "python2"
  },
  "language_info": {
   "codemirror_mode": {
    "name": "ipython",
    "version": 2
   },
   "file_extension": ".py",
   "mimetype": "text/x-python",
   "name": "python",
   "nbconvert_exporter": "python",
   "pygments_lexer": "ipython2",
   "version": "2.7.11"
  }
 },
 "nbformat": 4,
 "nbformat_minor": 0
}
