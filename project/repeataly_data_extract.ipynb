{
 "cells": [
  {
   "cell_type": "code",
   "execution_count": 66,
   "metadata": {
    "collapsed": true
   },
   "outputs": [],
   "source": [
    "import pandas as pd\n",
    "import sqlalchemy as sa\n",
    "from math import ceil"
   ]
  },
  {
   "cell_type": "markdown",
   "metadata": {},
   "source": [
    "### data extract helper function"
   ]
  },
  {
   "cell_type": "code",
   "execution_count": 44,
   "metadata": {
    "collapsed": true
   },
   "outputs": [],
   "source": [
    "def get_engine(svr,db):\n",
    "    \"\"\"given server and db, return sqlalchemy engine\"\"\"\n",
    "\n",
    "    constr = 'mssql+pyodbc://{}/{}?'.format(svr,db)\n",
    "    constr += 'driver=SQL+Server+Native+Client+11.0?'\n",
    "    constr += 'trusted_connection=yes'\n",
    "    \n",
    "    return sa.create_engine(constr)"
   ]
  },
  {
   "cell_type": "markdown",
   "metadata": {},
   "source": [
    "### get main data set"
   ]
  },
  {
   "cell_type": "code",
   "execution_count": 45,
   "metadata": {
    "collapsed": false
   },
   "outputs": [],
   "source": [
    "# get sqlalchemy engine\n",
    "engine = get_engine('EUSETL','ETLDB')"
   ]
  },
  {
   "cell_type": "code",
   "execution_count": 46,
   "metadata": {
    "collapsed": false
   },
   "outputs": [],
   "source": [
    "df = pd.read_sql_table('ZenGAProject',con=engine)"
   ]
  },
  {
   "cell_type": "code",
   "execution_count": 47,
   "metadata": {
    "collapsed": false
   },
   "outputs": [
    {
     "data": {
      "text/plain": [
       "DBKey                        int64\n",
       "BUS_DAT             datetime64[ns]\n",
       "DOC_ID                       int64\n",
       "PMT_SEQ_NO                   int64\n",
       "CustomerKey                  int64\n",
       "VisitNumber                  int64\n",
       "VisitCount                   int64\n",
       "TicketDate          datetime64[ns]\n",
       "TicketTime                  object\n",
       "PriorVisits                  int64\n",
       "SaleLines                    int64\n",
       "ReturnLines                  int64\n",
       "GiftCardLines                int64\n",
       "NetAmount                  float64\n",
       "NetRetailAmount            float64\n",
       "NetQSRAmount               float64\n",
       "DiscountAmount             float64\n",
       "StationGroup                object\n",
       "UniqueItems                  int64\n",
       "UniqueCategories             int64\n",
       "ReturnedBags                  bool\n",
       "BoughtProduce                 bool\n",
       "WillReturn                    bool\n",
       "dtype: object"
      ]
     },
     "execution_count": 47,
     "metadata": {},
     "output_type": "execute_result"
    }
   ],
   "source": [
    "df.dtypes"
   ]
  },
  {
   "cell_type": "code",
   "execution_count": 48,
   "metadata": {
    "collapsed": false
   },
   "outputs": [],
   "source": [
    "df.drop(['DBKey','BUS_DAT','DOC_ID','PMT_SEQ_NO','VisitCount'], axis=1, inplace=True)"
   ]
  },
  {
   "cell_type": "code",
   "execution_count": 49,
   "metadata": {
    "collapsed": false,
    "scrolled": true
   },
   "outputs": [
    {
     "data": {
      "text/plain": [
       "(1621854, 18)"
      ]
     },
     "execution_count": 49,
     "metadata": {},
     "output_type": "execute_result"
    }
   ],
   "source": [
    "df.shape"
   ]
  },
  {
   "cell_type": "code",
   "execution_count": 18,
   "metadata": {
    "collapsed": false,
    "scrolled": true
   },
   "outputs": [
    {
     "data": {
      "text/html": [
       "<div>\n",
       "<table border=\"1\" class=\"dataframe\">\n",
       "  <thead>\n",
       "    <tr style=\"text-align: right;\">\n",
       "      <th></th>\n",
       "      <th>CustomerKey</th>\n",
       "      <th>VisitNumber</th>\n",
       "      <th>TicketDate</th>\n",
       "      <th>TicketTime</th>\n",
       "      <th>PriorVisits</th>\n",
       "      <th>SaleLines</th>\n",
       "      <th>ReturnLines</th>\n",
       "      <th>GiftCardLines</th>\n",
       "      <th>NetAmount</th>\n",
       "      <th>NetRetailAmount</th>\n",
       "      <th>NetQSRAmount</th>\n",
       "      <th>DiscountAmount</th>\n",
       "      <th>StationGroup</th>\n",
       "      <th>UniqueItems</th>\n",
       "      <th>UniqueCategories</th>\n",
       "      <th>ReturnedBags</th>\n",
       "      <th>BoughtProduce</th>\n",
       "      <th>WillReturn</th>\n",
       "    </tr>\n",
       "  </thead>\n",
       "  <tbody>\n",
       "    <tr>\n",
       "      <th>1235163</th>\n",
       "      <td>351072</td>\n",
       "      <td>31</td>\n",
       "      <td>2015-11-17</td>\n",
       "      <td>19:32:23</td>\n",
       "      <td>30</td>\n",
       "      <td>4</td>\n",
       "      <td>0</td>\n",
       "      <td>0</td>\n",
       "      <td>17.11</td>\n",
       "      <td>17.11</td>\n",
       "      <td>0.0</td>\n",
       "      <td>0</td>\n",
       "      <td>Other</td>\n",
       "      <td>4</td>\n",
       "      <td>4</td>\n",
       "      <td>False</td>\n",
       "      <td>False</td>\n",
       "      <td>True</td>\n",
       "    </tr>\n",
       "    <tr>\n",
       "      <th>973568</th>\n",
       "      <td>221561</td>\n",
       "      <td>6</td>\n",
       "      <td>2015-07-03</td>\n",
       "      <td>13:27:51</td>\n",
       "      <td>5</td>\n",
       "      <td>28</td>\n",
       "      <td>0</td>\n",
       "      <td>0</td>\n",
       "      <td>91.70</td>\n",
       "      <td>91.70</td>\n",
       "      <td>0.0</td>\n",
       "      <td>0</td>\n",
       "      <td>Front End</td>\n",
       "      <td>28</td>\n",
       "      <td>6</td>\n",
       "      <td>False</td>\n",
       "      <td>True</td>\n",
       "      <td>True</td>\n",
       "    </tr>\n",
       "    <tr>\n",
       "      <th>753483</th>\n",
       "      <td>223659</td>\n",
       "      <td>1</td>\n",
       "      <td>2015-04-03</td>\n",
       "      <td>19:56:01</td>\n",
       "      <td>0</td>\n",
       "      <td>1</td>\n",
       "      <td>0</td>\n",
       "      <td>0</td>\n",
       "      <td>4.50</td>\n",
       "      <td>0.00</td>\n",
       "      <td>4.5</td>\n",
       "      <td>0</td>\n",
       "      <td>Other</td>\n",
       "      <td>1</td>\n",
       "      <td>1</td>\n",
       "      <td>False</td>\n",
       "      <td>False</td>\n",
       "      <td>False</td>\n",
       "    </tr>\n",
       "  </tbody>\n",
       "</table>\n",
       "</div>"
      ],
      "text/plain": [
       "         CustomerKey  VisitNumber TicketDate TicketTime  PriorVisits  \\\n",
       "1235163       351072           31 2015-11-17   19:32:23           30   \n",
       "973568        221561            6 2015-07-03   13:27:51            5   \n",
       "753483        223659            1 2015-04-03   19:56:01            0   \n",
       "\n",
       "         SaleLines  ReturnLines  GiftCardLines  NetAmount  NetRetailAmount  \\\n",
       "1235163          4            0              0      17.11            17.11   \n",
       "973568          28            0              0      91.70            91.70   \n",
       "753483           1            0              0       4.50             0.00   \n",
       "\n",
       "         NetQSRAmount  DiscountAmount StationGroup  UniqueItems  \\\n",
       "1235163           0.0               0        Other            4   \n",
       "973568            0.0               0    Front End           28   \n",
       "753483            4.5               0        Other            1   \n",
       "\n",
       "         UniqueCategories ReturnedBags BoughtProduce WillReturn  \n",
       "1235163                 4        False         False       True  \n",
       "973568                  6        False          True       True  \n",
       "753483                  1        False         False      False  "
      ]
     },
     "execution_count": 18,
     "metadata": {},
     "output_type": "execute_result"
    }
   ],
   "source": [
    "df.sample(3)"
   ]
  },
  {
   "cell_type": "code",
   "execution_count": 96,
   "metadata": {
    "collapsed": false
   },
   "outputs": [],
   "source": [
    "# export data into smaller files for github\n",
    "step = 50000\n",
    "for r in range(ceil(len(df) / step)):\n",
    "    r_low = r*step\n",
    "    r_high = (r+1)*step\n",
    "    \n",
    "    filename = 'data/maindata_'+str(r).zfill(3)+'.csv'\n",
    "    \n",
    "    df.iloc[r_low:r_high].to_csv(filename, index=None)"
   ]
  },
  {
   "cell_type": "markdown",
   "metadata": {},
   "source": [
    "### extract ticket counts by hour"
   ]
  },
  {
   "cell_type": "code",
   "execution_count": 39,
   "metadata": {
    "collapsed": true
   },
   "outputs": [],
   "source": [
    "# construct engine\n",
    "engine = get_engine('EUSETL','CPSQL')"
   ]
  },
  {
   "cell_type": "code",
   "execution_count": 40,
   "metadata": {
    "collapsed": false
   },
   "outputs": [],
   "source": [
    "# get sql query from text\n",
    "with open('sql/tkt_count.sql') as fobj:\n",
    "    sqltxt = fobj.read()"
   ]
  },
  {
   "cell_type": "code",
   "execution_count": 41,
   "metadata": {
    "collapsed": false
   },
   "outputs": [],
   "source": [
    "dftktct = pd.read_sql_query(sql=sqltxt, con=engine, index_col=None)"
   ]
  },
  {
   "cell_type": "code",
   "execution_count": 42,
   "metadata": {
    "collapsed": false
   },
   "outputs": [
    {
     "data": {
      "text/html": [
       "<div>\n",
       "<table border=\"1\" class=\"dataframe\">\n",
       "  <thead>\n",
       "    <tr style=\"text-align: right;\">\n",
       "      <th></th>\n",
       "      <th>TicketDate</th>\n",
       "      <th>Hr</th>\n",
       "      <th>TicketCount</th>\n",
       "    </tr>\n",
       "  </thead>\n",
       "  <tbody>\n",
       "    <tr>\n",
       "      <th>0</th>\n",
       "      <td>2014-01-30</td>\n",
       "      <td>10</td>\n",
       "      <td>48</td>\n",
       "    </tr>\n",
       "    <tr>\n",
       "      <th>1</th>\n",
       "      <td>2015-07-21</td>\n",
       "      <td>16</td>\n",
       "      <td>357</td>\n",
       "    </tr>\n",
       "    <tr>\n",
       "      <th>2</th>\n",
       "      <td>2015-04-26</td>\n",
       "      <td>10</td>\n",
       "      <td>131</td>\n",
       "    </tr>\n",
       "    <tr>\n",
       "      <th>3</th>\n",
       "      <td>2014-04-26</td>\n",
       "      <td>16</td>\n",
       "      <td>459</td>\n",
       "    </tr>\n",
       "    <tr>\n",
       "      <th>4</th>\n",
       "      <td>2015-03-02</td>\n",
       "      <td>21</td>\n",
       "      <td>104</td>\n",
       "    </tr>\n",
       "  </tbody>\n",
       "</table>\n",
       "</div>"
      ],
      "text/plain": [
       "   TicketDate  Hr  TicketCount\n",
       "0  2014-01-30  10           48\n",
       "1  2015-07-21  16          357\n",
       "2  2015-04-26  10          131\n",
       "3  2014-04-26  16          459\n",
       "4  2015-03-02  21          104"
      ]
     },
     "execution_count": 42,
     "metadata": {},
     "output_type": "execute_result"
    }
   ],
   "source": [
    "dftktct.head()"
   ]
  },
  {
   "cell_type": "code",
   "execution_count": 93,
   "metadata": {
    "collapsed": true
   },
   "outputs": [],
   "source": [
    "dftktct.to_csv('data/tkt_count.csv', index=None)"
   ]
  }
 ],
 "metadata": {
  "kernelspec": {
   "display_name": "Python 2",
   "language": "python",
   "name": "python2"
  },
  "language_info": {
   "codemirror_mode": {
    "name": "ipython",
    "version": 2
   },
   "file_extension": ".py",
   "mimetype": "text/x-python",
   "name": "python",
   "nbconvert_exporter": "python",
   "pygments_lexer": "ipython2",
   "version": "2.7.11"
  }
 },
 "nbformat": 4,
 "nbformat_minor": 0
}
