{
 "cells": [
  {
   "cell_type": "code",
   "execution_count": 1,
   "metadata": {
    "collapsed": true
   },
   "outputs": [],
   "source": [
    "import pandas as pd\n",
    "import sqlalchemy as sa\n",
    "from math import ceil\n",
    "import os"
   ]
  },
  {
   "cell_type": "markdown",
   "metadata": {},
   "source": [
    "### data extract helper function"
   ]
  },
  {
   "cell_type": "code",
   "execution_count": 2,
   "metadata": {
    "collapsed": true
   },
   "outputs": [],
   "source": [
    "def get_engine(svr,db):\n",
    "    \"\"\"given server and db, return sqlalchemy engine\"\"\"\n",
    "\n",
    "    constr = 'mssql+pyodbc://{}/{}?'.format(svr,db)\n",
    "    constr += 'driver=SQL+Server+Native+Client+11.0?'\n",
    "    constr += 'trusted_connection=yes'\n",
    "    \n",
    "    return sa.create_engine(constr)"
   ]
  },
  {
   "cell_type": "markdown",
   "metadata": {},
   "source": [
    "### get main data set"
   ]
  },
  {
   "cell_type": "code",
   "execution_count": 3,
   "metadata": {
    "collapsed": false
   },
   "outputs": [],
   "source": [
    "# get sqlalchemy engine\n",
    "engine = get_engine('EUSETL','ETLDB')"
   ]
  },
  {
   "cell_type": "code",
   "execution_count": 4,
   "metadata": {
    "collapsed": false
   },
   "outputs": [],
   "source": [
    "df = pd.read_sql_table('ZenGAProject',con=engine)"
   ]
  },
  {
   "cell_type": "code",
   "execution_count": 5,
   "metadata": {
    "collapsed": false
   },
   "outputs": [
    {
     "data": {
      "text/plain": [
       "DBKey                        int64\n",
       "BUS_DAT             datetime64[ns]\n",
       "DOC_ID                       int64\n",
       "PMT_SEQ_NO                   int64\n",
       "CustomerKey                  int64\n",
       "VisitNumber                  int64\n",
       "VisitCount                   int64\n",
       "TicketDate          datetime64[ns]\n",
       "TicketTime                  object\n",
       "PriorVisits                  int64\n",
       "SaleLines                    int64\n",
       "ReturnLines                  int64\n",
       "GiftCardLines                int64\n",
       "ProduceLines                 int64\n",
       "MeatLines                    int64\n",
       "FishLines                    int64\n",
       "OilLines                     int64\n",
       "FreshPastaLines              int64\n",
       "SAFOLines                    int64\n",
       "RotisserieLines              int64\n",
       "NetAmount                  float64\n",
       "NetRetailAmount            float64\n",
       "NetQSRAmount               float64\n",
       "DiscountAmount             float64\n",
       "StationGroup                object\n",
       "UniqueItems                  int64\n",
       "UniqueCategories             int64\n",
       "ReturnedBags                  bool\n",
       "TopItemLines                 int64\n",
       "WillReturn                    bool\n",
       "dtype: object"
      ]
     },
     "execution_count": 5,
     "metadata": {},
     "output_type": "execute_result"
    }
   ],
   "source": [
    "df.dtypes"
   ]
  },
  {
   "cell_type": "code",
   "execution_count": 7,
   "metadata": {
    "collapsed": false
   },
   "outputs": [],
   "source": [
    "df.drop(['DBKey','BUS_DAT','DOC_ID','PMT_SEQ_NO','VisitCount'], axis=1, inplace=True)"
   ]
  },
  {
   "cell_type": "code",
   "execution_count": 8,
   "metadata": {
    "collapsed": false,
    "scrolled": true
   },
   "outputs": [
    {
     "data": {
      "text/plain": [
       "(1621854, 26)"
      ]
     },
     "execution_count": 8,
     "metadata": {},
     "output_type": "execute_result"
    }
   ],
   "source": [
    "df.shape"
   ]
  },
  {
   "cell_type": "code",
   "execution_count": 13,
   "metadata": {
    "collapsed": false,
    "scrolled": true
   },
   "outputs": [
    {
     "data": {
      "text/html": [
       "<div>\n",
       "<table border=\"1\" class=\"dataframe\">\n",
       "  <thead>\n",
       "    <tr style=\"text-align: right;\">\n",
       "      <th></th>\n",
       "      <th>1048384</th>\n",
       "      <th>1143469</th>\n",
       "      <th>491521</th>\n",
       "      <th>25886</th>\n",
       "      <th>789839</th>\n",
       "    </tr>\n",
       "  </thead>\n",
       "  <tbody>\n",
       "    <tr>\n",
       "      <th>CustomerKey</th>\n",
       "      <td>378661</td>\n",
       "      <td>803279</td>\n",
       "      <td>634479</td>\n",
       "      <td>282574</td>\n",
       "      <td>855947</td>\n",
       "    </tr>\n",
       "    <tr>\n",
       "      <th>VisitNumber</th>\n",
       "      <td>2</td>\n",
       "      <td>3</td>\n",
       "      <td>2</td>\n",
       "      <td>1</td>\n",
       "      <td>3</td>\n",
       "    </tr>\n",
       "    <tr>\n",
       "      <th>TicketDate</th>\n",
       "      <td>2014-12-04 00:00:00</td>\n",
       "      <td>2014-12-21 00:00:00</td>\n",
       "      <td>2014-02-25 00:00:00</td>\n",
       "      <td>2015-10-28 00:00:00</td>\n",
       "      <td>2014-08-07 00:00:00</td>\n",
       "    </tr>\n",
       "    <tr>\n",
       "      <th>TicketTime</th>\n",
       "      <td>12:23:53</td>\n",
       "      <td>17:19:13</td>\n",
       "      <td>20:17:01</td>\n",
       "      <td>17:48:15</td>\n",
       "      <td>12:34:23</td>\n",
       "    </tr>\n",
       "    <tr>\n",
       "      <th>PriorVisits</th>\n",
       "      <td>1</td>\n",
       "      <td>2</td>\n",
       "      <td>1</td>\n",
       "      <td>0</td>\n",
       "      <td>2</td>\n",
       "    </tr>\n",
       "    <tr>\n",
       "      <th>SaleLines</th>\n",
       "      <td>1</td>\n",
       "      <td>1</td>\n",
       "      <td>5</td>\n",
       "      <td>1</td>\n",
       "      <td>1</td>\n",
       "    </tr>\n",
       "    <tr>\n",
       "      <th>ReturnLines</th>\n",
       "      <td>0</td>\n",
       "      <td>0</td>\n",
       "      <td>0</td>\n",
       "      <td>0</td>\n",
       "      <td>0</td>\n",
       "    </tr>\n",
       "    <tr>\n",
       "      <th>GiftCardLines</th>\n",
       "      <td>0</td>\n",
       "      <td>0</td>\n",
       "      <td>0</td>\n",
       "      <td>0</td>\n",
       "      <td>0</td>\n",
       "    </tr>\n",
       "    <tr>\n",
       "      <th>ProduceLines</th>\n",
       "      <td>0</td>\n",
       "      <td>0</td>\n",
       "      <td>0</td>\n",
       "      <td>0</td>\n",
       "      <td>0</td>\n",
       "    </tr>\n",
       "    <tr>\n",
       "      <th>MeatLines</th>\n",
       "      <td>0</td>\n",
       "      <td>0</td>\n",
       "      <td>0</td>\n",
       "      <td>0</td>\n",
       "      <td>0</td>\n",
       "    </tr>\n",
       "    <tr>\n",
       "      <th>FishLines</th>\n",
       "      <td>0</td>\n",
       "      <td>0</td>\n",
       "      <td>1</td>\n",
       "      <td>0</td>\n",
       "      <td>0</td>\n",
       "    </tr>\n",
       "    <tr>\n",
       "      <th>OilLines</th>\n",
       "      <td>0</td>\n",
       "      <td>0</td>\n",
       "      <td>0</td>\n",
       "      <td>0</td>\n",
       "      <td>0</td>\n",
       "    </tr>\n",
       "    <tr>\n",
       "      <th>FreshPastaLines</th>\n",
       "      <td>0</td>\n",
       "      <td>0</td>\n",
       "      <td>2</td>\n",
       "      <td>0</td>\n",
       "      <td>0</td>\n",
       "    </tr>\n",
       "    <tr>\n",
       "      <th>SAFOLines</th>\n",
       "      <td>0</td>\n",
       "      <td>0</td>\n",
       "      <td>0</td>\n",
       "      <td>0</td>\n",
       "      <td>0</td>\n",
       "    </tr>\n",
       "    <tr>\n",
       "      <th>RotisserieLines</th>\n",
       "      <td>1</td>\n",
       "      <td>0</td>\n",
       "      <td>0</td>\n",
       "      <td>0</td>\n",
       "      <td>0</td>\n",
       "    </tr>\n",
       "    <tr>\n",
       "      <th>NetAmount</th>\n",
       "      <td>14.8</td>\n",
       "      <td>9.12</td>\n",
       "      <td>54.9</td>\n",
       "      <td>12.8</td>\n",
       "      <td>9.8</td>\n",
       "    </tr>\n",
       "    <tr>\n",
       "      <th>NetRetailAmount</th>\n",
       "      <td>0</td>\n",
       "      <td>9.12</td>\n",
       "      <td>54.9</td>\n",
       "      <td>0</td>\n",
       "      <td>0</td>\n",
       "    </tr>\n",
       "    <tr>\n",
       "      <th>NetQSRAmount</th>\n",
       "      <td>14.8</td>\n",
       "      <td>0</td>\n",
       "      <td>0</td>\n",
       "      <td>12.8</td>\n",
       "      <td>9.8</td>\n",
       "    </tr>\n",
       "    <tr>\n",
       "      <th>DiscountAmount</th>\n",
       "      <td>0</td>\n",
       "      <td>2.28</td>\n",
       "      <td>0</td>\n",
       "      <td>0</td>\n",
       "      <td>0</td>\n",
       "    </tr>\n",
       "    <tr>\n",
       "      <th>StationGroup</th>\n",
       "      <td>Other</td>\n",
       "      <td>Other</td>\n",
       "      <td>Front End</td>\n",
       "      <td>Other</td>\n",
       "      <td>Other</td>\n",
       "    </tr>\n",
       "    <tr>\n",
       "      <th>UniqueItems</th>\n",
       "      <td>1</td>\n",
       "      <td>1</td>\n",
       "      <td>5</td>\n",
       "      <td>1</td>\n",
       "      <td>1</td>\n",
       "    </tr>\n",
       "    <tr>\n",
       "      <th>UniqueCategories</th>\n",
       "      <td>1</td>\n",
       "      <td>1</td>\n",
       "      <td>3</td>\n",
       "      <td>1</td>\n",
       "      <td>1</td>\n",
       "    </tr>\n",
       "    <tr>\n",
       "      <th>ReturnedBags</th>\n",
       "      <td>False</td>\n",
       "      <td>False</td>\n",
       "      <td>False</td>\n",
       "      <td>False</td>\n",
       "      <td>False</td>\n",
       "    </tr>\n",
       "    <tr>\n",
       "      <th>TopItemLines</th>\n",
       "      <td>1</td>\n",
       "      <td>0</td>\n",
       "      <td>1</td>\n",
       "      <td>0</td>\n",
       "      <td>0</td>\n",
       "    </tr>\n",
       "    <tr>\n",
       "      <th>RepeatProducts</th>\n",
       "      <td>0</td>\n",
       "      <td>0</td>\n",
       "      <td>1</td>\n",
       "      <td>0</td>\n",
       "      <td>0</td>\n",
       "    </tr>\n",
       "    <tr>\n",
       "      <th>WillReturn</th>\n",
       "      <td>True</td>\n",
       "      <td>True</td>\n",
       "      <td>False</td>\n",
       "      <td>True</td>\n",
       "      <td>False</td>\n",
       "    </tr>\n",
       "  </tbody>\n",
       "</table>\n",
       "</div>"
      ],
      "text/plain": [
       "                              1048384              1143469  \\\n",
       "CustomerKey                    378661               803279   \n",
       "VisitNumber                         2                    3   \n",
       "TicketDate        2014-12-04 00:00:00  2014-12-21 00:00:00   \n",
       "TicketTime                   12:23:53             17:19:13   \n",
       "PriorVisits                         1                    2   \n",
       "SaleLines                           1                    1   \n",
       "ReturnLines                         0                    0   \n",
       "GiftCardLines                       0                    0   \n",
       "ProduceLines                        0                    0   \n",
       "MeatLines                           0                    0   \n",
       "FishLines                           0                    0   \n",
       "OilLines                            0                    0   \n",
       "FreshPastaLines                     0                    0   \n",
       "SAFOLines                           0                    0   \n",
       "RotisserieLines                     1                    0   \n",
       "NetAmount                        14.8                 9.12   \n",
       "NetRetailAmount                     0                 9.12   \n",
       "NetQSRAmount                     14.8                    0   \n",
       "DiscountAmount                      0                 2.28   \n",
       "StationGroup                    Other                Other   \n",
       "UniqueItems                         1                    1   \n",
       "UniqueCategories                    1                    1   \n",
       "ReturnedBags                    False                False   \n",
       "TopItemLines                        1                    0   \n",
       "RepeatProducts                      0                    0   \n",
       "WillReturn                       True                 True   \n",
       "\n",
       "                              491521               25886    \\\n",
       "CustomerKey                    634479               282574   \n",
       "VisitNumber                         2                    1   \n",
       "TicketDate        2014-02-25 00:00:00  2015-10-28 00:00:00   \n",
       "TicketTime                   20:17:01             17:48:15   \n",
       "PriorVisits                         1                    0   \n",
       "SaleLines                           5                    1   \n",
       "ReturnLines                         0                    0   \n",
       "GiftCardLines                       0                    0   \n",
       "ProduceLines                        0                    0   \n",
       "MeatLines                           0                    0   \n",
       "FishLines                           1                    0   \n",
       "OilLines                            0                    0   \n",
       "FreshPastaLines                     2                    0   \n",
       "SAFOLines                           0                    0   \n",
       "RotisserieLines                     0                    0   \n",
       "NetAmount                        54.9                 12.8   \n",
       "NetRetailAmount                  54.9                    0   \n",
       "NetQSRAmount                        0                 12.8   \n",
       "DiscountAmount                      0                    0   \n",
       "StationGroup                Front End                Other   \n",
       "UniqueItems                         5                    1   \n",
       "UniqueCategories                    3                    1   \n",
       "ReturnedBags                    False                False   \n",
       "TopItemLines                        1                    0   \n",
       "RepeatProducts                      1                    0   \n",
       "WillReturn                      False                 True   \n",
       "\n",
       "                              789839   \n",
       "CustomerKey                    855947  \n",
       "VisitNumber                         3  \n",
       "TicketDate        2014-08-07 00:00:00  \n",
       "TicketTime                   12:34:23  \n",
       "PriorVisits                         2  \n",
       "SaleLines                           1  \n",
       "ReturnLines                         0  \n",
       "GiftCardLines                       0  \n",
       "ProduceLines                        0  \n",
       "MeatLines                           0  \n",
       "FishLines                           0  \n",
       "OilLines                            0  \n",
       "FreshPastaLines                     0  \n",
       "SAFOLines                           0  \n",
       "RotisserieLines                     0  \n",
       "NetAmount                         9.8  \n",
       "NetRetailAmount                     0  \n",
       "NetQSRAmount                      9.8  \n",
       "DiscountAmount                      0  \n",
       "StationGroup                    Other  \n",
       "UniqueItems                         1  \n",
       "UniqueCategories                    1  \n",
       "ReturnedBags                    False  \n",
       "TopItemLines                        0  \n",
       "RepeatProducts                      0  \n",
       "WillReturn                      False  "
      ]
     },
     "execution_count": 13,
     "metadata": {},
     "output_type": "execute_result"
    }
   ],
   "source": [
    "df.sample(5).T"
   ]
  },
  {
   "cell_type": "code",
   "execution_count": 14,
   "metadata": {
    "collapsed": false
   },
   "outputs": [],
   "source": [
    "# export data into smaller files for github\n",
    "\n",
    "outfp = os.path.join('data','maindata')\n",
    "step = 50000\n",
    "f_prefix = 'data_'\n",
    "\n",
    "# remove old data files\n",
    "for f in os.listdir(outfp):\n",
    "    os.remove(os.path.join(outfp,f))\n",
    "\n",
    "# write data to files in batches\n",
    "for r in range(int(ceil(len(df) / step))):\n",
    "    r_low = r*step\n",
    "    r_high = (r+1)*step\n",
    "    f_name = f_prefix + str(r).zfill(3) + '.csv'\n",
    "\n",
    "    filename = os.path.join(outfp, f_name)\n",
    "    \n",
    "    df.iloc[r_low:r_high].to_csv(filename, index=None)"
   ]
  },
  {
   "cell_type": "markdown",
   "metadata": {},
   "source": [
    "### extract ticket counts by hour"
   ]
  },
  {
   "cell_type": "code",
   "execution_count": 39,
   "metadata": {
    "collapsed": true
   },
   "outputs": [],
   "source": [
    "# construct engine\n",
    "engine = get_engine('EUSETL','CPSQL')"
   ]
  },
  {
   "cell_type": "code",
   "execution_count": 40,
   "metadata": {
    "collapsed": false
   },
   "outputs": [],
   "source": [
    "# get sql query from text\n",
    "with open('sql/tkt_count.sql') as fobj:\n",
    "    sqltxt = fobj.read()"
   ]
  },
  {
   "cell_type": "code",
   "execution_count": 41,
   "metadata": {
    "collapsed": false
   },
   "outputs": [],
   "source": [
    "dftktct = pd.read_sql_query(sql=sqltxt, con=engine, index_col=None)"
   ]
  },
  {
   "cell_type": "code",
   "execution_count": 42,
   "metadata": {
    "collapsed": false
   },
   "outputs": [
    {
     "data": {
      "text/html": [
       "<div>\n",
       "<table border=\"1\" class=\"dataframe\">\n",
       "  <thead>\n",
       "    <tr style=\"text-align: right;\">\n",
       "      <th></th>\n",
       "      <th>TicketDate</th>\n",
       "      <th>Hr</th>\n",
       "      <th>TicketCount</th>\n",
       "    </tr>\n",
       "  </thead>\n",
       "  <tbody>\n",
       "    <tr>\n",
       "      <th>0</th>\n",
       "      <td>2014-01-30</td>\n",
       "      <td>10</td>\n",
       "      <td>48</td>\n",
       "    </tr>\n",
       "    <tr>\n",
       "      <th>1</th>\n",
       "      <td>2015-07-21</td>\n",
       "      <td>16</td>\n",
       "      <td>357</td>\n",
       "    </tr>\n",
       "    <tr>\n",
       "      <th>2</th>\n",
       "      <td>2015-04-26</td>\n",
       "      <td>10</td>\n",
       "      <td>131</td>\n",
       "    </tr>\n",
       "    <tr>\n",
       "      <th>3</th>\n",
       "      <td>2014-04-26</td>\n",
       "      <td>16</td>\n",
       "      <td>459</td>\n",
       "    </tr>\n",
       "    <tr>\n",
       "      <th>4</th>\n",
       "      <td>2015-03-02</td>\n",
       "      <td>21</td>\n",
       "      <td>104</td>\n",
       "    </tr>\n",
       "  </tbody>\n",
       "</table>\n",
       "</div>"
      ],
      "text/plain": [
       "   TicketDate  Hr  TicketCount\n",
       "0  2014-01-30  10           48\n",
       "1  2015-07-21  16          357\n",
       "2  2015-04-26  10          131\n",
       "3  2014-04-26  16          459\n",
       "4  2015-03-02  21          104"
      ]
     },
     "execution_count": 42,
     "metadata": {},
     "output_type": "execute_result"
    }
   ],
   "source": [
    "dftktct.head()"
   ]
  },
  {
   "cell_type": "code",
   "execution_count": 93,
   "metadata": {
    "collapsed": true
   },
   "outputs": [],
   "source": [
    "dftktct.to_csv('data/tkt_count.csv', index=None)"
   ]
  }
 ],
 "metadata": {
  "kernelspec": {
   "display_name": "Python 3",
   "language": "python",
   "name": "python3"
  },
  "language_info": {
   "codemirror_mode": {
    "name": "ipython",
    "version": 3
   },
   "file_extension": ".py",
   "mimetype": "text/x-python",
   "name": "python",
   "nbconvert_exporter": "python",
   "pygments_lexer": "ipython3",
   "version": "3.5.1"
  }
 },
 "nbformat": 4,
 "nbformat_minor": 0
}
