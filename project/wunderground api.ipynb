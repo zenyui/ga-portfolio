{
 "cells": [
  {
   "cell_type": "code",
   "execution_count": 1,
   "metadata": {
    "collapsed": true
   },
   "outputs": [],
   "source": [
    "import pandas as ps\n",
    "import requests\n",
    "from time import sleep\n",
    "from datetime import date, timedelta"
   ]
  },
  {
   "cell_type": "code",
   "execution_count": 7,
   "metadata": {
    "collapsed": true
   },
   "outputs": [],
   "source": [
    "def wunder_nyc(api_key, qry_date):\n",
    "    strdate = str(qry_date.year * 10000 + qry_date.month * 100 + qry_date.day)\n",
    "    \n",
    "    fullurl = 'http://api.wunderground.com/api/'+ api_key + '/history_'+strdate+'/q/NY/New_York.json'\n",
    "    \n",
    "    r = requests.get(fullurl)\n",
    "    r_json = r.json()\n",
    "    \n",
    "    output = {}\n",
    "    \n",
    "    output['datetime'] = qry_date\n",
    "    output['datestr'] = strdate\n",
    "    output['url'] = fullurl\n",
    "    \n",
    "    if 'error' in r_json['response']:\n",
    "        output['error'] = 1\n",
    "        output['error_type'] = r_json['response']['error']['type']\n",
    "        output['error_descr'] = r_json['response']['error']['description']\n",
    "    else:\n",
    "        output['error'] = 0\n",
    "        ds = r_json['history']['dailysummary'][0]\n",
    "        output['meantempi'] = r_json['history']['dailysummary'][0]['meantempi']\n",
    "        output['precipm'] = r_json['history']['dailysummary'][0]['precipm']    \n",
    "    \n",
    "    return output\n",
    "    "
   ]
  },
  {
   "cell_type": "code",
   "execution_count": 4,
   "metadata": {
    "collapsed": true
   },
   "outputs": [],
   "source": [
    "def daterange(start_date, end_date):\n",
    "    for n in range(int ((end_date - start_date).days)):\n",
    "        yield start_date + timedelta(n)"
   ]
  },
  {
   "cell_type": "code",
   "execution_count": null,
   "metadata": {
    "collapsed": false
   },
   "outputs": [],
   "source": [
    "all_dates = daterange(date(2013,12,1), date(2015,12,1))\n",
    "weather_output = {}\n",
    "\n",
    "for i, qry_date in enumerate(all_dates):\n",
    "    wthr = wunder_nyc(qry_date)\n",
    "    \n",
    "    weather_output[wthr['datestr']] = wthr\n",
    "\n",
    "    if wthr['error'] == 1:\n",
    "        print(wthr['datestr'] + ' ' + wthr['error_descr'])\n",
    "    else:\n",
    "        print(wthr['datestr'] + ' ' + str(wthr['meantempi']))\n",
    "\n",
    "    sleep(1)"
   ]
  }
 ],
 "metadata": {
  "kernelspec": {
   "display_name": "Python 2",
   "language": "python",
   "name": "python2"
  },
  "language_info": {
   "codemirror_mode": {
    "name": "ipython",
    "version": 2
   },
   "file_extension": ".py",
   "mimetype": "text/x-python",
   "name": "python",
   "nbconvert_exporter": "python",
   "pygments_lexer": "ipython2",
   "version": "2.7.11"
  }
 },
 "nbformat": 4,
 "nbformat_minor": 0
}
