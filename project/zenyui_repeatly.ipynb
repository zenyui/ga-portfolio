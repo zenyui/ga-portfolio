{
 "cells": [
  {
   "cell_type": "markdown",
   "metadata": {},
   "source": [
    "## repeataly\n",
    "\n",
    "**predicting repeat customers with sales data**\n",
    "\n",
    "zen yui | 2016-03-05"
   ]
  },
  {
   "cell_type": "markdown",
   "metadata": {},
   "source": [
    "### notes:\n",
    "- k-means to segment\n",
    "- logistic regression for feature selection\n",
    "- random forest for prediction"
   ]
  },
  {
   "cell_type": "code",
   "execution_count": 91,
   "metadata": {
    "collapsed": true
   },
   "outputs": [],
   "source": [
    "import pandas as pd\n",
    "from sklearn.preprocessing import StandardScaler\n",
    "from sklearn.cluster import KMeans\n",
    "from sklearn.metrics import silhouette_score\n",
    "import matplotlib.pyplot as plt\n",
    "from __future__ import division\n",
    "from datetime import date\n",
    "%matplotlib inline"
   ]
  },
  {
   "cell_type": "code",
   "execution_count": 2,
   "metadata": {
    "collapsed": true
   },
   "outputs": [],
   "source": [
    "# use ggplot style\n",
    "plt.style.use('ggplot')"
   ]
  },
  {
   "cell_type": "markdown",
   "metadata": {},
   "source": [
    "### read data from source csv"
   ]
  },
  {
   "cell_type": "code",
   "execution_count": 92,
   "metadata": {
    "collapsed": true
   },
   "outputs": [],
   "source": [
    "# read data in from csv\n",
    "df_read = pd.read_csv('eataly_data.csv')"
   ]
  },
  {
   "cell_type": "code",
   "execution_count": 137,
   "metadata": {
    "collapsed": true
   },
   "outputs": [],
   "source": [
    "# copy dataframe so we don't edit original file data\n",
    "df = df_read.copy()"
   ]
  },
  {
   "cell_type": "markdown",
   "metadata": {},
   "source": [
    "### feature engineering in pandas"
   ]
  },
  {
   "cell_type": "code",
   "execution_count": 138,
   "metadata": {
    "collapsed": true
   },
   "outputs": [],
   "source": [
    "# drop customer visit and visit key, as it cannot be used for analysis\n",
    "df.drop(['CustomerKey','VisitNumber'], axis=1, inplace=True)"
   ]
  },
  {
   "cell_type": "code",
   "execution_count": 139,
   "metadata": {
    "collapsed": true
   },
   "outputs": [],
   "source": [
    "# convert TicketDate to datetime type\n",
    "df['TicketDate'] = pd.to_datetime(df['TicketDate'])"
   ]
  },
  {
   "cell_type": "code",
   "execution_count": 140,
   "metadata": {
    "collapsed": false
   },
   "outputs": [],
   "source": [
    "#convert 'TicketTime' to continuous integer\n",
    "TimeList = df['TicketTime'].str.split(':')\n",
    "df['TicketTime'] = TimeList.str[0].astype(float) + TimeList.str[1].astype(float) / 60.0"
   ]
  },
  {
   "cell_type": "code",
   "execution_count": 156,
   "metadata": {
    "collapsed": false
   },
   "outputs": [],
   "source": [
    "#get weekday number (1=Monday ... 7=Sunday)\n",
    "df['WeekdayNumber'] = df['TicketDate'].apply(lambda x: x.isoweekday())"
   ]
  },
  {
   "cell_type": "code",
   "execution_count": 151,
   "metadata": {
    "collapsed": false
   },
   "outputs": [],
   "source": [
    "# Binary flag for a weekday visit\n",
    "df['IsWeekday'] = df['WeekdayNumber'] < 6"
   ]
  },
  {
   "cell_type": "code",
   "execution_count": 144,
   "metadata": {
    "collapsed": true
   },
   "outputs": [],
   "source": [
    "#create \"isFrontEnd\" feature, drop 'StationGroup'\n",
    "df['IsFrontEnd'] = df['StationGroup'] == 'Front End'\n",
    "df.drop('StationGroup',axis=1,inplace=True)"
   ]
  },
  {
   "cell_type": "code",
   "execution_count": 145,
   "metadata": {
    "collapsed": false
   },
   "outputs": [
    {
     "data": {
      "text/plain": [
       "(1621854, 18)"
      ]
     },
     "execution_count": 145,
     "metadata": {},
     "output_type": "execute_result"
    }
   ],
   "source": [
    "df.shape"
   ]
  },
  {
   "cell_type": "code",
   "execution_count": 251,
   "metadata": {
    "collapsed": false,
    "scrolled": false
   },
   "outputs": [
    {
     "data": {
      "text/html": [
       "<div>\n",
       "<table border=\"1\" class=\"dataframe\">\n",
       "  <thead>\n",
       "    <tr style=\"text-align: right;\">\n",
       "      <th></th>\n",
       "      <th>983117</th>\n",
       "      <th>150760</th>\n",
       "      <th>1578881</th>\n",
       "      <th>369930</th>\n",
       "      <th>567135</th>\n",
       "    </tr>\n",
       "  </thead>\n",
       "  <tbody>\n",
       "    <tr>\n",
       "      <th>TicketDate</th>\n",
       "      <td>2015-07-11 00:00:00</td>\n",
       "      <td>2014-07-13 00:00:00</td>\n",
       "      <td>2014-04-20 00:00:00</td>\n",
       "      <td>2014-10-06 00:00:00</td>\n",
       "      <td>2015-01-09 00:00:00</td>\n",
       "    </tr>\n",
       "    <tr>\n",
       "      <th>TicketTime</th>\n",
       "      <td>15.7667</td>\n",
       "      <td>16.1833</td>\n",
       "      <td>12.7667</td>\n",
       "      <td>20.7167</td>\n",
       "      <td>20.5833</td>\n",
       "    </tr>\n",
       "    <tr>\n",
       "      <th>PriorVisits</th>\n",
       "      <td>0</td>\n",
       "      <td>0</td>\n",
       "      <td>2</td>\n",
       "      <td>0</td>\n",
       "      <td>0</td>\n",
       "    </tr>\n",
       "    <tr>\n",
       "      <th>SaleLines</th>\n",
       "      <td>1</td>\n",
       "      <td>4</td>\n",
       "      <td>3</td>\n",
       "      <td>4</td>\n",
       "      <td>3</td>\n",
       "    </tr>\n",
       "    <tr>\n",
       "      <th>ReturnLines</th>\n",
       "      <td>0</td>\n",
       "      <td>0</td>\n",
       "      <td>0</td>\n",
       "      <td>0</td>\n",
       "      <td>0</td>\n",
       "    </tr>\n",
       "    <tr>\n",
       "      <th>GiftCardLines</th>\n",
       "      <td>0</td>\n",
       "      <td>0</td>\n",
       "      <td>0</td>\n",
       "      <td>0</td>\n",
       "      <td>0</td>\n",
       "    </tr>\n",
       "    <tr>\n",
       "      <th>NetAmount</th>\n",
       "      <td>7.16</td>\n",
       "      <td>17.79</td>\n",
       "      <td>8.4</td>\n",
       "      <td>8.26</td>\n",
       "      <td>23.58</td>\n",
       "    </tr>\n",
       "    <tr>\n",
       "      <th>NetRetailAmount</th>\n",
       "      <td>0</td>\n",
       "      <td>17.79</td>\n",
       "      <td>8.4</td>\n",
       "      <td>8.26</td>\n",
       "      <td>23.58</td>\n",
       "    </tr>\n",
       "    <tr>\n",
       "      <th>NetQSRAmount</th>\n",
       "      <td>7.16</td>\n",
       "      <td>0</td>\n",
       "      <td>0</td>\n",
       "      <td>0</td>\n",
       "      <td>0</td>\n",
       "    </tr>\n",
       "    <tr>\n",
       "      <th>DiscountAmount</th>\n",
       "      <td>0</td>\n",
       "      <td>0</td>\n",
       "      <td>0</td>\n",
       "      <td>0</td>\n",
       "      <td>0</td>\n",
       "    </tr>\n",
       "    <tr>\n",
       "      <th>UniqueItems</th>\n",
       "      <td>1</td>\n",
       "      <td>4</td>\n",
       "      <td>3</td>\n",
       "      <td>4</td>\n",
       "      <td>3</td>\n",
       "    </tr>\n",
       "    <tr>\n",
       "      <th>UniqueCategories</th>\n",
       "      <td>1</td>\n",
       "      <td>3</td>\n",
       "      <td>1</td>\n",
       "      <td>2</td>\n",
       "      <td>3</td>\n",
       "    </tr>\n",
       "    <tr>\n",
       "      <th>ReturnedBags</th>\n",
       "      <td>False</td>\n",
       "      <td>False</td>\n",
       "      <td>False</td>\n",
       "      <td>False</td>\n",
       "      <td>False</td>\n",
       "    </tr>\n",
       "    <tr>\n",
       "      <th>BoughtProduce</th>\n",
       "      <td>False</td>\n",
       "      <td>True</td>\n",
       "      <td>False</td>\n",
       "      <td>True</td>\n",
       "      <td>False</td>\n",
       "    </tr>\n",
       "    <tr>\n",
       "      <th>WillReturn</th>\n",
       "      <td>True</td>\n",
       "      <td>False</td>\n",
       "      <td>True</td>\n",
       "      <td>True</td>\n",
       "      <td>False</td>\n",
       "    </tr>\n",
       "    <tr>\n",
       "      <th>WeekdayNumber</th>\n",
       "      <td>6</td>\n",
       "      <td>7</td>\n",
       "      <td>7</td>\n",
       "      <td>1</td>\n",
       "      <td>5</td>\n",
       "    </tr>\n",
       "    <tr>\n",
       "      <th>IsWeekday</th>\n",
       "      <td>False</td>\n",
       "      <td>False</td>\n",
       "      <td>False</td>\n",
       "      <td>True</td>\n",
       "      <td>True</td>\n",
       "    </tr>\n",
       "    <tr>\n",
       "      <th>IsFrontEnd</th>\n",
       "      <td>False</td>\n",
       "      <td>True</td>\n",
       "      <td>False</td>\n",
       "      <td>True</td>\n",
       "      <td>True</td>\n",
       "    </tr>\n",
       "  </tbody>\n",
       "</table>\n",
       "</div>"
      ],
      "text/plain": [
       "                              983117               150760   \\\n",
       "TicketDate        2015-07-11 00:00:00  2014-07-13 00:00:00   \n",
       "TicketTime                    15.7667              16.1833   \n",
       "PriorVisits                         0                    0   \n",
       "SaleLines                           1                    4   \n",
       "ReturnLines                         0                    0   \n",
       "GiftCardLines                       0                    0   \n",
       "NetAmount                        7.16                17.79   \n",
       "NetRetailAmount                     0                17.79   \n",
       "NetQSRAmount                     7.16                    0   \n",
       "DiscountAmount                      0                    0   \n",
       "UniqueItems                         1                    4   \n",
       "UniqueCategories                    1                    3   \n",
       "ReturnedBags                    False                False   \n",
       "BoughtProduce                   False                 True   \n",
       "WillReturn                       True                False   \n",
       "WeekdayNumber                       6                    7   \n",
       "IsWeekday                       False                False   \n",
       "IsFrontEnd                      False                 True   \n",
       "\n",
       "                              1578881              369930   \\\n",
       "TicketDate        2014-04-20 00:00:00  2014-10-06 00:00:00   \n",
       "TicketTime                    12.7667              20.7167   \n",
       "PriorVisits                         2                    0   \n",
       "SaleLines                           3                    4   \n",
       "ReturnLines                         0                    0   \n",
       "GiftCardLines                       0                    0   \n",
       "NetAmount                         8.4                 8.26   \n",
       "NetRetailAmount                   8.4                 8.26   \n",
       "NetQSRAmount                        0                    0   \n",
       "DiscountAmount                      0                    0   \n",
       "UniqueItems                         3                    4   \n",
       "UniqueCategories                    1                    2   \n",
       "ReturnedBags                    False                False   \n",
       "BoughtProduce                   False                 True   \n",
       "WillReturn                       True                 True   \n",
       "WeekdayNumber                       7                    1   \n",
       "IsWeekday                       False                 True   \n",
       "IsFrontEnd                      False                 True   \n",
       "\n",
       "                              567135   \n",
       "TicketDate        2015-01-09 00:00:00  \n",
       "TicketTime                    20.5833  \n",
       "PriorVisits                         0  \n",
       "SaleLines                           3  \n",
       "ReturnLines                         0  \n",
       "GiftCardLines                       0  \n",
       "NetAmount                       23.58  \n",
       "NetRetailAmount                 23.58  \n",
       "NetQSRAmount                        0  \n",
       "DiscountAmount                      0  \n",
       "UniqueItems                         3  \n",
       "UniqueCategories                    3  \n",
       "ReturnedBags                    False  \n",
       "BoughtProduce                   False  \n",
       "WillReturn                      False  \n",
       "WeekdayNumber                       5  \n",
       "IsWeekday                        True  \n",
       "IsFrontEnd                       True  "
      ]
     },
     "execution_count": 251,
     "metadata": {},
     "output_type": "execute_result"
    }
   ],
   "source": [
    "# sample data, transposed for readability\n",
    "df.sample(5).T"
   ]
  },
  {
   "cell_type": "code",
   "execution_count": 152,
   "metadata": {
    "collapsed": false
   },
   "outputs": [
    {
     "data": {
      "text/plain": [
       "TicketDate          datetime64[ns]\n",
       "TicketTime                 float64\n",
       "PriorVisits                  int64\n",
       "SaleLines                    int64\n",
       "ReturnLines                  int64\n",
       "GiftCardLines                int64\n",
       "NetAmount                  float64\n",
       "NetRetailAmount            float64\n",
       "NetQSRAmount               float64\n",
       "DiscountAmount             float64\n",
       "UniqueItems                  int64\n",
       "UniqueCategories             int64\n",
       "ReturnedBags                  bool\n",
       "BoughtProduce                 bool\n",
       "WillReturn                    bool\n",
       "WeekdayNumber                int64\n",
       "IsWeekday                     bool\n",
       "IsFrontEnd                    bool\n",
       "dtype: object"
      ]
     },
     "execution_count": 152,
     "metadata": {},
     "output_type": "execute_result"
    }
   ],
   "source": [
    "df.dtypes"
   ]
  },
  {
   "cell_type": "markdown",
   "metadata": {},
   "source": [
    "### get the overall rate repeat visits"
   ]
  },
  {
   "cell_type": "code",
   "execution_count": 118,
   "metadata": {
    "collapsed": false,
    "scrolled": true
   },
   "outputs": [
    {
     "data": {
      "text/plain": [
       "'Overall tickets yielding repeat business: 44.46%'"
      ]
     },
     "execution_count": 118,
     "metadata": {},
     "output_type": "execute_result"
    }
   ],
   "source": [
    "'Overall tickets yielding repeat business: {:.2f}%'.format(df.WillReturn.mean()*100)"
   ]
  },
  {
   "cell_type": "markdown",
   "metadata": {},
   "source": [
    "### split data into test/train sets"
   ]
  },
  {
   "cell_type": "code",
   "execution_count": 120,
   "metadata": {
    "collapsed": false
   },
   "outputs": [],
   "source": [
    "# separate the data set into features and prediction\n",
    "X = df.drop('WillReturn',axis=1).copy()\n",
    "y = df['WillReturn']"
   ]
  },
  {
   "cell_type": "code",
   "execution_count": 250,
   "metadata": {
    "collapsed": false,
    "scrolled": false
   },
   "outputs": [
    {
     "data": {
      "text/html": [
       "<div>\n",
       "<table border=\"1\" class=\"dataframe\">\n",
       "  <thead>\n",
       "    <tr style=\"text-align: right;\">\n",
       "      <th></th>\n",
       "      <th>0</th>\n",
       "      <th>1</th>\n",
       "      <th>2</th>\n",
       "      <th>3</th>\n",
       "      <th>4</th>\n",
       "    </tr>\n",
       "  </thead>\n",
       "  <tbody>\n",
       "    <tr>\n",
       "      <th>TicketDate</th>\n",
       "      <td>2014-05-10 00:00:00</td>\n",
       "      <td>2014-05-10 00:00:00</td>\n",
       "      <td>2014-05-10 00:00:00</td>\n",
       "      <td>2014-05-10 00:00:00</td>\n",
       "      <td>2014-05-10 00:00:00</td>\n",
       "    </tr>\n",
       "    <tr>\n",
       "      <th>TicketTime</th>\n",
       "      <td>11.7833</td>\n",
       "      <td>11.9</td>\n",
       "      <td>12.0667</td>\n",
       "      <td>12.0833</td>\n",
       "      <td>12.1</td>\n",
       "    </tr>\n",
       "    <tr>\n",
       "      <th>PriorVisits</th>\n",
       "      <td>0</td>\n",
       "      <td>3</td>\n",
       "      <td>1</td>\n",
       "      <td>0</td>\n",
       "      <td>1</td>\n",
       "    </tr>\n",
       "    <tr>\n",
       "      <th>SaleLines</th>\n",
       "      <td>1</td>\n",
       "      <td>2</td>\n",
       "      <td>3</td>\n",
       "      <td>2</td>\n",
       "      <td>2</td>\n",
       "    </tr>\n",
       "    <tr>\n",
       "      <th>ReturnLines</th>\n",
       "      <td>0</td>\n",
       "      <td>0</td>\n",
       "      <td>0</td>\n",
       "      <td>0</td>\n",
       "      <td>0</td>\n",
       "    </tr>\n",
       "    <tr>\n",
       "      <th>GiftCardLines</th>\n",
       "      <td>0</td>\n",
       "      <td>0</td>\n",
       "      <td>0</td>\n",
       "      <td>0</td>\n",
       "      <td>0</td>\n",
       "    </tr>\n",
       "    <tr>\n",
       "      <th>NetAmount</th>\n",
       "      <td>3.2</td>\n",
       "      <td>53</td>\n",
       "      <td>44.6</td>\n",
       "      <td>38.4</td>\n",
       "      <td>14.4</td>\n",
       "    </tr>\n",
       "    <tr>\n",
       "      <th>NetRetailAmount</th>\n",
       "      <td>0</td>\n",
       "      <td>0</td>\n",
       "      <td>9.6</td>\n",
       "      <td>0</td>\n",
       "      <td>0</td>\n",
       "    </tr>\n",
       "    <tr>\n",
       "      <th>NetQSRAmount</th>\n",
       "      <td>3.2</td>\n",
       "      <td>53</td>\n",
       "      <td>35</td>\n",
       "      <td>38.4</td>\n",
       "      <td>14.4</td>\n",
       "    </tr>\n",
       "    <tr>\n",
       "      <th>DiscountAmount</th>\n",
       "      <td>0</td>\n",
       "      <td>0</td>\n",
       "      <td>0</td>\n",
       "      <td>0</td>\n",
       "      <td>0</td>\n",
       "    </tr>\n",
       "    <tr>\n",
       "      <th>UniqueItems</th>\n",
       "      <td>1</td>\n",
       "      <td>2</td>\n",
       "      <td>3</td>\n",
       "      <td>2</td>\n",
       "      <td>2</td>\n",
       "    </tr>\n",
       "    <tr>\n",
       "      <th>UniqueCategories</th>\n",
       "      <td>1</td>\n",
       "      <td>1</td>\n",
       "      <td>2</td>\n",
       "      <td>1</td>\n",
       "      <td>1</td>\n",
       "    </tr>\n",
       "    <tr>\n",
       "      <th>ReturnedBags</th>\n",
       "      <td>False</td>\n",
       "      <td>False</td>\n",
       "      <td>False</td>\n",
       "      <td>False</td>\n",
       "      <td>False</td>\n",
       "    </tr>\n",
       "    <tr>\n",
       "      <th>BoughtProduce</th>\n",
       "      <td>False</td>\n",
       "      <td>False</td>\n",
       "      <td>False</td>\n",
       "      <td>False</td>\n",
       "      <td>False</td>\n",
       "    </tr>\n",
       "    <tr>\n",
       "      <th>IsFrontEnd</th>\n",
       "      <td>False</td>\n",
       "      <td>False</td>\n",
       "      <td>False</td>\n",
       "      <td>False</td>\n",
       "      <td>False</td>\n",
       "    </tr>\n",
       "  </tbody>\n",
       "</table>\n",
       "</div>"
      ],
      "text/plain": [
       "                                    0                    1  \\\n",
       "TicketDate        2014-05-10 00:00:00  2014-05-10 00:00:00   \n",
       "TicketTime                    11.7833                 11.9   \n",
       "PriorVisits                         0                    3   \n",
       "SaleLines                           1                    2   \n",
       "ReturnLines                         0                    0   \n",
       "GiftCardLines                       0                    0   \n",
       "NetAmount                         3.2                   53   \n",
       "NetRetailAmount                     0                    0   \n",
       "NetQSRAmount                      3.2                   53   \n",
       "DiscountAmount                      0                    0   \n",
       "UniqueItems                         1                    2   \n",
       "UniqueCategories                    1                    1   \n",
       "ReturnedBags                    False                False   \n",
       "BoughtProduce                   False                False   \n",
       "IsFrontEnd                      False                False   \n",
       "\n",
       "                                    2                    3  \\\n",
       "TicketDate        2014-05-10 00:00:00  2014-05-10 00:00:00   \n",
       "TicketTime                    12.0667              12.0833   \n",
       "PriorVisits                         1                    0   \n",
       "SaleLines                           3                    2   \n",
       "ReturnLines                         0                    0   \n",
       "GiftCardLines                       0                    0   \n",
       "NetAmount                        44.6                 38.4   \n",
       "NetRetailAmount                   9.6                    0   \n",
       "NetQSRAmount                       35                 38.4   \n",
       "DiscountAmount                      0                    0   \n",
       "UniqueItems                         3                    2   \n",
       "UniqueCategories                    2                    1   \n",
       "ReturnedBags                    False                False   \n",
       "BoughtProduce                   False                False   \n",
       "IsFrontEnd                      False                False   \n",
       "\n",
       "                                    4  \n",
       "TicketDate        2014-05-10 00:00:00  \n",
       "TicketTime                       12.1  \n",
       "PriorVisits                         1  \n",
       "SaleLines                           2  \n",
       "ReturnLines                         0  \n",
       "GiftCardLines                       0  \n",
       "NetAmount                        14.4  \n",
       "NetRetailAmount                     0  \n",
       "NetQSRAmount                     14.4  \n",
       "DiscountAmount                      0  \n",
       "UniqueItems                         2  \n",
       "UniqueCategories                    1  \n",
       "ReturnedBags                    False  \n",
       "BoughtProduce                   False  \n",
       "IsFrontEnd                      False  "
      ]
     },
     "execution_count": 250,
     "metadata": {},
     "output_type": "execute_result"
    }
   ],
   "source": [
    "X.head().T"
   ]
  },
  {
   "cell_type": "code",
   "execution_count": 129,
   "metadata": {
    "collapsed": false
   },
   "outputs": [
    {
     "data": {
      "text/plain": [
       "1"
      ]
     },
     "execution_count": 129,
     "metadata": {},
     "output_type": "execute_result"
    }
   ],
   "source": [
    "d = date(2016,3,7)\n",
    "d.isoweekday()"
   ]
  },
  {
   "cell_type": "markdown",
   "metadata": {},
   "source": [
    "### EDA on features"
   ]
  },
  {
   "cell_type": "markdown",
   "metadata": {},
   "source": [
    "### define two EDA helper functions"
   ]
  },
  {
   "cell_type": "code",
   "execution_count": 245,
   "metadata": {
    "collapsed": true
   },
   "outputs": [],
   "source": [
    "# define function 'get_rrate' for quick analysis of features and repeat business\n",
    "def get_rrate(df, col_list):\n",
    "    \"\"\"Given a dataframe and list of groupby columns,\n",
    "    return a crosstab dataframe of Repeat, NonRepeat, and RepeatRate\n",
    "    \"\"\"\n",
    "    rdict = {1:'Repeat',0:'NonRepeat'}\n",
    "    rorder = ['Repeat','NonRepeat']\n",
    "\n",
    "    ct = pd.crosstab([df[c] for c in col_list], df['WillReturn'].map(rdict))[rorder]\n",
    "    ct['CustCount'] = ct['Repeat'] + ct['NonRepeat']\n",
    "    ct['CustDist'] = ct['CustCount'].astype(float) / ct['CustCount'].sum() * 100\n",
    "    ct['RepeatRate'] = ct['Repeat'].astype(float) / ct['CustCount'] * 100\n",
    "    ct['RepeatDist'] = ct['Repeat'].astype(float) / ct['Repeat'].sum() * 100\n",
    "    ct.columns.name=None\n",
    "    return ct"
   ]
  },
  {
   "cell_type": "code",
   "execution_count": 246,
   "metadata": {
    "collapsed": false
   },
   "outputs": [],
   "source": [
    "def plot_rrate(df, col_list):\n",
    "    \"\"\"Given dataframe and list of columns, call \"get_rrate\" to\n",
    "    calculate return-rate distributions by feature values,\n",
    "    then plot the rate of return and % return rate\n",
    "    \"\"\"\n",
    "    fig, axes = plt.subplots(nrows=1, ncols=2, figsize=(15,5))\n",
    "    ct = get_rrate(df, col_list)\n",
    "    ct[['Repeat','NonRepeat']].plot(kind='bar', stacked=True, color=['g','k'], alpha=.5, ax=axes[0])\n",
    "    axes[0].set_title('returns per ' + ', '.join(col_list))\n",
    "    axes[0].set_ylabel('Customer Count')\n",
    "    \n",
    "    ct[['RepeatRate']].plot(kind='bar', stacked=True, color=['k'], alpha=.5, ax=axes[1], ylim=(0,100))\n",
    "    axes[1].set_title('return rate by ' + ', '.join(col_list))\n",
    "    axes[1].set_ylabel('% Return Rate')"
   ]
  },
  {
   "cell_type": "markdown",
   "metadata": {},
   "source": [
    "### impact of weekdays on return visits\n",
    "- Traffic seems equally distributed between days of the week\n",
    "- More repeat customers shop on weekdays in number and percentage"
   ]
  },
  {
   "cell_type": "code",
   "execution_count": 247,
   "metadata": {
    "collapsed": false,
    "scrolled": true
   },
   "outputs": [
    {
     "data": {
      "image/png": "[encoded data removed]",
      "text/plain": [
       "<matplotlib.figure.Figure at 0x3be2d978>"
      ]
     },
     "metadata": {},
     "output_type": "display_data"
    }
   ],
   "source": [
    "plot_rrate(df, ['IsWeekday'])"
   ]
  },
  {
   "cell_type": "code",
   "execution_count": 248,
   "metadata": {
    "collapsed": false
   },
   "outputs": [
    {
     "data": {
      "image/png": "[encoded data removed]",
      "text/plain": [
       "<matplotlib.figure.Figure at 0x3b2d1358>"
      ]
     },
     "metadata": {},
     "output_type": "display_data"
    }
   ],
   "source": [
    "plot_rrate(df, ['WeekdayNumber'])"
   ]
  },
  {
   "cell_type": "markdown",
   "metadata": {},
   "source": []
  },
  {
   "cell_type": "markdown",
   "metadata": {},
   "source": []
  },
  {
   "cell_type": "markdown",
   "metadata": {},
   "source": []
  },
  {
   "cell_type": "markdown",
   "metadata": {},
   "source": []
  },
  {
   "cell_type": "markdown",
   "metadata": {},
   "source": []
  },
  {
   "cell_type": "markdown",
   "metadata": {},
   "source": []
  },
  {
   "cell_type": "markdown",
   "metadata": {},
   "source": []
  },
  {
   "cell_type": "markdown",
   "metadata": {},
   "source": []
  },
  {
   "cell_type": "markdown",
   "metadata": {},
   "source": []
  },
  {
   "cell_type": "markdown",
   "metadata": {},
   "source": []
  },
  {
   "cell_type": "markdown",
   "metadata": {},
   "source": []
  },
  {
   "cell_type": "markdown",
   "metadata": {},
   "source": []
  },
  {
   "cell_type": "markdown",
   "metadata": {},
   "source": []
  }
 ],
 "metadata": {
  "kernelspec": {
   "display_name": "Python 2",
   "language": "python",
   "name": "python2"
  },
  "language_info": {
   "codemirror_mode": {
    "name": "ipython",
    "version": 2
   },
   "file_extension": ".py",
   "mimetype": "text/x-python",
   "name": "python",
   "nbconvert_exporter": "python",
   "pygments_lexer": "ipython2",
   "version": "2.7.11"
  }
 },
 "nbformat": 4,
 "nbformat_minor": 0
}
