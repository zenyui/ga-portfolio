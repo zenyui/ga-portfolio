{
 "cells": [
  {
   "cell_type": "markdown",
   "metadata": {},
   "source": [
    "## repeataly\n",
    "\n",
    "**predicting repeat customers with sales data**\n",
    "\n",
    "zen yui | 2016-03-05"
   ]
  },
  {
   "cell_type": "markdown",
   "metadata": {},
   "source": [
    "### notes:\n",
    "- k-means to segment\n",
    "- logistic regression for feature selection\n",
    "- random forest for prediction"
   ]
  },
  {
   "cell_type": "code",
   "execution_count": 613,
   "metadata": {
    "collapsed": true
   },
   "outputs": [],
   "source": [
    "import pandas as pd\n",
    "import numpy as np\n",
    "import matplotlib.pyplot as plt\n",
    "from __future__ import division\n",
    "%matplotlib inline"
   ]
  },
  {
   "cell_type": "code",
   "execution_count": 614,
   "metadata": {
    "collapsed": true
   },
   "outputs": [],
   "source": [
    "from datetime import date, timedelta\n",
    "from calendar import monthrange"
   ]
  },
  {
   "cell_type": "code",
   "execution_count": 615,
   "metadata": {
    "collapsed": true
   },
   "outputs": [],
   "source": [
    "from sklearn.preprocessing import StandardScaler\n",
    "from sklearn.cross_validation import train_test_split, ShuffleSplit"
   ]
  },
  {
   "cell_type": "code",
   "execution_count": 616,
   "metadata": {
    "collapsed": true
   },
   "outputs": [],
   "source": [
    "from sklearn.cluster import KMeans\n",
    "from sklearn.metrics import silhouette_score"
   ]
  },
  {
   "cell_type": "code",
   "execution_count": 815,
   "metadata": {
    "collapsed": true
   },
   "outputs": [],
   "source": [
    "from sklearn.ensemble import RandomForestClassifier"
   ]
  },
  {
   "cell_type": "code",
   "execution_count": 826,
   "metadata": {
    "collapsed": true
   },
   "outputs": [],
   "source": [
    "from sklearn.metrics import accuracy_score\n",
    "from sklearn.metrics import precision_score\n",
    "from sklearn.metrics import recall_score\n",
    "from sklearn.metrics import f1_score"
   ]
  },
  {
   "cell_type": "code",
   "execution_count": 617,
   "metadata": {
    "collapsed": true
   },
   "outputs": [],
   "source": [
    "# use ggplot style\n",
    "plt.style.use('ggplot')"
   ]
  },
  {
   "cell_type": "markdown",
   "metadata": {},
   "source": [
    "### read data from source csv"
   ]
  },
  {
   "cell_type": "code",
   "execution_count": 618,
   "metadata": {
    "collapsed": true
   },
   "outputs": [],
   "source": [
    "# read data in from csv\n",
    "df_read = pd.read_csv('eataly_data.csv')"
   ]
  },
  {
   "cell_type": "code",
   "execution_count": 619,
   "metadata": {
    "collapsed": true
   },
   "outputs": [],
   "source": [
    "# copy dataframe so we don't edit original file data\n",
    "df = df_read.copy()"
   ]
  },
  {
   "cell_type": "markdown",
   "metadata": {},
   "source": [
    "### data munging and feature engineering in pandas"
   ]
  },
  {
   "cell_type": "code",
   "execution_count": 620,
   "metadata": {
    "collapsed": true
   },
   "outputs": [],
   "source": [
    "# drop customer visit and visit key, as it cannot be used for analysis\n",
    "df.drop(['CustomerKey','VisitNumber'], axis=1, inplace=True)"
   ]
  },
  {
   "cell_type": "code",
   "execution_count": 621,
   "metadata": {
    "collapsed": true
   },
   "outputs": [],
   "source": [
    "# convert TicketDate to datetime type\n",
    "df['TicketDate'] = pd.to_datetime(df['TicketDate'])"
   ]
  },
  {
   "cell_type": "code",
   "execution_count": 622,
   "metadata": {
    "collapsed": true
   },
   "outputs": [],
   "source": [
    "# get integer month of ticket\n",
    "# df['TicketMonth'] = df['TicketDate'].apply(lambda x: x.month)"
   ]
  },
  {
   "cell_type": "code",
   "execution_count": 623,
   "metadata": {
    "collapsed": false
   },
   "outputs": [],
   "source": [
    "# get months with decimals for days\n",
    "def get_mth_dec(d):\n",
    "    \"\"\"Given a date, return integer month and decimal days\"\"\"\n",
    "    return d.month + d.day / (monthrange(d.year,d.month)[1] + 1)\n",
    "\n",
    "df['TicketMonthDecimal'] = df['TicketDate'].apply(get_mth_dec)"
   ]
  },
  {
   "cell_type": "code",
   "execution_count": 624,
   "metadata": {
    "collapsed": false
   },
   "outputs": [],
   "source": [
    "#get weekday number (1=Monday ... 7=Sunday)\n",
    "df['WeekdayNumber'] = df['TicketDate'].apply(lambda x: x.isoweekday())"
   ]
  },
  {
   "cell_type": "code",
   "execution_count": 625,
   "metadata": {
    "collapsed": false
   },
   "outputs": [],
   "source": [
    "# Binary flag for a weekday visit\n",
    "# df['IsWeekday'] = df['WeekdayNumber'] < 6"
   ]
  },
  {
   "cell_type": "code",
   "execution_count": 626,
   "metadata": {
    "collapsed": false
   },
   "outputs": [],
   "source": [
    "#convert 'TicketTime' to continuous integer\n",
    "TimeList = df['TicketTime'].str.split(':')\n",
    "df['TicketTime'] = TimeList.str[0].astype(float) + TimeList.str[1].astype(float) / 60.0"
   ]
  },
  {
   "cell_type": "code",
   "execution_count": 627,
   "metadata": {
    "collapsed": true
   },
   "outputs": [],
   "source": [
    "#create \"isFrontEnd\" feature, drop 'StationGroup'\n",
    "df['IsFrontEnd'] = df['StationGroup'] == 'Front End'\n",
    "df.drop('StationGroup',axis=1,inplace=True)"
   ]
  },
  {
   "cell_type": "code",
   "execution_count": 628,
   "metadata": {
    "collapsed": true
   },
   "outputs": [],
   "source": [
    "# drop TicketDate, as we want trends across seasons not years\n",
    "df.drop('TicketDate', axis=1, inplace=True)"
   ]
  },
  {
   "cell_type": "code",
   "execution_count": 629,
   "metadata": {
    "collapsed": false
   },
   "outputs": [],
   "source": [
    "# make prediction right-most column\n",
    "df = pd.concat([df.drop('WillReturn', axis=1), df['WillReturn']], axis=1)"
   ]
  },
  {
   "cell_type": "code",
   "execution_count": 630,
   "metadata": {
    "collapsed": false
   },
   "outputs": [
    {
     "data": {
      "text/plain": [
       "(1621854, 17)"
      ]
     },
     "execution_count": 630,
     "metadata": {},
     "output_type": "execute_result"
    }
   ],
   "source": [
    "df.shape"
   ]
  },
  {
   "cell_type": "code",
   "execution_count": 631,
   "metadata": {
    "collapsed": false,
    "scrolled": false
   },
   "outputs": [
    {
     "data": {
      "text/html": [
       "<div>\n",
       "<table border=\"1\" class=\"dataframe\">\n",
       "  <thead>\n",
       "    <tr style=\"text-align: right;\">\n",
       "      <th></th>\n",
       "      <th>7687</th>\n",
       "      <th>1533671</th>\n",
       "      <th>192964</th>\n",
       "      <th>1466582</th>\n",
       "      <th>1199583</th>\n",
       "      <th>1333294</th>\n",
       "      <th>267013</th>\n",
       "    </tr>\n",
       "  </thead>\n",
       "  <tbody>\n",
       "    <tr>\n",
       "      <th>TicketTime</th>\n",
       "      <td>12.2</td>\n",
       "      <td>11.4667</td>\n",
       "      <td>15.4833</td>\n",
       "      <td>17.0333</td>\n",
       "      <td>18.3833</td>\n",
       "      <td>17.15</td>\n",
       "      <td>14.1</td>\n",
       "    </tr>\n",
       "    <tr>\n",
       "      <th>PriorVisits</th>\n",
       "      <td>0</td>\n",
       "      <td>0</td>\n",
       "      <td>12</td>\n",
       "      <td>4</td>\n",
       "      <td>10</td>\n",
       "      <td>0</td>\n",
       "      <td>0</td>\n",
       "    </tr>\n",
       "    <tr>\n",
       "      <th>SaleLines</th>\n",
       "      <td>2</td>\n",
       "      <td>1</td>\n",
       "      <td>4</td>\n",
       "      <td>1</td>\n",
       "      <td>2</td>\n",
       "      <td>4</td>\n",
       "      <td>1</td>\n",
       "    </tr>\n",
       "    <tr>\n",
       "      <th>ReturnLines</th>\n",
       "      <td>0</td>\n",
       "      <td>0</td>\n",
       "      <td>0</td>\n",
       "      <td>0</td>\n",
       "      <td>1</td>\n",
       "      <td>0</td>\n",
       "      <td>0</td>\n",
       "    </tr>\n",
       "    <tr>\n",
       "      <th>GiftCardLines</th>\n",
       "      <td>0</td>\n",
       "      <td>0</td>\n",
       "      <td>0</td>\n",
       "      <td>0</td>\n",
       "      <td>0</td>\n",
       "      <td>0</td>\n",
       "      <td>0</td>\n",
       "    </tr>\n",
       "    <tr>\n",
       "      <th>NetAmount</th>\n",
       "      <td>7.6</td>\n",
       "      <td>5.8</td>\n",
       "      <td>13.08</td>\n",
       "      <td>7.6</td>\n",
       "      <td>19.89</td>\n",
       "      <td>17.2</td>\n",
       "      <td>9</td>\n",
       "    </tr>\n",
       "    <tr>\n",
       "      <th>NetRetailAmount</th>\n",
       "      <td>0</td>\n",
       "      <td>0</td>\n",
       "      <td>13.08</td>\n",
       "      <td>0</td>\n",
       "      <td>19.94</td>\n",
       "      <td>17.2</td>\n",
       "      <td>0</td>\n",
       "    </tr>\n",
       "    <tr>\n",
       "      <th>NetQSRAmount</th>\n",
       "      <td>7.6</td>\n",
       "      <td>5.8</td>\n",
       "      <td>0</td>\n",
       "      <td>7.6</td>\n",
       "      <td>0</td>\n",
       "      <td>0</td>\n",
       "      <td>9</td>\n",
       "    </tr>\n",
       "    <tr>\n",
       "      <th>DiscountAmount</th>\n",
       "      <td>0</td>\n",
       "      <td>0</td>\n",
       "      <td>0</td>\n",
       "      <td>0</td>\n",
       "      <td>0</td>\n",
       "      <td>0</td>\n",
       "      <td>0</td>\n",
       "    </tr>\n",
       "    <tr>\n",
       "      <th>UniqueItems</th>\n",
       "      <td>1</td>\n",
       "      <td>1</td>\n",
       "      <td>4</td>\n",
       "      <td>1</td>\n",
       "      <td>3</td>\n",
       "      <td>2</td>\n",
       "      <td>1</td>\n",
       "    </tr>\n",
       "    <tr>\n",
       "      <th>UniqueCategories</th>\n",
       "      <td>1</td>\n",
       "      <td>1</td>\n",
       "      <td>3</td>\n",
       "      <td>1</td>\n",
       "      <td>3</td>\n",
       "      <td>1</td>\n",
       "      <td>1</td>\n",
       "    </tr>\n",
       "    <tr>\n",
       "      <th>ReturnedBags</th>\n",
       "      <td>False</td>\n",
       "      <td>False</td>\n",
       "      <td>False</td>\n",
       "      <td>False</td>\n",
       "      <td>True</td>\n",
       "      <td>False</td>\n",
       "      <td>False</td>\n",
       "    </tr>\n",
       "    <tr>\n",
       "      <th>BoughtProduce</th>\n",
       "      <td>False</td>\n",
       "      <td>False</td>\n",
       "      <td>True</td>\n",
       "      <td>False</td>\n",
       "      <td>False</td>\n",
       "      <td>False</td>\n",
       "      <td>False</td>\n",
       "    </tr>\n",
       "    <tr>\n",
       "      <th>TicketMonthDecimal</th>\n",
       "      <td>5.71875</td>\n",
       "      <td>3.5</td>\n",
       "      <td>8.15625</td>\n",
       "      <td>2.31034</td>\n",
       "      <td>9.90323</td>\n",
       "      <td>11.9032</td>\n",
       "      <td>8.71875</td>\n",
       "    </tr>\n",
       "    <tr>\n",
       "      <th>WeekdayNumber</th>\n",
       "      <td>5</td>\n",
       "      <td>7</td>\n",
       "      <td>2</td>\n",
       "      <td>7</td>\n",
       "      <td>1</td>\n",
       "      <td>6</td>\n",
       "      <td>6</td>\n",
       "    </tr>\n",
       "    <tr>\n",
       "      <th>IsFrontEnd</th>\n",
       "      <td>False</td>\n",
       "      <td>False</td>\n",
       "      <td>True</td>\n",
       "      <td>False</td>\n",
       "      <td>True</td>\n",
       "      <td>False</td>\n",
       "      <td>False</td>\n",
       "    </tr>\n",
       "    <tr>\n",
       "      <th>WillReturn</th>\n",
       "      <td>False</td>\n",
       "      <td>True</td>\n",
       "      <td>True</td>\n",
       "      <td>True</td>\n",
       "      <td>True</td>\n",
       "      <td>True</td>\n",
       "      <td>False</td>\n",
       "    </tr>\n",
       "  </tbody>\n",
       "</table>\n",
       "</div>"
      ],
      "text/plain": [
       "                    7687     1533671  192964   1466582  1199583  1333294  \\\n",
       "TicketTime             12.2  11.4667  15.4833  17.0333  18.3833    17.15   \n",
       "PriorVisits               0        0       12        4       10        0   \n",
       "SaleLines                 2        1        4        1        2        4   \n",
       "ReturnLines               0        0        0        0        1        0   \n",
       "GiftCardLines             0        0        0        0        0        0   \n",
       "NetAmount               7.6      5.8    13.08      7.6    19.89     17.2   \n",
       "NetRetailAmount           0        0    13.08        0    19.94     17.2   \n",
       "NetQSRAmount            7.6      5.8        0      7.6        0        0   \n",
       "DiscountAmount            0        0        0        0        0        0   \n",
       "UniqueItems               1        1        4        1        3        2   \n",
       "UniqueCategories          1        1        3        1        3        1   \n",
       "ReturnedBags          False    False    False    False     True    False   \n",
       "BoughtProduce         False    False     True    False    False    False   \n",
       "TicketMonthDecimal  5.71875      3.5  8.15625  2.31034  9.90323  11.9032   \n",
       "WeekdayNumber             5        7        2        7        1        6   \n",
       "IsFrontEnd            False    False     True    False     True    False   \n",
       "WillReturn            False     True     True     True     True     True   \n",
       "\n",
       "                    267013   \n",
       "TicketTime             14.1  \n",
       "PriorVisits               0  \n",
       "SaleLines                 1  \n",
       "ReturnLines               0  \n",
       "GiftCardLines             0  \n",
       "NetAmount                 9  \n",
       "NetRetailAmount           0  \n",
       "NetQSRAmount              9  \n",
       "DiscountAmount            0  \n",
       "UniqueItems               1  \n",
       "UniqueCategories          1  \n",
       "ReturnedBags          False  \n",
       "BoughtProduce         False  \n",
       "TicketMonthDecimal  8.71875  \n",
       "WeekdayNumber             6  \n",
       "IsFrontEnd            False  \n",
       "WillReturn            False  "
      ]
     },
     "execution_count": 631,
     "metadata": {},
     "output_type": "execute_result"
    }
   ],
   "source": [
    "# sample data, transposed for readability\n",
    "df.sample(7).T"
   ]
  },
  {
   "cell_type": "code",
   "execution_count": 632,
   "metadata": {
    "collapsed": false
   },
   "outputs": [
    {
     "data": {
      "text/html": [
       "<div>\n",
       "<table border=\"1\" class=\"dataframe\">\n",
       "  <thead>\n",
       "    <tr style=\"text-align: right;\">\n",
       "      <th></th>\n",
       "      <th>count</th>\n",
       "      <th>mean</th>\n",
       "      <th>std</th>\n",
       "      <th>min</th>\n",
       "      <th>25%</th>\n",
       "      <th>50%</th>\n",
       "      <th>75%</th>\n",
       "      <th>max</th>\n",
       "    </tr>\n",
       "  </thead>\n",
       "  <tbody>\n",
       "    <tr>\n",
       "      <th>TicketTime</th>\n",
       "      <td>1.62185e+06</td>\n",
       "      <td>16.3297</td>\n",
       "      <td>3.10457</td>\n",
       "      <td>0</td>\n",
       "      <td>13.7333</td>\n",
       "      <td>16.2333</td>\n",
       "      <td>18.7667</td>\n",
       "      <td>23.9667</td>\n",
       "    </tr>\n",
       "    <tr>\n",
       "      <th>PriorVisits</th>\n",
       "      <td>1.62185e+06</td>\n",
       "      <td>5.23733</td>\n",
       "      <td>18.046</td>\n",
       "      <td>0</td>\n",
       "      <td>0</td>\n",
       "      <td>1</td>\n",
       "      <td>3</td>\n",
       "      <td>564</td>\n",
       "    </tr>\n",
       "    <tr>\n",
       "      <th>SaleLines</th>\n",
       "      <td>1.62185e+06</td>\n",
       "      <td>3.75782</td>\n",
       "      <td>4.26383</td>\n",
       "      <td>0</td>\n",
       "      <td>1</td>\n",
       "      <td>2</td>\n",
       "      <td>5</td>\n",
       "      <td>166</td>\n",
       "    </tr>\n",
       "    <tr>\n",
       "      <th>ReturnLines</th>\n",
       "      <td>1.62185e+06</td>\n",
       "      <td>0.0172482</td>\n",
       "      <td>0.149757</td>\n",
       "      <td>0</td>\n",
       "      <td>0</td>\n",
       "      <td>0</td>\n",
       "      <td>0</td>\n",
       "      <td>24</td>\n",
       "    </tr>\n",
       "    <tr>\n",
       "      <th>GiftCardLines</th>\n",
       "      <td>1.62185e+06</td>\n",
       "      <td>0.00170484</td>\n",
       "      <td>0.0792194</td>\n",
       "      <td>0</td>\n",
       "      <td>0</td>\n",
       "      <td>0</td>\n",
       "      <td>0</td>\n",
       "      <td>55</td>\n",
       "    </tr>\n",
       "    <tr>\n",
       "      <th>NetAmount</th>\n",
       "      <td>1.62185e+06</td>\n",
       "      <td>29.8887</td>\n",
       "      <td>42.4892</td>\n",
       "      <td>-966.4</td>\n",
       "      <td>8.64</td>\n",
       "      <td>15.98</td>\n",
       "      <td>35.2</td>\n",
       "      <td>6793.92</td>\n",
       "    </tr>\n",
       "    <tr>\n",
       "      <th>NetRetailAmount</th>\n",
       "      <td>1.62185e+06</td>\n",
       "      <td>25.0018</td>\n",
       "      <td>42.8552</td>\n",
       "      <td>-966.4</td>\n",
       "      <td>0</td>\n",
       "      <td>10.43</td>\n",
       "      <td>32.4</td>\n",
       "      <td>4738</td>\n",
       "    </tr>\n",
       "    <tr>\n",
       "      <th>NetQSRAmount</th>\n",
       "      <td>1.62185e+06</td>\n",
       "      <td>4.82743</td>\n",
       "      <td>9.41026</td>\n",
       "      <td>-116.6</td>\n",
       "      <td>0</td>\n",
       "      <td>0</td>\n",
       "      <td>8.08</td>\n",
       "      <td>1036.37</td>\n",
       "    </tr>\n",
       "    <tr>\n",
       "      <th>DiscountAmount</th>\n",
       "      <td>1.62185e+06</td>\n",
       "      <td>0.075909</td>\n",
       "      <td>1.45071</td>\n",
       "      <td>-241.6</td>\n",
       "      <td>0</td>\n",
       "      <td>0</td>\n",
       "      <td>0</td>\n",
       "      <td>388.79</td>\n",
       "    </tr>\n",
       "    <tr>\n",
       "      <th>UniqueItems</th>\n",
       "      <td>1.62185e+06</td>\n",
       "      <td>3.55048</td>\n",
       "      <td>3.8821</td>\n",
       "      <td>1</td>\n",
       "      <td>1</td>\n",
       "      <td>2</td>\n",
       "      <td>4</td>\n",
       "      <td>93</td>\n",
       "    </tr>\n",
       "    <tr>\n",
       "      <th>UniqueCategories</th>\n",
       "      <td>1.62185e+06</td>\n",
       "      <td>2.262</td>\n",
       "      <td>1.82257</td>\n",
       "      <td>1</td>\n",
       "      <td>1</td>\n",
       "      <td>1</td>\n",
       "      <td>3</td>\n",
       "      <td>17</td>\n",
       "    </tr>\n",
       "    <tr>\n",
       "      <th>ReturnedBags</th>\n",
       "      <td>1621854</td>\n",
       "      <td>0.0106952</td>\n",
       "      <td>0.102863</td>\n",
       "      <td>False</td>\n",
       "      <td>0</td>\n",
       "      <td>0</td>\n",
       "      <td>0</td>\n",
       "      <td>True</td>\n",
       "    </tr>\n",
       "    <tr>\n",
       "      <th>BoughtProduce</th>\n",
       "      <td>1621854</td>\n",
       "      <td>0.262554</td>\n",
       "      <td>0.440022</td>\n",
       "      <td>False</td>\n",
       "      <td>0</td>\n",
       "      <td>0</td>\n",
       "      <td>1</td>\n",
       "      <td>True</td>\n",
       "    </tr>\n",
       "    <tr>\n",
       "      <th>TicketMonthDecimal</th>\n",
       "      <td>1.62185e+06</td>\n",
       "      <td>7.17155</td>\n",
       "      <td>3.36615</td>\n",
       "      <td>1.03125</td>\n",
       "      <td>4.3871</td>\n",
       "      <td>7.21875</td>\n",
       "      <td>10.0938</td>\n",
       "      <td>12.9688</td>\n",
       "    </tr>\n",
       "    <tr>\n",
       "      <th>WeekdayNumber</th>\n",
       "      <td>1.62185e+06</td>\n",
       "      <td>4.13476</td>\n",
       "      <td>1.98976</td>\n",
       "      <td>1</td>\n",
       "      <td>2</td>\n",
       "      <td>4</td>\n",
       "      <td>6</td>\n",
       "      <td>7</td>\n",
       "    </tr>\n",
       "    <tr>\n",
       "      <th>IsFrontEnd</th>\n",
       "      <td>1621854</td>\n",
       "      <td>0.518002</td>\n",
       "      <td>0.499676</td>\n",
       "      <td>False</td>\n",
       "      <td>0</td>\n",
       "      <td>1</td>\n",
       "      <td>1</td>\n",
       "      <td>True</td>\n",
       "    </tr>\n",
       "    <tr>\n",
       "      <th>WillReturn</th>\n",
       "      <td>1621854</td>\n",
       "      <td>0.444633</td>\n",
       "      <td>0.496925</td>\n",
       "      <td>False</td>\n",
       "      <td>0</td>\n",
       "      <td>0</td>\n",
       "      <td>1</td>\n",
       "      <td>True</td>\n",
       "    </tr>\n",
       "  </tbody>\n",
       "</table>\n",
       "</div>"
      ],
      "text/plain": [
       "                          count        mean        std      min      25%  \\\n",
       "TicketTime          1.62185e+06     16.3297    3.10457        0  13.7333   \n",
       "PriorVisits         1.62185e+06     5.23733     18.046        0        0   \n",
       "SaleLines           1.62185e+06     3.75782    4.26383        0        1   \n",
       "ReturnLines         1.62185e+06   0.0172482   0.149757        0        0   \n",
       "GiftCardLines       1.62185e+06  0.00170484  0.0792194        0        0   \n",
       "NetAmount           1.62185e+06     29.8887    42.4892   -966.4     8.64   \n",
       "NetRetailAmount     1.62185e+06     25.0018    42.8552   -966.4        0   \n",
       "NetQSRAmount        1.62185e+06     4.82743    9.41026   -116.6        0   \n",
       "DiscountAmount      1.62185e+06    0.075909    1.45071   -241.6        0   \n",
       "UniqueItems         1.62185e+06     3.55048     3.8821        1        1   \n",
       "UniqueCategories    1.62185e+06       2.262    1.82257        1        1   \n",
       "ReturnedBags            1621854   0.0106952   0.102863    False        0   \n",
       "BoughtProduce           1621854    0.262554   0.440022    False        0   \n",
       "TicketMonthDecimal  1.62185e+06     7.17155    3.36615  1.03125   4.3871   \n",
       "WeekdayNumber       1.62185e+06     4.13476    1.98976        1        2   \n",
       "IsFrontEnd              1621854    0.518002   0.499676    False        0   \n",
       "WillReturn              1621854    0.444633   0.496925    False        0   \n",
       "\n",
       "                        50%      75%      max  \n",
       "TicketTime          16.2333  18.7667  23.9667  \n",
       "PriorVisits               1        3      564  \n",
       "SaleLines                 2        5      166  \n",
       "ReturnLines               0        0       24  \n",
       "GiftCardLines             0        0       55  \n",
       "NetAmount             15.98     35.2  6793.92  \n",
       "NetRetailAmount       10.43     32.4     4738  \n",
       "NetQSRAmount              0     8.08  1036.37  \n",
       "DiscountAmount            0        0   388.79  \n",
       "UniqueItems               2        4       93  \n",
       "UniqueCategories          1        3       17  \n",
       "ReturnedBags              0        0     True  \n",
       "BoughtProduce             0        1     True  \n",
       "TicketMonthDecimal  7.21875  10.0938  12.9688  \n",
       "WeekdayNumber             4        6        7  \n",
       "IsFrontEnd                1        1     True  \n",
       "WillReturn                0        1     True  "
      ]
     },
     "execution_count": 632,
     "metadata": {},
     "output_type": "execute_result"
    }
   ],
   "source": [
    "df.describe().T"
   ]
  },
  {
   "cell_type": "code",
   "execution_count": 633,
   "metadata": {
    "collapsed": false
   },
   "outputs": [
    {
     "data": {
      "text/plain": [
       "TicketTime            float64\n",
       "PriorVisits             int64\n",
       "SaleLines               int64\n",
       "ReturnLines             int64\n",
       "GiftCardLines           int64\n",
       "NetAmount             float64\n",
       "NetRetailAmount       float64\n",
       "NetQSRAmount          float64\n",
       "DiscountAmount        float64\n",
       "UniqueItems             int64\n",
       "UniqueCategories        int64\n",
       "ReturnedBags             bool\n",
       "BoughtProduce            bool\n",
       "TicketMonthDecimal    float64\n",
       "WeekdayNumber           int64\n",
       "IsFrontEnd               bool\n",
       "WillReturn               bool\n",
       "dtype: object"
      ]
     },
     "execution_count": 633,
     "metadata": {},
     "output_type": "execute_result"
    }
   ],
   "source": [
    "df.dtypes"
   ]
  },
  {
   "cell_type": "markdown",
   "metadata": {},
   "source": [
    "### get the overall rate repeat visits"
   ]
  },
  {
   "cell_type": "code",
   "execution_count": 634,
   "metadata": {
    "collapsed": false,
    "scrolled": true
   },
   "outputs": [
    {
     "data": {
      "text/plain": [
       "'Overall tickets yielding repeat business: 44.46%'"
      ]
     },
     "execution_count": 634,
     "metadata": {},
     "output_type": "execute_result"
    }
   ],
   "source": [
    "'Overall tickets yielding repeat business: {:.2f}%'.format(df.WillReturn.mean()*100)"
   ]
  },
  {
   "cell_type": "markdown",
   "metadata": {},
   "source": [
    "### dealing with outliers\n",
    "- Some data is clearly wrong or unhelpful (like sales when we are closed)\n",
    "- Other outliers exist, but they cannot be removed yet as they often indicate loyal customers (high rollers)"
   ]
  },
  {
   "cell_type": "code",
   "execution_count": 635,
   "metadata": {
    "collapsed": false
   },
   "outputs": [],
   "source": [
    "# remove sales before 7am and after 11pm\n",
    "df = df[(df['TicketTime'] >= 7) & (df['TicketTime'] <= 23.5)]"
   ]
  },
  {
   "cell_type": "markdown",
   "metadata": {},
   "source": [
    "### EDA on features"
   ]
  },
  {
   "cell_type": "markdown",
   "metadata": {},
   "source": [
    "### define two EDA helper functions"
   ]
  },
  {
   "cell_type": "code",
   "execution_count": 639,
   "metadata": {
    "collapsed": true
   },
   "outputs": [],
   "source": [
    "# define function 'get_rrate' for quick analysis of features and repeat business\n",
    "def get_rrate(df, col_list):\n",
    "    \"\"\"Given a dataframe and list of groupby columns,\n",
    "    return a crosstab dataframe of Repeat, NonRepeat, and RepeatRate\n",
    "    \"\"\"\n",
    "    rdict = {1:'Repeat',0:'NonRepeat'}\n",
    "    rorder = ['Repeat','NonRepeat']\n",
    "\n",
    "    ct = pd.crosstab([df[c] for c in col_list], df['WillReturn'].map(rdict))[rorder]\n",
    "    ct['CustCount'] = ct['Repeat'] + ct['NonRepeat']\n",
    "    ct['CustDist'] = ct['CustCount'].astype(float) / ct['CustCount'].sum() * 100\n",
    "    ct['RepeatRate'] = ct['Repeat'].astype(float) / ct['CustCount'] * 100\n",
    "    ct['RepeatDist'] = ct['Repeat'].astype(float) / ct['Repeat'].sum() * 100\n",
    "    ct.columns.name=None\n",
    "    return ct"
   ]
  },
  {
   "cell_type": "code",
   "execution_count": 640,
   "metadata": {
    "collapsed": false
   },
   "outputs": [],
   "source": [
    "def plot_rrate(df, col_list):\n",
    "    \"\"\"Given dataframe and list of columns, call \"get_rrate\" to\n",
    "    calculate return-rate distributions by feature values,\n",
    "    then plot the rate of return and % return rate\n",
    "    \"\"\"\n",
    "    fig, axes = plt.subplots(nrows=1, ncols=2, figsize=(15,5))\n",
    "    ct = get_rrate(df, col_list)\n",
    "    ct[['Repeat','NonRepeat']].plot(kind='bar', stacked=True, color=['g','k'], alpha=.5, ax=axes[0])\n",
    "    axes[0].set_title('returns per ' + ', '.join(col_list))\n",
    "    axes[0].set_ylabel('Customer Count')\n",
    "    \n",
    "    ct[['RepeatRate']].plot(kind='bar', stacked=True, color=['blue'], alpha=.5, ax=axes[1], ylim=(0,100))\n",
    "    axes[1].set_title('return rate by ' + ', '.join(col_list))\n",
    "    axes[1].set_ylabel('% Return Rate')"
   ]
  },
  {
   "cell_type": "code",
   "execution_count": 641,
   "metadata": {
    "collapsed": true
   },
   "outputs": [],
   "source": [
    "def plot_rrate_hist(df, cut_col, bins):\n",
    "    \"\"\"Give dataframe and a \"cut_col\" feature name, \n",
    "    cut the continuous feature values into \"bins\" \n",
    "    \"\"\"\n",
    "    fig, axes = plt.subplots(nrows=1, ncols=2, figsize=(15,5))\n",
    "    \n",
    "    dgrp = df.groupby(pd.cut(df[cut_col], bins))['WillReturn']\n",
    "    \n",
    "    dgrp1 = pd.concat([dgrp.sum(), dgrp.count() - dgrp.sum()], axis=1)\n",
    "    dgrp1.columns = ['Repeat','NonRepeat']\n",
    "    dgrp1.plot(kind='bar', stacked=True, color=['g','k'], alpha=.5, title=cut_col + ' distribution', ax=axes[0])\n",
    "    axes[0].set_title(cut_col + ' distribution')\n",
    "    axes[0].set_ylabel('Customer Count')\n",
    "    \n",
    "    \n",
    "    (dgrp.mean()*100).plot(kind='bar', color='blue',alpha=.5,ax=axes[1], title='return rate by ' + cut_col, ylim=(0,100))\n",
    "    axes[1].set_title('return rate by ' + cut_col)\n",
    "    axes[1].set_ylabel('% Return Rate')"
   ]
  },
  {
   "cell_type": "markdown",
   "metadata": {},
   "source": [
    "### impact of weekdays on return visits\n",
    "- Traffic seems equally distributed between days of the week\n",
    "- More repeat customers shop on weekdays in number and on a percentage basis"
   ]
  },
  {
   "cell_type": "code",
   "execution_count": 642,
   "metadata": {
    "collapsed": false
   },
   "outputs": [
    {
     "data": {
      "image/png": "[encoded data removed]",
      "text/plain": [
       "<matplotlib.figure.Figure at 0x134f89b0>"
      ]
     },
     "metadata": {},
     "output_type": "display_data"
    }
   ],
   "source": [
    "plot_rrate(df, ['WeekdayNumber'])"
   ]
  },
  {
   "cell_type": "markdown",
   "metadata": {},
   "source": [
    "### impact of seasonality on repeat business\n",
    "- Sales seem normally distributed across months\n",
    "- Return rate is steady across months (slightly higher in January)"
   ]
  },
  {
   "cell_type": "code",
   "execution_count": 643,
   "metadata": {
    "collapsed": false
   },
   "outputs": [
    {
     "data": {
      "image/png": "[encoded data removed]",
      "text/plain": [
       "<matplotlib.figure.Figure at 0x596cee80>"
      ]
     },
     "metadata": {},
     "output_type": "display_data"
    }
   ],
   "source": [
    "plot_rrate_hist(df, 'TicketMonthDecimal', 12)"
   ]
  },
  {
   "cell_type": "markdown",
   "metadata": {},
   "source": [
    "### time of day VS repeat business\n",
    "- of course, sales are focussed around 12PM - 7PM, with outliers on either end\n",
    "- repeat business is slightly more likely between 9AM-11AM and at 6PM"
   ]
  },
  {
   "cell_type": "code",
   "execution_count": 644,
   "metadata": {
    "collapsed": false
   },
   "outputs": [
    {
     "data": {
      "image/png": "[encoded data removed]",
      "text/plain": [
       "<matplotlib.figure.Figure at 0x36fb0208>"
      ]
     },
     "metadata": {},
     "output_type": "display_data"
    }
   ],
   "source": [
    "plot_rrate_hist(df, 'TicketTime', 12)"
   ]
  },
  {
   "cell_type": "markdown",
   "metadata": {},
   "source": [
    "### produce shopping VS repeat business\n",
    "- Feature 'BoughtProduce' comes from domain knowledge about customer behavior\n",
    "- Produce shopping must be done locally (natural filter for tourists)\n",
    "- Fresh produce is uniquely \"Italian\"... maybe these shoppers use Eataly as a grocery store"
   ]
  },
  {
   "cell_type": "code",
   "execution_count": 645,
   "metadata": {
    "collapsed": false
   },
   "outputs": [
    {
     "data": {
      "image/png": "[encoded data removed]",
      "text/plain": [
       "<matplotlib.figure.Figure at 0xd931518>"
      ]
     },
     "metadata": {},
     "output_type": "display_data"
    }
   ],
   "source": [
    "plot_rrate(df, ['BoughtProduce'])"
   ]
  },
  {
   "cell_type": "markdown",
   "metadata": {},
   "source": [
    "### returning bags VS repeat business\n",
    "- Another feature from domain knowledge\n",
    "- Eataly refunds customers $0.05 for returning shopping bags\n",
    "- This would definintely suggest prior visits on by the customer\n",
    "- Far more customers do no return bags (98%), so feature may not work"
   ]
  },
  {
   "cell_type": "code",
   "execution_count": 646,
   "metadata": {
    "collapsed": false
   },
   "outputs": [
    {
     "data": {
      "text/html": [
       "<div>\n",
       "<table border=\"1\" class=\"dataframe\">\n",
       "  <thead>\n",
       "    <tr style=\"text-align: right;\">\n",
       "      <th></th>\n",
       "      <th>Repeat</th>\n",
       "      <th>NonRepeat</th>\n",
       "      <th>CustCount</th>\n",
       "      <th>CustDist</th>\n",
       "      <th>RepeatRate</th>\n",
       "      <th>RepeatDist</th>\n",
       "    </tr>\n",
       "    <tr>\n",
       "      <th>ReturnedBags</th>\n",
       "      <th></th>\n",
       "      <th></th>\n",
       "      <th></th>\n",
       "      <th></th>\n",
       "      <th></th>\n",
       "      <th></th>\n",
       "    </tr>\n",
       "  </thead>\n",
       "  <tbody>\n",
       "    <tr>\n",
       "      <th>False</th>\n",
       "      <td>710691</td>\n",
       "      <td>893775</td>\n",
       "      <td>1604466</td>\n",
       "      <td>98.930456</td>\n",
       "      <td>44.294550</td>\n",
       "      <td>98.554461</td>\n",
       "    </tr>\n",
       "    <tr>\n",
       "      <th>True</th>\n",
       "      <td>10424</td>\n",
       "      <td>6922</td>\n",
       "      <td>17346</td>\n",
       "      <td>1.069544</td>\n",
       "      <td>60.094546</td>\n",
       "      <td>1.445539</td>\n",
       "    </tr>\n",
       "  </tbody>\n",
       "</table>\n",
       "</div>"
      ],
      "text/plain": [
       "              Repeat  NonRepeat  CustCount   CustDist  RepeatRate  RepeatDist\n",
       "ReturnedBags                                                                 \n",
       "False         710691     893775    1604466  98.930456   44.294550   98.554461\n",
       "True           10424       6922      17346   1.069544   60.094546    1.445539"
      ]
     },
     "execution_count": 646,
     "metadata": {},
     "output_type": "execute_result"
    }
   ],
   "source": [
    "get_rrate(df, ['ReturnedBags'])"
   ]
  },
  {
   "cell_type": "code",
   "execution_count": 647,
   "metadata": {
    "collapsed": false,
    "scrolled": true
   },
   "outputs": [
    {
     "data": {
      "image/png": "[encoded data removed]",
      "text/plain": [
       "<matplotlib.figure.Figure at 0x6cf792b0>"
      ]
     },
     "metadata": {},
     "output_type": "display_data"
    }
   ],
   "source": [
    "plot_rrate(df, ['ReturnedBags'])"
   ]
  },
  {
   "cell_type": "markdown",
   "metadata": {},
   "source": [
    "### Net spend vs repeat business\n",
    "- First pair of graphs show spending distributions from 25th - 75th percentiles\n",
    "- Second pair of graphs show spending distributions from \\$0 - $250\n",
    "- Both pairs suggest natural tendancy towards smaller dollar value tickets, but constant probability of return"
   ]
  },
  {
   "cell_type": "code",
   "execution_count": 648,
   "metadata": {
    "collapsed": false
   },
   "outputs": [
    {
     "data": {
      "image/png": "[encoded data removed]",
      "text/plain": [
       "<matplotlib.figure.Figure at 0x6d05c4a8>"
      ]
     },
     "metadata": {},
     "output_type": "display_data"
    }
   ],
   "source": [
    "# frequency & probability for spenders between $0 and $250 (to account for outliers in sales)\n",
    "plot_rrate_hist(df[(df['NetAmount']<36) & (df['NetAmount']>8)], 'NetAmount',10)"
   ]
  },
  {
   "cell_type": "code",
   "execution_count": 649,
   "metadata": {
    "collapsed": false
   },
   "outputs": [
    {
     "data": {
      "image/png": "[encoded data removed]",
      "text/plain": [
       "<matplotlib.figure.Figure at 0xf3d5160>"
      ]
     },
     "metadata": {},
     "output_type": "display_data"
    }
   ],
   "source": [
    "# frequency & probability for spenders between $0 and $250 (to account for outliers in sales)\n",
    "plot_rrate_hist(df[(df['NetAmount']<250) & (df['NetAmount']>0)], 'NetAmount',10)"
   ]
  },
  {
   "cell_type": "markdown",
   "metadata": {},
   "source": [
    "### inspecting into correlation of features\n",
    "- as expected, some features have very high correlations\n",
    "    - Sales Lines & Net Amount\n",
    "    - Net Amount & Net Retail Amount\n",
    "    - Sale Lines & Unique Items\n",
    "\n",
    "\n",
    "- ML algorithm will have to accomodate highly-correlated features"
   ]
  },
  {
   "cell_type": "code",
   "execution_count": 650,
   "metadata": {
    "collapsed": false,
    "scrolled": false
   },
   "outputs": [
    {
     "data": {
      "text/html": [
       "<div>\n",
       "<table border=\"1\" class=\"dataframe\">\n",
       "  <thead>\n",
       "    <tr style=\"text-align: right;\">\n",
       "      <th></th>\n",
       "      <th>TicketTime</th>\n",
       "      <th>PriorVisits</th>\n",
       "      <th>SaleLines</th>\n",
       "      <th>ReturnLines</th>\n",
       "      <th>GiftCardLines</th>\n",
       "      <th>NetAmount</th>\n",
       "      <th>NetRetailAmount</th>\n",
       "      <th>NetQSRAmount</th>\n",
       "      <th>DiscountAmount</th>\n",
       "      <th>UniqueItems</th>\n",
       "      <th>UniqueCategories</th>\n",
       "      <th>ReturnedBags</th>\n",
       "      <th>BoughtProduce</th>\n",
       "      <th>TicketMonthDecimal</th>\n",
       "      <th>WeekdayNumber</th>\n",
       "      <th>IsFrontEnd</th>\n",
       "    </tr>\n",
       "  </thead>\n",
       "  <tbody>\n",
       "    <tr>\n",
       "      <th>TicketTime</th>\n",
       "      <td></td>\n",
       "      <td></td>\n",
       "      <td></td>\n",
       "      <td></td>\n",
       "      <td></td>\n",
       "      <td></td>\n",
       "      <td></td>\n",
       "      <td></td>\n",
       "      <td></td>\n",
       "      <td></td>\n",
       "      <td></td>\n",
       "      <td></td>\n",
       "      <td></td>\n",
       "      <td></td>\n",
       "      <td></td>\n",
       "      <td></td>\n",
       "    </tr>\n",
       "    <tr>\n",
       "      <th>PriorVisits</th>\n",
       "      <td></td>\n",
       "      <td></td>\n",
       "      <td></td>\n",
       "      <td></td>\n",
       "      <td></td>\n",
       "      <td></td>\n",
       "      <td></td>\n",
       "      <td></td>\n",
       "      <td></td>\n",
       "      <td></td>\n",
       "      <td></td>\n",
       "      <td></td>\n",
       "      <td></td>\n",
       "      <td></td>\n",
       "      <td></td>\n",
       "      <td></td>\n",
       "    </tr>\n",
       "    <tr>\n",
       "      <th>SaleLines</th>\n",
       "      <td></td>\n",
       "      <td></td>\n",
       "      <td></td>\n",
       "      <td></td>\n",
       "      <td></td>\n",
       "      <td>0.772714</td>\n",
       "      <td>0.785757</td>\n",
       "      <td></td>\n",
       "      <td></td>\n",
       "      <td>0.980805</td>\n",
       "      <td>0.844837</td>\n",
       "      <td></td>\n",
       "      <td>0.508431</td>\n",
       "      <td></td>\n",
       "      <td></td>\n",
       "      <td></td>\n",
       "    </tr>\n",
       "    <tr>\n",
       "      <th>ReturnLines</th>\n",
       "      <td></td>\n",
       "      <td></td>\n",
       "      <td></td>\n",
       "      <td></td>\n",
       "      <td></td>\n",
       "      <td></td>\n",
       "      <td></td>\n",
       "      <td></td>\n",
       "      <td></td>\n",
       "      <td></td>\n",
       "      <td></td>\n",
       "      <td>0.687726</td>\n",
       "      <td></td>\n",
       "      <td></td>\n",
       "      <td></td>\n",
       "      <td></td>\n",
       "    </tr>\n",
       "    <tr>\n",
       "      <th>GiftCardLines</th>\n",
       "      <td></td>\n",
       "      <td></td>\n",
       "      <td></td>\n",
       "      <td></td>\n",
       "      <td></td>\n",
       "      <td></td>\n",
       "      <td></td>\n",
       "      <td></td>\n",
       "      <td></td>\n",
       "      <td></td>\n",
       "      <td></td>\n",
       "      <td></td>\n",
       "      <td></td>\n",
       "      <td></td>\n",
       "      <td></td>\n",
       "      <td></td>\n",
       "    </tr>\n",
       "    <tr>\n",
       "      <th>NetAmount</th>\n",
       "      <td></td>\n",
       "      <td></td>\n",
       "      <td>0.772714</td>\n",
       "      <td></td>\n",
       "      <td></td>\n",
       "      <td></td>\n",
       "      <td>0.96559</td>\n",
       "      <td></td>\n",
       "      <td></td>\n",
       "      <td>0.747154</td>\n",
       "      <td>0.646295</td>\n",
       "      <td></td>\n",
       "      <td></td>\n",
       "      <td></td>\n",
       "      <td></td>\n",
       "      <td></td>\n",
       "    </tr>\n",
       "    <tr>\n",
       "      <th>NetRetailAmount</th>\n",
       "      <td></td>\n",
       "      <td></td>\n",
       "      <td>0.785757</td>\n",
       "      <td></td>\n",
       "      <td></td>\n",
       "      <td>0.96559</td>\n",
       "      <td></td>\n",
       "      <td></td>\n",
       "      <td></td>\n",
       "      <td>0.7636</td>\n",
       "      <td>0.675023</td>\n",
       "      <td></td>\n",
       "      <td></td>\n",
       "      <td></td>\n",
       "      <td></td>\n",
       "      <td></td>\n",
       "    </tr>\n",
       "    <tr>\n",
       "      <th>NetQSRAmount</th>\n",
       "      <td></td>\n",
       "      <td></td>\n",
       "      <td></td>\n",
       "      <td></td>\n",
       "      <td></td>\n",
       "      <td></td>\n",
       "      <td></td>\n",
       "      <td></td>\n",
       "      <td></td>\n",
       "      <td></td>\n",
       "      <td></td>\n",
       "      <td></td>\n",
       "      <td></td>\n",
       "      <td></td>\n",
       "      <td></td>\n",
       "      <td></td>\n",
       "    </tr>\n",
       "    <tr>\n",
       "      <th>DiscountAmount</th>\n",
       "      <td></td>\n",
       "      <td></td>\n",
       "      <td></td>\n",
       "      <td></td>\n",
       "      <td></td>\n",
       "      <td></td>\n",
       "      <td></td>\n",
       "      <td></td>\n",
       "      <td></td>\n",
       "      <td></td>\n",
       "      <td></td>\n",
       "      <td></td>\n",
       "      <td></td>\n",
       "      <td></td>\n",
       "      <td></td>\n",
       "      <td></td>\n",
       "    </tr>\n",
       "    <tr>\n",
       "      <th>UniqueItems</th>\n",
       "      <td></td>\n",
       "      <td></td>\n",
       "      <td>0.980805</td>\n",
       "      <td></td>\n",
       "      <td></td>\n",
       "      <td>0.747154</td>\n",
       "      <td>0.7636</td>\n",
       "      <td></td>\n",
       "      <td></td>\n",
       "      <td></td>\n",
       "      <td>0.867877</td>\n",
       "      <td></td>\n",
       "      <td>0.532414</td>\n",
       "      <td></td>\n",
       "      <td></td>\n",
       "      <td></td>\n",
       "    </tr>\n",
       "    <tr>\n",
       "      <th>UniqueCategories</th>\n",
       "      <td></td>\n",
       "      <td></td>\n",
       "      <td>0.844837</td>\n",
       "      <td></td>\n",
       "      <td></td>\n",
       "      <td>0.646295</td>\n",
       "      <td>0.675023</td>\n",
       "      <td></td>\n",
       "      <td></td>\n",
       "      <td>0.867877</td>\n",
       "      <td></td>\n",
       "      <td></td>\n",
       "      <td>0.579083</td>\n",
       "      <td></td>\n",
       "      <td></td>\n",
       "      <td>0.516499</td>\n",
       "    </tr>\n",
       "    <tr>\n",
       "      <th>ReturnedBags</th>\n",
       "      <td></td>\n",
       "      <td></td>\n",
       "      <td></td>\n",
       "      <td>0.687726</td>\n",
       "      <td></td>\n",
       "      <td></td>\n",
       "      <td></td>\n",
       "      <td></td>\n",
       "      <td></td>\n",
       "      <td></td>\n",
       "      <td></td>\n",
       "      <td></td>\n",
       "      <td></td>\n",
       "      <td></td>\n",
       "      <td></td>\n",
       "      <td></td>\n",
       "    </tr>\n",
       "    <tr>\n",
       "      <th>BoughtProduce</th>\n",
       "      <td></td>\n",
       "      <td></td>\n",
       "      <td>0.508431</td>\n",
       "      <td></td>\n",
       "      <td></td>\n",
       "      <td></td>\n",
       "      <td></td>\n",
       "      <td></td>\n",
       "      <td></td>\n",
       "      <td>0.532414</td>\n",
       "      <td>0.579083</td>\n",
       "      <td></td>\n",
       "      <td></td>\n",
       "      <td></td>\n",
       "      <td></td>\n",
       "      <td></td>\n",
       "    </tr>\n",
       "    <tr>\n",
       "      <th>TicketMonthDecimal</th>\n",
       "      <td></td>\n",
       "      <td></td>\n",
       "      <td></td>\n",
       "      <td></td>\n",
       "      <td></td>\n",
       "      <td></td>\n",
       "      <td></td>\n",
       "      <td></td>\n",
       "      <td></td>\n",
       "      <td></td>\n",
       "      <td></td>\n",
       "      <td></td>\n",
       "      <td></td>\n",
       "      <td></td>\n",
       "      <td></td>\n",
       "      <td></td>\n",
       "    </tr>\n",
       "    <tr>\n",
       "      <th>WeekdayNumber</th>\n",
       "      <td></td>\n",
       "      <td></td>\n",
       "      <td></td>\n",
       "      <td></td>\n",
       "      <td></td>\n",
       "      <td></td>\n",
       "      <td></td>\n",
       "      <td></td>\n",
       "      <td></td>\n",
       "      <td></td>\n",
       "      <td></td>\n",
       "      <td></td>\n",
       "      <td></td>\n",
       "      <td></td>\n",
       "      <td></td>\n",
       "      <td></td>\n",
       "    </tr>\n",
       "    <tr>\n",
       "      <th>IsFrontEnd</th>\n",
       "      <td></td>\n",
       "      <td></td>\n",
       "      <td></td>\n",
       "      <td></td>\n",
       "      <td></td>\n",
       "      <td></td>\n",
       "      <td></td>\n",
       "      <td></td>\n",
       "      <td></td>\n",
       "      <td></td>\n",
       "      <td>0.516499</td>\n",
       "      <td></td>\n",
       "      <td></td>\n",
       "      <td></td>\n",
       "      <td></td>\n",
       "      <td></td>\n",
       "    </tr>\n",
       "  </tbody>\n",
       "</table>\n",
       "</div>"
      ],
      "text/plain": [
       "                   TicketTime PriorVisits SaleLines ReturnLines GiftCardLines  \\\n",
       "TicketTime                                                                      \n",
       "PriorVisits                                                                     \n",
       "SaleLines                                                                       \n",
       "ReturnLines                                                                     \n",
       "GiftCardLines                                                                   \n",
       "NetAmount                                  0.772714                             \n",
       "NetRetailAmount                            0.785757                             \n",
       "NetQSRAmount                                                                    \n",
       "DiscountAmount                                                                  \n",
       "UniqueItems                                0.980805                             \n",
       "UniqueCategories                           0.844837                             \n",
       "ReturnedBags                                           0.687726                 \n",
       "BoughtProduce                              0.508431                             \n",
       "TicketMonthDecimal                                                              \n",
       "WeekdayNumber                                                                   \n",
       "IsFrontEnd                                                                      \n",
       "\n",
       "                   NetAmount NetRetailAmount NetQSRAmount DiscountAmount  \\\n",
       "TicketTime                                                                 \n",
       "PriorVisits                                                                \n",
       "SaleLines           0.772714        0.785757                               \n",
       "ReturnLines                                                                \n",
       "GiftCardLines                                                              \n",
       "NetAmount                            0.96559                               \n",
       "NetRetailAmount      0.96559                                               \n",
       "NetQSRAmount                                                               \n",
       "DiscountAmount                                                             \n",
       "UniqueItems         0.747154          0.7636                               \n",
       "UniqueCategories    0.646295        0.675023                               \n",
       "ReturnedBags                                                               \n",
       "BoughtProduce                                                              \n",
       "TicketMonthDecimal                                                         \n",
       "WeekdayNumber                                                              \n",
       "IsFrontEnd                                                                 \n",
       "\n",
       "                   UniqueItems UniqueCategories ReturnedBags BoughtProduce  \\\n",
       "TicketTime                                                                   \n",
       "PriorVisits                                                                  \n",
       "SaleLines             0.980805         0.844837                   0.508431   \n",
       "ReturnLines                                         0.687726                 \n",
       "GiftCardLines                                                                \n",
       "NetAmount             0.747154         0.646295                              \n",
       "NetRetailAmount         0.7636         0.675023                              \n",
       "NetQSRAmount                                                                 \n",
       "DiscountAmount                                                               \n",
       "UniqueItems                            0.867877                   0.532414   \n",
       "UniqueCategories      0.867877                                    0.579083   \n",
       "ReturnedBags                                                                 \n",
       "BoughtProduce         0.532414         0.579083                              \n",
       "TicketMonthDecimal                                                           \n",
       "WeekdayNumber                                                                \n",
       "IsFrontEnd                             0.516499                              \n",
       "\n",
       "                   TicketMonthDecimal WeekdayNumber IsFrontEnd  \n",
       "TicketTime                                                      \n",
       "PriorVisits                                                     \n",
       "SaleLines                                                       \n",
       "ReturnLines                                                     \n",
       "GiftCardLines                                                   \n",
       "NetAmount                                                       \n",
       "NetRetailAmount                                                 \n",
       "NetQSRAmount                                                    \n",
       "DiscountAmount                                                  \n",
       "UniqueItems                                                     \n",
       "UniqueCategories                                      0.516499  \n",
       "ReturnedBags                                                    \n",
       "BoughtProduce                                                   \n",
       "TicketMonthDecimal                                              \n",
       "WeekdayNumber                                                   \n",
       "IsFrontEnd                                                      "
      ]
     },
     "execution_count": 650,
     "metadata": {},
     "output_type": "execute_result"
    }
   ],
   "source": [
    "# find correlations between \n",
    "Xcorr = X.corr()\n",
    "Xcorr.where((Xcorr >.5) & (Xcorr < 1),'')"
   ]
  },
  {
   "cell_type": "markdown",
   "metadata": {},
   "source": [
    "### split data into test/train sets"
   ]
  },
  {
   "cell_type": "code",
   "execution_count": 636,
   "metadata": {
    "collapsed": false
   },
   "outputs": [],
   "source": [
    "# separate the data set into features and prediction\n",
    "X = df.drop('WillReturn',axis=1).copy()\n",
    "y = df['WillReturn']"
   ]
  },
  {
   "cell_type": "code",
   "execution_count": 753,
   "metadata": {
    "collapsed": true
   },
   "outputs": [],
   "source": [
    "# split into test/train sets\n",
    "X_train, X_test, y_train, y_test = train_test_split(X, y, test_size=0.25, random_state=7)\n",
    "cv = ShuffleSplit(X_train.shape[0], n_iter=10, test_size=0.25, random_state=7)"
   ]
  },
  {
   "cell_type": "markdown",
   "metadata": {},
   "source": [
    "### applying k-means clusters as a feature\n",
    "- from preliminary analysis, k-means clusters seem well-defined and intuitive from a business perspective\n",
    "- the goal of this project is to better understand and segment customers, so clustering is very important"
   ]
  },
  {
   "cell_type": "code",
   "execution_count": 756,
   "metadata": {
    "collapsed": true
   },
   "outputs": [],
   "source": [
    "km_drop_cols = ['TicketTime', 'GiftCardLines', 'NetAmount','DiscountAmount','TicketMonthDecimal', 'WeekdayNumber']\n",
    "X_train_km = X_train.drop(km_drop_cols, axis=1).copy()\n",
    "X_test_km = X_test.drop(km_drop_cols, axis=1).copy()"
   ]
  },
  {
   "cell_type": "code",
   "execution_count": 759,
   "metadata": {
    "collapsed": true
   },
   "outputs": [],
   "source": [
    "# scale features for k-means cluster\n",
    "scale = StandardScaler()\n",
    "scale.fit(X_train_km)\n",
    "X_train_km_std = scale.transform(X_train_km)\n",
    "X_test_km_std = scale.transform(X_test_km)"
   ]
  },
  {
   "cell_type": "code",
   "execution_count": null,
   "metadata": {
    "collapsed": false
   },
   "outputs": [],
   "source": [
    "# finding the elbow plotting inertia\n",
    "k = []\n",
    "i = []\n",
    "for n in range(1,15):\n",
    "    km2 = KMeans(n_clusters=n, n_jobs=-1, random_state=7)\n",
    "    km2.fit(X_train_km)\n",
    "    k.append(n)\n",
    "    i.append(km2.inertia_)"
   ]
  },
  {
   "cell_type": "code",
   "execution_count": 653,
   "metadata": {
    "collapsed": false,
    "scrolled": true
   },
   "outputs": [
    {
     "data": {
      "image/png": "[encoded data removed]",
      "text/plain": [
       "<matplotlib.figure.Figure at 0x898f9f28>"
      ]
     },
     "metadata": {},
     "output_type": "display_data"
    }
   ],
   "source": [
    "# plotting clusters vs inertia\n",
    "plt.plot(k, i);"
   ]
  },
  {
   "cell_type": "code",
   "execution_count": 801,
   "metadata": {
    "collapsed": false
   },
   "outputs": [
    {
     "data": {
      "image/png": "[encoded data removed]",
      "text/plain": [
       "<matplotlib.figure.Figure at 0x47d81860>"
      ]
     },
     "metadata": {},
     "output_type": "display_data"
    }
   ],
   "source": [
    "# plotting clusters vs inertia, zoomed in to see elbow at 4 clusters\n",
    "plt.plot(k[1:7], i[1:7]);"
   ]
  },
  {
   "cell_type": "code",
   "execution_count": 763,
   "metadata": {
    "collapsed": false
   },
   "outputs": [
    {
     "data": {
      "text/plain": [
       "KMeans(copy_x=True, init='k-means++', max_iter=300, n_clusters=4, n_init=20,\n",
       "    n_jobs=-1, precompute_distances='auto', random_state=7, tol=0.0001,\n",
       "    verbose=0)"
      ]
     },
     "execution_count": 763,
     "metadata": {},
     "output_type": "execute_result"
    }
   ],
   "source": [
    "# create kmeans with 4 clusters, get cluster labels\n",
    "km = KMeans(n_clusters=4, n_init=20, n_jobs=-1, random_state=7)\n",
    "km.fit(X_train_km_std)"
   ]
  },
  {
   "cell_type": "code",
   "execution_count": 798,
   "metadata": {
    "collapsed": false
   },
   "outputs": [
    {
     "name": "stdout",
     "output_type": "stream",
     "text": [
      "inertia:\t 5585757.58\n"
     ]
    }
   ],
   "source": [
    "# get specific inertia\n",
    "print('inertia:\\t {:.2f}'.format(km.inertia_))"
   ]
  },
  {
   "cell_type": "code",
   "execution_count": 762,
   "metadata": {
    "collapsed": false,
    "scrolled": true
   },
   "outputs": [
    {
     "data": {
      "text/html": [
       "<div>\n",
       "<table border=\"1\" class=\"dataframe\">\n",
       "  <thead>\n",
       "    <tr style=\"text-align: right;\">\n",
       "      <th></th>\n",
       "      <th>0</th>\n",
       "      <th>1</th>\n",
       "      <th>2</th>\n",
       "      <th>3</th>\n",
       "    </tr>\n",
       "  </thead>\n",
       "  <tbody>\n",
       "    <tr>\n",
       "      <th>PriorVisits</th>\n",
       "      <td>7.237</td>\n",
       "      <td>4.008</td>\n",
       "      <td>10.669</td>\n",
       "      <td>5.963</td>\n",
       "    </tr>\n",
       "    <tr>\n",
       "      <th>SaleLines</th>\n",
       "      <td>12.663</td>\n",
       "      <td>1.735</td>\n",
       "      <td>5.520</td>\n",
       "      <td>3.495</td>\n",
       "    </tr>\n",
       "    <tr>\n",
       "      <th>ReturnLines</th>\n",
       "      <td>0.008</td>\n",
       "      <td>0.002</td>\n",
       "      <td>1.085</td>\n",
       "      <td>0.009</td>\n",
       "    </tr>\n",
       "    <tr>\n",
       "      <th>NetRetailAmount</th>\n",
       "      <td>98.157</td>\n",
       "      <td>4.446</td>\n",
       "      <td>39.013</td>\n",
       "      <td>27.646</td>\n",
       "    </tr>\n",
       "    <tr>\n",
       "      <th>NetQSRAmount</th>\n",
       "      <td>2.142</td>\n",
       "      <td>9.055</td>\n",
       "      <td>0.707</td>\n",
       "      <td>0.636</td>\n",
       "    </tr>\n",
       "    <tr>\n",
       "      <th>UniqueItems</th>\n",
       "      <td>11.741</td>\n",
       "      <td>1.670</td>\n",
       "      <td>6.170</td>\n",
       "      <td>3.305</td>\n",
       "    </tr>\n",
       "    <tr>\n",
       "      <th>UniqueCategories</th>\n",
       "      <td>5.979</td>\n",
       "      <td>1.252</td>\n",
       "      <td>3.987</td>\n",
       "      <td>2.325</td>\n",
       "    </tr>\n",
       "    <tr>\n",
       "      <th>ReturnedBags</th>\n",
       "      <td>0.000</td>\n",
       "      <td>-0.000</td>\n",
       "      <td>0.964</td>\n",
       "      <td>-0.000</td>\n",
       "    </tr>\n",
       "    <tr>\n",
       "      <th>BoughtProduce</th>\n",
       "      <td>0.827</td>\n",
       "      <td>0.032</td>\n",
       "      <td>0.548</td>\n",
       "      <td>0.366</td>\n",
       "    </tr>\n",
       "    <tr>\n",
       "      <th>IsFrontEnd</th>\n",
       "      <td>0.989</td>\n",
       "      <td>0.006</td>\n",
       "      <td>0.987</td>\n",
       "      <td>0.986</td>\n",
       "    </tr>\n",
       "  </tbody>\n",
       "</table>\n",
       "</div>"
      ],
      "text/plain": [
       "                      0      1      2      3\n",
       "PriorVisits       7.237  4.008 10.669  5.963\n",
       "SaleLines        12.663  1.735  5.520  3.495\n",
       "ReturnLines       0.008  0.002  1.085  0.009\n",
       "NetRetailAmount  98.157  4.446 39.013 27.646\n",
       "NetQSRAmount      2.142  9.055  0.707  0.636\n",
       "UniqueItems      11.741  1.670  6.170  3.305\n",
       "UniqueCategories  5.979  1.252  3.987  2.325\n",
       "ReturnedBags      0.000 -0.000  0.964 -0.000\n",
       "BoughtProduce     0.827  0.032  0.548  0.366\n",
       "IsFrontEnd        0.989  0.006  0.987  0.986"
      ]
     },
     "execution_count": 762,
     "metadata": {},
     "output_type": "execute_result"
    }
   ],
   "source": [
    "# show cluster centers\n",
    "pd.set_option('display.float_format', lambda x: '%.3f' % x)\n",
    "columns = {str(x): scale.inverse_transform(km.cluster_centers_[x]) for x in range(0,len(km.cluster_centers_))}\n",
    "dfclus = pd.DataFrame(columns, index=X_train_km.columns).copy()\n",
    "#dfclus.columns=['Sampler','Lunch Junkie','Regular','Pro']\n",
    "dfclus"
   ]
  },
  {
   "cell_type": "code",
   "execution_count": 797,
   "metadata": {
    "collapsed": false
   },
   "outputs": [],
   "source": [
    "# put k-means cluster labels on original dataset\n",
    "dfkm_train = pd.DataFrame(data=km.predict(X_train_km_std), index=X_train.index, columns=['km_label'])\n",
    "X_train_2 = pd.concat([X_train,dfkm_train], axis=1)\n",
    "\n",
    "dfkm_test = pd.DataFrame(data=km.predict(X_test_km_std), index=X_test.index, columns=['km_label'])\n",
    "X_test_2 = pd.concat([X_test, dfkm_test], axis=1)"
   ]
  },
  {
   "cell_type": "code",
   "execution_count": 814,
   "metadata": {
    "collapsed": false,
    "scrolled": true
   },
   "outputs": [
    {
     "data": {
      "image/png": "[encoded data removed]",
      "text/plain": [
       "<matplotlib.figure.Figure at 0xec8ff28>"
      ]
     },
     "metadata": {},
     "output_type": "display_data"
    }
   ],
   "source": [
    "# return rate per cluster label\n",
    "rrdf = (pd.concat([X_train_2, y_train], axis=1).groupby('km_label')['WillReturn'].mean() * 100)\n",
    "rrdf.plot(kind='bar', ylim=(0,100), color='b', alpha=.5, title='Return rate per cluster');"
   ]
  },
  {
   "cell_type": "markdown",
   "metadata": {},
   "source": [
    "### helper function for scoring models"
   ]
  },
  {
   "cell_type": "code",
   "execution_count": 839,
   "metadata": {
    "collapsed": true
   },
   "outputs": [],
   "source": [
    "def all_score(mod_nam, mod, X_test, y_test):\n",
    "    '''Score model according to accuracy, recall, and f1 score\n",
    "        and returns dataframe of scores'''\n",
    "    y_pred = mod.predict(X_test)\n",
    "    \n",
    "    scores = {}\n",
    "    scores['test_name'] = ['accuracy','precision','recall','f1']\n",
    "    scores['test_score'] = []\n",
    "    \n",
    "    scores['test_score'].append(round(accuracy_score(y_test, y_pred) * 100, 2))\n",
    "    scores['test_score'].append(round(precision_score(y_test, y_pred) * 100, 2))\n",
    "    scores['test_score'].append(round(recall_score(y_test, y_pred) * 100, 2))\n",
    "    scores['test_score'].append(round(f1_score(y_test, y_pred) * 100, 2))\n",
    "    \n",
    "    return pd.DataFrame(scores)"
   ]
  },
  {
   "cell_type": "markdown",
   "metadata": {},
   "source": [
    "### applying random forest classifier for predictions\n",
    "- random forest should perform well given:\n",
    "    - correlated features\n",
    "    - outliers\n",
    "    - non-linear complexity"
   ]
  },
  {
   "cell_type": "code",
   "execution_count": 817,
   "metadata": {
    "collapsed": false
   },
   "outputs": [
    {
     "data": {
      "text/plain": [
       "RandomForestClassifier(bootstrap=True, class_weight=None, criterion='gini',\n",
       "            max_depth=None, max_features='auto', max_leaf_nodes=None,\n",
       "            min_samples_leaf=1, min_samples_split=2,\n",
       "            min_weight_fraction_leaf=0.0, n_estimators=20, n_jobs=-1,\n",
       "            oob_score=False, random_state=7, verbose=0, warm_start=False)"
      ]
     },
     "execution_count": 817,
     "metadata": {},
     "output_type": "execute_result"
    }
   ],
   "source": [
    "rf = RandomForestClassifier(n_estimators = 20, random_state = 7, n_jobs = -1)\n",
    "rf.fit(X_train_2, y_train)"
   ]
  },
  {
   "cell_type": "code",
   "execution_count": 843,
   "metadata": {
    "collapsed": false
   },
   "outputs": [
    {
     "data": {
      "text/html": [
       "<div>\n",
       "<table border=\"1\" class=\"dataframe\">\n",
       "  <thead>\n",
       "    <tr style=\"text-align: right;\">\n",
       "      <th></th>\n",
       "      <th>test_name</th>\n",
       "      <th>test_score</th>\n",
       "    </tr>\n",
       "  </thead>\n",
       "  <tbody>\n",
       "    <tr>\n",
       "      <th>0</th>\n",
       "      <td>accuracy</td>\n",
       "      <td>71.380</td>\n",
       "    </tr>\n",
       "    <tr>\n",
       "      <th>1</th>\n",
       "      <td>precision</td>\n",
       "      <td>70.970</td>\n",
       "    </tr>\n",
       "    <tr>\n",
       "      <th>3</th>\n",
       "      <td>f1</td>\n",
       "      <td>65.020</td>\n",
       "    </tr>\n",
       "    <tr>\n",
       "      <th>2</th>\n",
       "      <td>recall</td>\n",
       "      <td>59.990</td>\n",
       "    </tr>\n",
       "  </tbody>\n",
       "</table>\n",
       "</div>"
      ],
      "text/plain": [
       "   test_name  test_score\n",
       "0   accuracy      71.380\n",
       "1  precision      70.970\n",
       "3         f1      65.020\n",
       "2     recall      59.990"
      ]
     },
     "execution_count": 843,
     "metadata": {},
     "output_type": "execute_result"
    }
   ],
   "source": [
    "all_score('RF', rf, X_test_2, y_test).sort_values('test_score', ascending=False)"
   ]
  },
  {
   "cell_type": "code",
   "execution_count": 825,
   "metadata": {
    "collapsed": false
   },
   "outputs": [
    {
     "data": {
      "text/html": [
       "<div>\n",
       "<table border=\"1\" class=\"dataframe\">\n",
       "  <thead>\n",
       "    <tr style=\"text-align: right;\">\n",
       "      <th></th>\n",
       "      <th>Features</th>\n",
       "      <th>Importance</th>\n",
       "    </tr>\n",
       "  </thead>\n",
       "  <tbody>\n",
       "    <tr>\n",
       "      <th>1</th>\n",
       "      <td>PriorVisits</td>\n",
       "      <td>0.238</td>\n",
       "    </tr>\n",
       "    <tr>\n",
       "      <th>0</th>\n",
       "      <td>TicketTime</td>\n",
       "      <td>0.209</td>\n",
       "    </tr>\n",
       "    <tr>\n",
       "      <th>13</th>\n",
       "      <td>TicketMonthDecimal</td>\n",
       "      <td>0.174</td>\n",
       "    </tr>\n",
       "    <tr>\n",
       "      <th>5</th>\n",
       "      <td>NetAmount</td>\n",
       "      <td>0.109</td>\n",
       "    </tr>\n",
       "    <tr>\n",
       "      <th>6</th>\n",
       "      <td>NetRetailAmount</td>\n",
       "      <td>0.088</td>\n",
       "    </tr>\n",
       "    <tr>\n",
       "      <th>14</th>\n",
       "      <td>WeekdayNumber</td>\n",
       "      <td>0.045</td>\n",
       "    </tr>\n",
       "    <tr>\n",
       "      <th>7</th>\n",
       "      <td>NetQSRAmount</td>\n",
       "      <td>0.037</td>\n",
       "    </tr>\n",
       "    <tr>\n",
       "      <th>2</th>\n",
       "      <td>SaleLines</td>\n",
       "      <td>0.026</td>\n",
       "    </tr>\n",
       "    <tr>\n",
       "      <th>9</th>\n",
       "      <td>UniqueItems</td>\n",
       "      <td>0.023</td>\n",
       "    </tr>\n",
       "    <tr>\n",
       "      <th>10</th>\n",
       "      <td>UniqueCategories</td>\n",
       "      <td>0.019</td>\n",
       "    </tr>\n",
       "    <tr>\n",
       "      <th>12</th>\n",
       "      <td>BoughtProduce</td>\n",
       "      <td>0.016</td>\n",
       "    </tr>\n",
       "    <tr>\n",
       "      <th>8</th>\n",
       "      <td>DiscountAmount</td>\n",
       "      <td>0.009</td>\n",
       "    </tr>\n",
       "    <tr>\n",
       "      <th>16</th>\n",
       "      <td>km_label</td>\n",
       "      <td>0.004</td>\n",
       "    </tr>\n",
       "    <tr>\n",
       "      <th>15</th>\n",
       "      <td>IsFrontEnd</td>\n",
       "      <td>0.003</td>\n",
       "    </tr>\n",
       "    <tr>\n",
       "      <th>3</th>\n",
       "      <td>ReturnLines</td>\n",
       "      <td>0.001</td>\n",
       "    </tr>\n",
       "    <tr>\n",
       "      <th>11</th>\n",
       "      <td>ReturnedBags</td>\n",
       "      <td>0.001</td>\n",
       "    </tr>\n",
       "    <tr>\n",
       "      <th>4</th>\n",
       "      <td>GiftCardLines</td>\n",
       "      <td>0.000</td>\n",
       "    </tr>\n",
       "  </tbody>\n",
       "</table>\n",
       "</div>"
      ],
      "text/plain": [
       "              Features  Importance\n",
       "1          PriorVisits       0.238\n",
       "0           TicketTime       0.209\n",
       "13  TicketMonthDecimal       0.174\n",
       "5            NetAmount       0.109\n",
       "6      NetRetailAmount       0.088\n",
       "14       WeekdayNumber       0.045\n",
       "7         NetQSRAmount       0.037\n",
       "2            SaleLines       0.026\n",
       "9          UniqueItems       0.023\n",
       "10    UniqueCategories       0.019\n",
       "12       BoughtProduce       0.016\n",
       "8       DiscountAmount       0.009\n",
       "16            km_label       0.004\n",
       "15          IsFrontEnd       0.003\n",
       "3          ReturnLines       0.001\n",
       "11        ReturnedBags       0.001\n",
       "4        GiftCardLines       0.000"
      ]
     },
     "execution_count": 825,
     "metadata": {},
     "output_type": "execute_result"
    }
   ],
   "source": [
    "dfrf = pd.DataFrame({'Features':X_train_2.columns, 'Importance':rf.feature_importances_})\n",
    "dfrf.sort_values('Importance', inplace=True, ascending=False)\n",
    "#dfrf[dfrf['Importance']>=0.05]\n",
    "dfrf"
   ]
  }
 ],
 "metadata": {
  "kernelspec": {
   "display_name": "Python 2",
   "language": "python",
   "name": "python2"
  },
  "language_info": {
   "codemirror_mode": {
    "name": "ipython",
    "version": 2
   },
   "file_extension": ".py",
   "mimetype": "text/x-python",
   "name": "python",
   "nbconvert_exporter": "python",
   "pygments_lexer": "ipython2",
   "version": "2.7.11"
  }
 },
 "nbformat": 4,
 "nbformat_minor": 0
}
