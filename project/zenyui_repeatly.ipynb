{
 "cells": [
  {
   "cell_type": "markdown",
   "metadata": {},
   "source": [
    "## repeataly\n",
    "\n",
    "**predicting repeat customers with sales data**\n",
    "\n",
    "zen yui | 2016-03-05"
   ]
  },
  {
   "cell_type": "markdown",
   "metadata": {},
   "source": [
    "### notes:\n",
    "- k-means to segment\n",
    "- logistic regression for feature selection\n",
    "- random forest for prediction"
   ]
  },
  {
   "cell_type": "code",
   "execution_count": 440,
   "metadata": {
    "collapsed": true
   },
   "outputs": [],
   "source": [
    "import pandas as pd\n",
    "import numpy as np\n",
    "import matplotlib.pyplot as plt\n",
    "from __future__ import division\n",
    "%matplotlib inline"
   ]
  },
  {
   "cell_type": "code",
   "execution_count": 442,
   "metadata": {
    "collapsed": true
   },
   "outputs": [],
   "source": [
    "from datetime import date, timedelta\n",
    "from calendar import monthrange"
   ]
  },
  {
   "cell_type": "code",
   "execution_count": 443,
   "metadata": {
    "collapsed": true
   },
   "outputs": [],
   "source": [
    "from sklearn.preprocessing import StandardScaler\n",
    "from sklearn.cross_validation import train_test_split, ShuffleSplit"
   ]
  },
  {
   "cell_type": "code",
   "execution_count": 444,
   "metadata": {
    "collapsed": true
   },
   "outputs": [],
   "source": [
    "from sklearn.cluster import KMeans\n",
    "from sklearn.metrics import silhouette_score"
   ]
  },
  {
   "cell_type": "code",
   "execution_count": 2,
   "metadata": {
    "collapsed": true
   },
   "outputs": [],
   "source": [
    "# use ggplot style\n",
    "plt.style.use('ggplot')"
   ]
  },
  {
   "cell_type": "markdown",
   "metadata": {},
   "source": [
    "### read data from source csv"
   ]
  },
  {
   "cell_type": "code",
   "execution_count": 92,
   "metadata": {
    "collapsed": true
   },
   "outputs": [],
   "source": [
    "# read data in from csv\n",
    "df_read = pd.read_csv('eataly_data.csv')"
   ]
  },
  {
   "cell_type": "code",
   "execution_count": 577,
   "metadata": {
    "collapsed": true
   },
   "outputs": [],
   "source": [
    "# copy dataframe so we don't edit original file data\n",
    "df = df_read.copy()"
   ]
  },
  {
   "cell_type": "markdown",
   "metadata": {},
   "source": [
    "### data munging and feature engineering in pandas"
   ]
  },
  {
   "cell_type": "code",
   "execution_count": 578,
   "metadata": {
    "collapsed": true
   },
   "outputs": [],
   "source": [
    "# drop customer visit and visit key, as it cannot be used for analysis\n",
    "df.drop(['CustomerKey','VisitNumber'], axis=1, inplace=True)"
   ]
  },
  {
   "cell_type": "code",
   "execution_count": 579,
   "metadata": {
    "collapsed": true
   },
   "outputs": [],
   "source": [
    "# convert TicketDate to datetime type\n",
    "df['TicketDate'] = pd.to_datetime(df['TicketDate'])"
   ]
  },
  {
   "cell_type": "code",
   "execution_count": 580,
   "metadata": {
    "collapsed": true
   },
   "outputs": [],
   "source": [
    "# get integer month of ticket\n",
    "# df['TicketMonth'] = df['TicketDate'].apply(lambda x: x.month)"
   ]
  },
  {
   "cell_type": "code",
   "execution_count": 581,
   "metadata": {
    "collapsed": false
   },
   "outputs": [],
   "source": [
    "# get months with decimals for days\n",
    "def get_mth_dec(d):\n",
    "    \"\"\"Given a date, return integer month and decimal days\"\"\"\n",
    "    return d.month + d.day / (monthrange(d.year,d.month)[1] + 1)\n",
    "\n",
    "df['TicketMonthDecimal'] = df['TicketDate'].apply(get_mth_dec)"
   ]
  },
  {
   "cell_type": "code",
   "execution_count": 582,
   "metadata": {
    "collapsed": false
   },
   "outputs": [],
   "source": [
    "#get weekday number (1=Monday ... 7=Sunday)\n",
    "df['WeekdayNumber'] = df['TicketDate'].apply(lambda x: x.isoweekday())"
   ]
  },
  {
   "cell_type": "code",
   "execution_count": 583,
   "metadata": {
    "collapsed": false
   },
   "outputs": [],
   "source": [
    "# Binary flag for a weekday visit\n",
    "df['IsWeekday'] = df['WeekdayNumber'] < 6"
   ]
  },
  {
   "cell_type": "code",
   "execution_count": 584,
   "metadata": {
    "collapsed": false
   },
   "outputs": [],
   "source": [
    "#convert 'TicketTime' to continuous integer\n",
    "TimeList = df['TicketTime'].str.split(':')\n",
    "df['TicketTime'] = TimeList.str[0].astype(float) + TimeList.str[1].astype(float) / 60.0"
   ]
  },
  {
   "cell_type": "code",
   "execution_count": 585,
   "metadata": {
    "collapsed": true
   },
   "outputs": [],
   "source": [
    "#create \"isFrontEnd\" feature, drop 'StationGroup'\n",
    "df['IsFrontEnd'] = df['StationGroup'] == 'Front End'\n",
    "df.drop('StationGroup',axis=1,inplace=True)"
   ]
  },
  {
   "cell_type": "code",
   "execution_count": 586,
   "metadata": {
    "collapsed": true
   },
   "outputs": [],
   "source": [
    "# drop TicketDate, as we want trends across seasons not years\n",
    "df.drop('TicketDate', axis=1, inplace=True)"
   ]
  },
  {
   "cell_type": "code",
   "execution_count": 587,
   "metadata": {
    "collapsed": false
   },
   "outputs": [],
   "source": [
    "# make prediction right-most column\n",
    "df = pd.concat([df.drop('WillReturn', axis=1), df['WillReturn']], axis=1)"
   ]
  },
  {
   "cell_type": "code",
   "execution_count": 588,
   "metadata": {
    "collapsed": false
   },
   "outputs": [
    {
     "data": {
      "text/plain": [
       "(1621854, 18)"
      ]
     },
     "execution_count": 588,
     "metadata": {},
     "output_type": "execute_result"
    }
   ],
   "source": [
    "df.shape"
   ]
  },
  {
   "cell_type": "code",
   "execution_count": 589,
   "metadata": {
    "collapsed": false,
    "scrolled": false
   },
   "outputs": [
    {
     "data": {
      "text/html": [
       "<div>\n",
       "<table border=\"1\" class=\"dataframe\">\n",
       "  <thead>\n",
       "    <tr style=\"text-align: right;\">\n",
       "      <th></th>\n",
       "      <th>533939</th>\n",
       "      <th>882441</th>\n",
       "      <th>150093</th>\n",
       "      <th>315149</th>\n",
       "      <th>1004904</th>\n",
       "      <th>1364973</th>\n",
       "      <th>563875</th>\n",
       "    </tr>\n",
       "  </thead>\n",
       "  <tbody>\n",
       "    <tr>\n",
       "      <th>TicketTime</th>\n",
       "      <td>21.6</td>\n",
       "      <td>18.8667</td>\n",
       "      <td>15.9167</td>\n",
       "      <td>17.1</td>\n",
       "      <td>19.9167</td>\n",
       "      <td>22.5</td>\n",
       "      <td>15.0333</td>\n",
       "    </tr>\n",
       "    <tr>\n",
       "      <th>PriorVisits</th>\n",
       "      <td>0</td>\n",
       "      <td>4</td>\n",
       "      <td>3</td>\n",
       "      <td>0</td>\n",
       "      <td>0</td>\n",
       "      <td>0</td>\n",
       "      <td>0</td>\n",
       "    </tr>\n",
       "    <tr>\n",
       "      <th>SaleLines</th>\n",
       "      <td>1</td>\n",
       "      <td>2</td>\n",
       "      <td>8</td>\n",
       "      <td>2</td>\n",
       "      <td>5</td>\n",
       "      <td>10</td>\n",
       "      <td>1</td>\n",
       "    </tr>\n",
       "    <tr>\n",
       "      <th>ReturnLines</th>\n",
       "      <td>0</td>\n",
       "      <td>0</td>\n",
       "      <td>0</td>\n",
       "      <td>0</td>\n",
       "      <td>0</td>\n",
       "      <td>0</td>\n",
       "      <td>0</td>\n",
       "    </tr>\n",
       "    <tr>\n",
       "      <th>GiftCardLines</th>\n",
       "      <td>0</td>\n",
       "      <td>0</td>\n",
       "      <td>0</td>\n",
       "      <td>0</td>\n",
       "      <td>0</td>\n",
       "      <td>0</td>\n",
       "      <td>0</td>\n",
       "    </tr>\n",
       "    <tr>\n",
       "      <th>NetAmount</th>\n",
       "      <td>7.34</td>\n",
       "      <td>21.59</td>\n",
       "      <td>94.27</td>\n",
       "      <td>9.15</td>\n",
       "      <td>29.57</td>\n",
       "      <td>70.16</td>\n",
       "      <td>7.16</td>\n",
       "    </tr>\n",
       "    <tr>\n",
       "      <th>NetRetailAmount</th>\n",
       "      <td>7.34</td>\n",
       "      <td>4.8</td>\n",
       "      <td>94.27</td>\n",
       "      <td>9.15</td>\n",
       "      <td>29.57</td>\n",
       "      <td>70.16</td>\n",
       "      <td>0</td>\n",
       "    </tr>\n",
       "    <tr>\n",
       "      <th>NetQSRAmount</th>\n",
       "      <td>0</td>\n",
       "      <td>16.79</td>\n",
       "      <td>0</td>\n",
       "      <td>0</td>\n",
       "      <td>0</td>\n",
       "      <td>0</td>\n",
       "      <td>7.16</td>\n",
       "    </tr>\n",
       "    <tr>\n",
       "      <th>DiscountAmount</th>\n",
       "      <td>0</td>\n",
       "      <td>0</td>\n",
       "      <td>0</td>\n",
       "      <td>0</td>\n",
       "      <td>0</td>\n",
       "      <td>0</td>\n",
       "      <td>0</td>\n",
       "    </tr>\n",
       "    <tr>\n",
       "      <th>UniqueItems</th>\n",
       "      <td>1</td>\n",
       "      <td>2</td>\n",
       "      <td>8</td>\n",
       "      <td>2</td>\n",
       "      <td>5</td>\n",
       "      <td>10</td>\n",
       "      <td>1</td>\n",
       "    </tr>\n",
       "    <tr>\n",
       "      <th>UniqueCategories</th>\n",
       "      <td>1</td>\n",
       "      <td>2</td>\n",
       "      <td>4</td>\n",
       "      <td>2</td>\n",
       "      <td>4</td>\n",
       "      <td>6</td>\n",
       "      <td>1</td>\n",
       "    </tr>\n",
       "    <tr>\n",
       "      <th>ReturnedBags</th>\n",
       "      <td>False</td>\n",
       "      <td>False</td>\n",
       "      <td>False</td>\n",
       "      <td>False</td>\n",
       "      <td>False</td>\n",
       "      <td>False</td>\n",
       "      <td>False</td>\n",
       "    </tr>\n",
       "    <tr>\n",
       "      <th>BoughtProduce</th>\n",
       "      <td>False</td>\n",
       "      <td>False</td>\n",
       "      <td>True</td>\n",
       "      <td>False</td>\n",
       "      <td>False</td>\n",
       "      <td>False</td>\n",
       "      <td>False</td>\n",
       "    </tr>\n",
       "    <tr>\n",
       "      <th>TicketMonthDecimal</th>\n",
       "      <td>12.8438</td>\n",
       "      <td>5.84375</td>\n",
       "      <td>7.34375</td>\n",
       "      <td>9.45161</td>\n",
       "      <td>7.78125</td>\n",
       "      <td>12.5625</td>\n",
       "      <td>12.9062</td>\n",
       "    </tr>\n",
       "    <tr>\n",
       "      <th>WeekdayNumber</th>\n",
       "      <td>6</td>\n",
       "      <td>3</td>\n",
       "      <td>5</td>\n",
       "      <td>7</td>\n",
       "      <td>6</td>\n",
       "      <td>3</td>\n",
       "      <td>1</td>\n",
       "    </tr>\n",
       "    <tr>\n",
       "      <th>IsWeekday</th>\n",
       "      <td>False</td>\n",
       "      <td>True</td>\n",
       "      <td>True</td>\n",
       "      <td>False</td>\n",
       "      <td>False</td>\n",
       "      <td>True</td>\n",
       "      <td>True</td>\n",
       "    </tr>\n",
       "    <tr>\n",
       "      <th>IsFrontEnd</th>\n",
       "      <td>True</td>\n",
       "      <td>True</td>\n",
       "      <td>True</td>\n",
       "      <td>True</td>\n",
       "      <td>True</td>\n",
       "      <td>True</td>\n",
       "      <td>False</td>\n",
       "    </tr>\n",
       "    <tr>\n",
       "      <th>WillReturn</th>\n",
       "      <td>False</td>\n",
       "      <td>True</td>\n",
       "      <td>False</td>\n",
       "      <td>False</td>\n",
       "      <td>True</td>\n",
       "      <td>False</td>\n",
       "      <td>False</td>\n",
       "    </tr>\n",
       "  </tbody>\n",
       "</table>\n",
       "</div>"
      ],
      "text/plain": [
       "                    533939   882441   150093   315149   1004904  1364973  \\\n",
       "TicketTime             21.6  18.8667  15.9167     17.1  19.9167     22.5   \n",
       "PriorVisits               0        4        3        0        0        0   \n",
       "SaleLines                 1        2        8        2        5       10   \n",
       "ReturnLines               0        0        0        0        0        0   \n",
       "GiftCardLines             0        0        0        0        0        0   \n",
       "NetAmount              7.34    21.59    94.27     9.15    29.57    70.16   \n",
       "NetRetailAmount        7.34      4.8    94.27     9.15    29.57    70.16   \n",
       "NetQSRAmount              0    16.79        0        0        0        0   \n",
       "DiscountAmount            0        0        0        0        0        0   \n",
       "UniqueItems               1        2        8        2        5       10   \n",
       "UniqueCategories          1        2        4        2        4        6   \n",
       "ReturnedBags          False    False    False    False    False    False   \n",
       "BoughtProduce         False    False     True    False    False    False   \n",
       "TicketMonthDecimal  12.8438  5.84375  7.34375  9.45161  7.78125  12.5625   \n",
       "WeekdayNumber             6        3        5        7        6        3   \n",
       "IsWeekday             False     True     True    False    False     True   \n",
       "IsFrontEnd             True     True     True     True     True     True   \n",
       "WillReturn            False     True    False    False     True    False   \n",
       "\n",
       "                    563875   \n",
       "TicketTime          15.0333  \n",
       "PriorVisits               0  \n",
       "SaleLines                 1  \n",
       "ReturnLines               0  \n",
       "GiftCardLines             0  \n",
       "NetAmount              7.16  \n",
       "NetRetailAmount           0  \n",
       "NetQSRAmount           7.16  \n",
       "DiscountAmount            0  \n",
       "UniqueItems               1  \n",
       "UniqueCategories          1  \n",
       "ReturnedBags          False  \n",
       "BoughtProduce         False  \n",
       "TicketMonthDecimal  12.9062  \n",
       "WeekdayNumber             1  \n",
       "IsWeekday              True  \n",
       "IsFrontEnd            False  \n",
       "WillReturn            False  "
      ]
     },
     "execution_count": 589,
     "metadata": {},
     "output_type": "execute_result"
    }
   ],
   "source": [
    "# sample data, transposed for readability\n",
    "df.sample(7).T"
   ]
  },
  {
   "cell_type": "code",
   "execution_count": 590,
   "metadata": {
    "collapsed": false
   },
   "outputs": [
    {
     "data": {
      "text/html": [
       "<div>\n",
       "<table border=\"1\" class=\"dataframe\">\n",
       "  <thead>\n",
       "    <tr style=\"text-align: right;\">\n",
       "      <th></th>\n",
       "      <th>count</th>\n",
       "      <th>mean</th>\n",
       "      <th>std</th>\n",
       "      <th>min</th>\n",
       "      <th>25%</th>\n",
       "      <th>50%</th>\n",
       "      <th>75%</th>\n",
       "      <th>max</th>\n",
       "    </tr>\n",
       "  </thead>\n",
       "  <tbody>\n",
       "    <tr>\n",
       "      <th>TicketTime</th>\n",
       "      <td>1.62185e+06</td>\n",
       "      <td>16.3297</td>\n",
       "      <td>3.10457</td>\n",
       "      <td>0</td>\n",
       "      <td>13.7333</td>\n",
       "      <td>16.2333</td>\n",
       "      <td>18.7667</td>\n",
       "      <td>23.9667</td>\n",
       "    </tr>\n",
       "    <tr>\n",
       "      <th>PriorVisits</th>\n",
       "      <td>1.62185e+06</td>\n",
       "      <td>5.23733</td>\n",
       "      <td>18.046</td>\n",
       "      <td>0</td>\n",
       "      <td>0</td>\n",
       "      <td>1</td>\n",
       "      <td>3</td>\n",
       "      <td>564</td>\n",
       "    </tr>\n",
       "    <tr>\n",
       "      <th>SaleLines</th>\n",
       "      <td>1.62185e+06</td>\n",
       "      <td>3.75782</td>\n",
       "      <td>4.26383</td>\n",
       "      <td>0</td>\n",
       "      <td>1</td>\n",
       "      <td>2</td>\n",
       "      <td>5</td>\n",
       "      <td>166</td>\n",
       "    </tr>\n",
       "    <tr>\n",
       "      <th>ReturnLines</th>\n",
       "      <td>1.62185e+06</td>\n",
       "      <td>0.0172482</td>\n",
       "      <td>0.149757</td>\n",
       "      <td>0</td>\n",
       "      <td>0</td>\n",
       "      <td>0</td>\n",
       "      <td>0</td>\n",
       "      <td>24</td>\n",
       "    </tr>\n",
       "    <tr>\n",
       "      <th>GiftCardLines</th>\n",
       "      <td>1.62185e+06</td>\n",
       "      <td>0.00170484</td>\n",
       "      <td>0.0792194</td>\n",
       "      <td>0</td>\n",
       "      <td>0</td>\n",
       "      <td>0</td>\n",
       "      <td>0</td>\n",
       "      <td>55</td>\n",
       "    </tr>\n",
       "    <tr>\n",
       "      <th>NetAmount</th>\n",
       "      <td>1.62185e+06</td>\n",
       "      <td>29.8887</td>\n",
       "      <td>42.4892</td>\n",
       "      <td>-966.4</td>\n",
       "      <td>8.64</td>\n",
       "      <td>15.98</td>\n",
       "      <td>35.2</td>\n",
       "      <td>6793.92</td>\n",
       "    </tr>\n",
       "    <tr>\n",
       "      <th>NetRetailAmount</th>\n",
       "      <td>1.62185e+06</td>\n",
       "      <td>25.0018</td>\n",
       "      <td>42.8552</td>\n",
       "      <td>-966.4</td>\n",
       "      <td>0</td>\n",
       "      <td>10.43</td>\n",
       "      <td>32.4</td>\n",
       "      <td>4738</td>\n",
       "    </tr>\n",
       "    <tr>\n",
       "      <th>NetQSRAmount</th>\n",
       "      <td>1.62185e+06</td>\n",
       "      <td>4.82743</td>\n",
       "      <td>9.41026</td>\n",
       "      <td>-116.6</td>\n",
       "      <td>0</td>\n",
       "      <td>0</td>\n",
       "      <td>8.08</td>\n",
       "      <td>1036.37</td>\n",
       "    </tr>\n",
       "    <tr>\n",
       "      <th>DiscountAmount</th>\n",
       "      <td>1.62185e+06</td>\n",
       "      <td>0.075909</td>\n",
       "      <td>1.45071</td>\n",
       "      <td>-241.6</td>\n",
       "      <td>0</td>\n",
       "      <td>0</td>\n",
       "      <td>0</td>\n",
       "      <td>388.79</td>\n",
       "    </tr>\n",
       "    <tr>\n",
       "      <th>UniqueItems</th>\n",
       "      <td>1.62185e+06</td>\n",
       "      <td>3.55048</td>\n",
       "      <td>3.8821</td>\n",
       "      <td>1</td>\n",
       "      <td>1</td>\n",
       "      <td>2</td>\n",
       "      <td>4</td>\n",
       "      <td>93</td>\n",
       "    </tr>\n",
       "    <tr>\n",
       "      <th>UniqueCategories</th>\n",
       "      <td>1.62185e+06</td>\n",
       "      <td>2.262</td>\n",
       "      <td>1.82257</td>\n",
       "      <td>1</td>\n",
       "      <td>1</td>\n",
       "      <td>1</td>\n",
       "      <td>3</td>\n",
       "      <td>17</td>\n",
       "    </tr>\n",
       "    <tr>\n",
       "      <th>ReturnedBags</th>\n",
       "      <td>1621854</td>\n",
       "      <td>0.0106952</td>\n",
       "      <td>0.102863</td>\n",
       "      <td>False</td>\n",
       "      <td>0</td>\n",
       "      <td>0</td>\n",
       "      <td>0</td>\n",
       "      <td>True</td>\n",
       "    </tr>\n",
       "    <tr>\n",
       "      <th>BoughtProduce</th>\n",
       "      <td>1621854</td>\n",
       "      <td>0.262554</td>\n",
       "      <td>0.440022</td>\n",
       "      <td>False</td>\n",
       "      <td>0</td>\n",
       "      <td>0</td>\n",
       "      <td>1</td>\n",
       "      <td>True</td>\n",
       "    </tr>\n",
       "    <tr>\n",
       "      <th>TicketMonthDecimal</th>\n",
       "      <td>1.62185e+06</td>\n",
       "      <td>7.17155</td>\n",
       "      <td>3.36615</td>\n",
       "      <td>1.03125</td>\n",
       "      <td>4.3871</td>\n",
       "      <td>7.21875</td>\n",
       "      <td>10.0938</td>\n",
       "      <td>12.9688</td>\n",
       "    </tr>\n",
       "    <tr>\n",
       "      <th>WeekdayNumber</th>\n",
       "      <td>1.62185e+06</td>\n",
       "      <td>4.13476</td>\n",
       "      <td>1.98976</td>\n",
       "      <td>1</td>\n",
       "      <td>2</td>\n",
       "      <td>4</td>\n",
       "      <td>6</td>\n",
       "      <td>7</td>\n",
       "    </tr>\n",
       "    <tr>\n",
       "      <th>IsWeekday</th>\n",
       "      <td>1621854</td>\n",
       "      <td>0.691385</td>\n",
       "      <td>0.461922</td>\n",
       "      <td>False</td>\n",
       "      <td>0</td>\n",
       "      <td>1</td>\n",
       "      <td>1</td>\n",
       "      <td>True</td>\n",
       "    </tr>\n",
       "    <tr>\n",
       "      <th>IsFrontEnd</th>\n",
       "      <td>1621854</td>\n",
       "      <td>0.518002</td>\n",
       "      <td>0.499676</td>\n",
       "      <td>False</td>\n",
       "      <td>0</td>\n",
       "      <td>1</td>\n",
       "      <td>1</td>\n",
       "      <td>True</td>\n",
       "    </tr>\n",
       "    <tr>\n",
       "      <th>WillReturn</th>\n",
       "      <td>1621854</td>\n",
       "      <td>0.444633</td>\n",
       "      <td>0.496925</td>\n",
       "      <td>False</td>\n",
       "      <td>0</td>\n",
       "      <td>0</td>\n",
       "      <td>1</td>\n",
       "      <td>True</td>\n",
       "    </tr>\n",
       "  </tbody>\n",
       "</table>\n",
       "</div>"
      ],
      "text/plain": [
       "                          count        mean        std      min      25%  \\\n",
       "TicketTime          1.62185e+06     16.3297    3.10457        0  13.7333   \n",
       "PriorVisits         1.62185e+06     5.23733     18.046        0        0   \n",
       "SaleLines           1.62185e+06     3.75782    4.26383        0        1   \n",
       "ReturnLines         1.62185e+06   0.0172482   0.149757        0        0   \n",
       "GiftCardLines       1.62185e+06  0.00170484  0.0792194        0        0   \n",
       "NetAmount           1.62185e+06     29.8887    42.4892   -966.4     8.64   \n",
       "NetRetailAmount     1.62185e+06     25.0018    42.8552   -966.4        0   \n",
       "NetQSRAmount        1.62185e+06     4.82743    9.41026   -116.6        0   \n",
       "DiscountAmount      1.62185e+06    0.075909    1.45071   -241.6        0   \n",
       "UniqueItems         1.62185e+06     3.55048     3.8821        1        1   \n",
       "UniqueCategories    1.62185e+06       2.262    1.82257        1        1   \n",
       "ReturnedBags            1621854   0.0106952   0.102863    False        0   \n",
       "BoughtProduce           1621854    0.262554   0.440022    False        0   \n",
       "TicketMonthDecimal  1.62185e+06     7.17155    3.36615  1.03125   4.3871   \n",
       "WeekdayNumber       1.62185e+06     4.13476    1.98976        1        2   \n",
       "IsWeekday               1621854    0.691385   0.461922    False        0   \n",
       "IsFrontEnd              1621854    0.518002   0.499676    False        0   \n",
       "WillReturn              1621854    0.444633   0.496925    False        0   \n",
       "\n",
       "                        50%      75%      max  \n",
       "TicketTime          16.2333  18.7667  23.9667  \n",
       "PriorVisits               1        3      564  \n",
       "SaleLines                 2        5      166  \n",
       "ReturnLines               0        0       24  \n",
       "GiftCardLines             0        0       55  \n",
       "NetAmount             15.98     35.2  6793.92  \n",
       "NetRetailAmount       10.43     32.4     4738  \n",
       "NetQSRAmount              0     8.08  1036.37  \n",
       "DiscountAmount            0        0   388.79  \n",
       "UniqueItems               2        4       93  \n",
       "UniqueCategories          1        3       17  \n",
       "ReturnedBags              0        0     True  \n",
       "BoughtProduce             0        1     True  \n",
       "TicketMonthDecimal  7.21875  10.0938  12.9688  \n",
       "WeekdayNumber             4        6        7  \n",
       "IsWeekday                 1        1     True  \n",
       "IsFrontEnd                1        1     True  \n",
       "WillReturn                0        1     True  "
      ]
     },
     "execution_count": 590,
     "metadata": {},
     "output_type": "execute_result"
    }
   ],
   "source": [
    "df.describe().T"
   ]
  },
  {
   "cell_type": "code",
   "execution_count": 591,
   "metadata": {
    "collapsed": false
   },
   "outputs": [
    {
     "data": {
      "text/plain": [
       "TicketTime            float64\n",
       "PriorVisits             int64\n",
       "SaleLines               int64\n",
       "ReturnLines             int64\n",
       "GiftCardLines           int64\n",
       "NetAmount             float64\n",
       "NetRetailAmount       float64\n",
       "NetQSRAmount          float64\n",
       "DiscountAmount        float64\n",
       "UniqueItems             int64\n",
       "UniqueCategories        int64\n",
       "ReturnedBags             bool\n",
       "BoughtProduce            bool\n",
       "TicketMonthDecimal    float64\n",
       "WeekdayNumber           int64\n",
       "IsWeekday                bool\n",
       "IsFrontEnd               bool\n",
       "WillReturn               bool\n",
       "dtype: object"
      ]
     },
     "execution_count": 591,
     "metadata": {},
     "output_type": "execute_result"
    }
   ],
   "source": [
    "df.dtypes"
   ]
  },
  {
   "cell_type": "markdown",
   "metadata": {},
   "source": [
    "### get the overall rate repeat visits"
   ]
  },
  {
   "cell_type": "code",
   "execution_count": 592,
   "metadata": {
    "collapsed": false,
    "scrolled": true
   },
   "outputs": [
    {
     "data": {
      "text/plain": [
       "'Overall tickets yielding repeat business: 44.46%'"
      ]
     },
     "execution_count": 592,
     "metadata": {},
     "output_type": "execute_result"
    }
   ],
   "source": [
    "'Overall tickets yielding repeat business: {:.2f}%'.format(df.WillReturn.mean()*100)"
   ]
  },
  {
   "cell_type": "markdown",
   "metadata": {},
   "source": [
    "### dealing with outliers\n",
    "- Some data is clearly wrong or unhelpful (like sales when we are closed)\n",
    "- Other outliers exist, but they cannot be removed yet as they often indicate loyal customers (high rollers)"
   ]
  },
  {
   "cell_type": "code",
   "execution_count": 593,
   "metadata": {
    "collapsed": false
   },
   "outputs": [],
   "source": [
    "# remove sales before 7am and after 11pm\n",
    "df = df[(df['TicketTime'] >= 7) & (df['TicketTime'] <= 23.5)]"
   ]
  },
  {
   "cell_type": "markdown",
   "metadata": {},
   "source": [
    "### split data into test/train sets"
   ]
  },
  {
   "cell_type": "code",
   "execution_count": 594,
   "metadata": {
    "collapsed": false
   },
   "outputs": [],
   "source": [
    "# separate the data set into features and prediction\n",
    "X = df.drop('WillReturn',axis=1).copy()\n",
    "y = df['WillReturn']"
   ]
  },
  {
   "cell_type": "code",
   "execution_count": 595,
   "metadata": {
    "collapsed": false
   },
   "outputs": [],
   "source": [
    "# scale data\n",
    "scale = StandardScaler()\n",
    "X_scale = pd.DataFrame(scale.fit_transform(X))\n",
    "X_scale.columns = X.columns"
   ]
  },
  {
   "cell_type": "code",
   "execution_count": 596,
   "metadata": {
    "collapsed": false
   },
   "outputs": [],
   "source": [
    "# split into test/train sets\n",
    "X_train, X_test, y_train, y_test = train_test_split(X_scale, y, test_size=0.25, random_state=7)\n",
    "cv = ShuffleSplit(X_train.shape[0], n_iter=10, test_size=0.25, random_state=7)"
   ]
  },
  {
   "cell_type": "markdown",
   "metadata": {},
   "source": [
    "### EDA on features"
   ]
  },
  {
   "cell_type": "markdown",
   "metadata": {},
   "source": [
    "### define two EDA helper functions"
   ]
  },
  {
   "cell_type": "code",
   "execution_count": 597,
   "metadata": {
    "collapsed": true
   },
   "outputs": [],
   "source": [
    "# define function 'get_rrate' for quick analysis of features and repeat business\n",
    "def get_rrate(df, col_list):\n",
    "    \"\"\"Given a dataframe and list of groupby columns,\n",
    "    return a crosstab dataframe of Repeat, NonRepeat, and RepeatRate\n",
    "    \"\"\"\n",
    "    rdict = {1:'Repeat',0:'NonRepeat'}\n",
    "    rorder = ['Repeat','NonRepeat']\n",
    "\n",
    "    ct = pd.crosstab([df[c] for c in col_list], df['WillReturn'].map(rdict))[rorder]\n",
    "    ct['CustCount'] = ct['Repeat'] + ct['NonRepeat']\n",
    "    ct['CustDist'] = ct['CustCount'].astype(float) / ct['CustCount'].sum() * 100\n",
    "    ct['RepeatRate'] = ct['Repeat'].astype(float) / ct['CustCount'] * 100\n",
    "    ct['RepeatDist'] = ct['Repeat'].astype(float) / ct['Repeat'].sum() * 100\n",
    "    ct.columns.name=None\n",
    "    return ct"
   ]
  },
  {
   "cell_type": "code",
   "execution_count": 598,
   "metadata": {
    "collapsed": false
   },
   "outputs": [],
   "source": [
    "def plot_rrate(df, col_list):\n",
    "    \"\"\"Given dataframe and list of columns, call \"get_rrate\" to\n",
    "    calculate return-rate distributions by feature values,\n",
    "    then plot the rate of return and % return rate\n",
    "    \"\"\"\n",
    "    fig, axes = plt.subplots(nrows=1, ncols=2, figsize=(15,5))\n",
    "    ct = get_rrate(df, col_list)\n",
    "    ct[['Repeat','NonRepeat']].plot(kind='bar', stacked=True, color=['g','k'], alpha=.5, ax=axes[0])\n",
    "    axes[0].set_title('returns per ' + ', '.join(col_list))\n",
    "    axes[0].set_ylabel('Customer Count')\n",
    "    \n",
    "    ct[['RepeatRate']].plot(kind='bar', stacked=True, color=['blue'], alpha=.5, ax=axes[1], ylim=(0,100))\n",
    "    axes[1].set_title('return rate by ' + ', '.join(col_list))\n",
    "    axes[1].set_ylabel('% Return Rate')"
   ]
  },
  {
   "cell_type": "code",
   "execution_count": 599,
   "metadata": {
    "collapsed": true
   },
   "outputs": [],
   "source": [
    "def plot_rrate_hist(df, cut_col, bins):\n",
    "    \"\"\"Give dataframe and a \"cut_col\" feature name, \n",
    "    cut the continuous feature values into \"bins\" \n",
    "    \"\"\"\n",
    "    fig, axes = plt.subplots(nrows=1, ncols=2, figsize=(15,5))\n",
    "    \n",
    "    dgrp = df.groupby(pd.cut(df[cut_col], bins))['WillReturn']\n",
    "    \n",
    "    dgrp1 = pd.concat([dgrp.sum(), dgrp.count() - dgrp.sum()], axis=1)\n",
    "    dgrp1.columns = ['Repeat','NonRepeat']\n",
    "    dgrp1.plot(kind='bar', stacked=True, color=['g','k'], alpha=.5, title=cut_col + ' distribution', ax=axes[0])\n",
    "    axes[0].set_title(cut_col + ' distribution')\n",
    "    axes[0].set_ylabel('Customer Count')\n",
    "    \n",
    "    \n",
    "    (dgrp.mean()*100).plot(kind='bar', color='blue',alpha=.5,ax=axes[1], title='return rate by ' + cut_col, ylim=(0,100))\n",
    "    axes[1].set_title('return rate by ' + cut_col)\n",
    "    axes[1].set_ylabel('% Return Rate')"
   ]
  },
  {
   "cell_type": "markdown",
   "metadata": {},
   "source": [
    "### impact of weekdays on return visits\n",
    "- Traffic seems equally distributed between days of the week\n",
    "- More repeat customers shop on weekdays in number and on a percentage basis"
   ]
  },
  {
   "cell_type": "code",
   "execution_count": 600,
   "metadata": {
    "collapsed": false,
    "scrolled": true
   },
   "outputs": [
    {
     "data": {
      "image/png": "[encoded data removed]",
      "text/plain": [
       "<matplotlib.figure.Figure at 0x1515c7b8>"
      ]
     },
     "metadata": {},
     "output_type": "display_data"
    }
   ],
   "source": [
    "plot_rrate(df, ['IsWeekday'])"
   ]
  },
  {
   "cell_type": "code",
   "execution_count": 601,
   "metadata": {
    "collapsed": false
   },
   "outputs": [
    {
     "data": {
      "image/png": "[encoded data removed]",
      "text/plain": [
       "<matplotlib.figure.Figure at 0x1b0b3400>"
      ]
     },
     "metadata": {},
     "output_type": "display_data"
    }
   ],
   "source": [
    "plot_rrate(df, ['WeekdayNumber'])"
   ]
  },
  {
   "cell_type": "markdown",
   "metadata": {},
   "source": [
    "### impact of seasonality on repeat business\n",
    "- Sales seem normally distributed across months\n",
    "- Return rate is steady across months (slightly higher in January)"
   ]
  },
  {
   "cell_type": "code",
   "execution_count": 602,
   "metadata": {
    "collapsed": false
   },
   "outputs": [
    {
     "data": {
      "image/png": "[encoded data removed]",
      "text/plain": [
       "<matplotlib.figure.Figure at 0x36ae9128>"
      ]
     },
     "metadata": {},
     "output_type": "display_data"
    }
   ],
   "source": [
    "plot_rrate_hist(df, 'TicketMonthDecimal', 12)"
   ]
  },
  {
   "cell_type": "markdown",
   "metadata": {},
   "source": [
    "### time of day VS repeat business\n",
    "- of course, sales are focussed around 12PM - 7PM, with outliers on either end\n",
    "- repeat business is slightly more likely between 9AM-11AM and at 6PM"
   ]
  },
  {
   "cell_type": "code",
   "execution_count": 603,
   "metadata": {
    "collapsed": false
   },
   "outputs": [
    {
     "data": {
      "image/png": "[encoded data removed]",
      "text/plain": [
       "<matplotlib.figure.Figure at 0x182210b8>"
      ]
     },
     "metadata": {},
     "output_type": "display_data"
    }
   ],
   "source": [
    "plot_rrate_hist(df, 'TicketTime', 12)"
   ]
  },
  {
   "cell_type": "markdown",
   "metadata": {},
   "source": [
    "### produce shopping VS repeat business\n",
    "- Feature 'BoughtProduce' comes from domain knowledge about customer behavior\n",
    "- Produce shopping must be done locally (natural filter for tourists)\n",
    "- Fresh produce is uniquely \"Italian\"... maybe these shoppers use Eataly as a grocery store"
   ]
  },
  {
   "cell_type": "code",
   "execution_count": 604,
   "metadata": {
    "collapsed": false
   },
   "outputs": [
    {
     "data": {
      "image/png": "[encoded data removed]",
      "text/plain": [
       "<matplotlib.figure.Figure at 0x11c1d9e8>"
      ]
     },
     "metadata": {},
     "output_type": "display_data"
    }
   ],
   "source": [
    "plot_rrate(df, ['BoughtProduce'])"
   ]
  },
  {
   "cell_type": "markdown",
   "metadata": {},
   "source": [
    "### returning bags VS repeat business\n",
    "- Another feature from domain knowledge\n",
    "- Eataly refunds customers $0.05 for returning shopping bags\n",
    "- This would definintely suggest prior visits on by the customer\n",
    "- Far more customers do no return bags (98%), so feature may not work"
   ]
  },
  {
   "cell_type": "code",
   "execution_count": 605,
   "metadata": {
    "collapsed": false
   },
   "outputs": [
    {
     "data": {
      "text/html": [
       "<div>\n",
       "<table border=\"1\" class=\"dataframe\">\n",
       "  <thead>\n",
       "    <tr style=\"text-align: right;\">\n",
       "      <th></th>\n",
       "      <th>Repeat</th>\n",
       "      <th>NonRepeat</th>\n",
       "      <th>CustCount</th>\n",
       "      <th>CustDist</th>\n",
       "      <th>RepeatRate</th>\n",
       "      <th>RepeatDist</th>\n",
       "    </tr>\n",
       "    <tr>\n",
       "      <th>ReturnedBags</th>\n",
       "      <th></th>\n",
       "      <th></th>\n",
       "      <th></th>\n",
       "      <th></th>\n",
       "      <th></th>\n",
       "      <th></th>\n",
       "    </tr>\n",
       "  </thead>\n",
       "  <tbody>\n",
       "    <tr>\n",
       "      <th>False</th>\n",
       "      <td>710691</td>\n",
       "      <td>893775</td>\n",
       "      <td>1604466</td>\n",
       "      <td>98.930456</td>\n",
       "      <td>44.294550</td>\n",
       "      <td>98.554461</td>\n",
       "    </tr>\n",
       "    <tr>\n",
       "      <th>True</th>\n",
       "      <td>10424</td>\n",
       "      <td>6922</td>\n",
       "      <td>17346</td>\n",
       "      <td>1.069544</td>\n",
       "      <td>60.094546</td>\n",
       "      <td>1.445539</td>\n",
       "    </tr>\n",
       "  </tbody>\n",
       "</table>\n",
       "</div>"
      ],
      "text/plain": [
       "              Repeat  NonRepeat  CustCount   CustDist  RepeatRate  RepeatDist\n",
       "ReturnedBags                                                                 \n",
       "False         710691     893775    1604466  98.930456   44.294550   98.554461\n",
       "True           10424       6922      17346   1.069544   60.094546    1.445539"
      ]
     },
     "execution_count": 605,
     "metadata": {},
     "output_type": "execute_result"
    }
   ],
   "source": [
    "get_rrate(df, ['ReturnedBags'])"
   ]
  },
  {
   "cell_type": "code",
   "execution_count": 606,
   "metadata": {
    "collapsed": false,
    "scrolled": true
   },
   "outputs": [
    {
     "data": {
      "image/png": "[encoded data removed]",
      "text/plain": [
       "<matplotlib.figure.Figure at 0x1645f6d8>"
      ]
     },
     "metadata": {},
     "output_type": "display_data"
    }
   ],
   "source": [
    "plot_rrate(df, ['ReturnedBags'])"
   ]
  },
  {
   "cell_type": "markdown",
   "metadata": {},
   "source": [
    "### Net spend vs repeat business\n",
    "- First pair of graphs show spending distributions from 25th - 75th percentiles\n",
    "- Second pair of graphs show spending distributions from \\$0 - $250\n",
    "- Both pairs suggest natural tendancy towards smaller dollar value tickets, but constant probability of return"
   ]
  },
  {
   "cell_type": "code",
   "execution_count": 607,
   "metadata": {
    "collapsed": false
   },
   "outputs": [
    {
     "data": {
      "image/png": "[encoded data removed]",
      "text/plain": [
       "<matplotlib.figure.Figure at 0x134dbdd8>"
      ]
     },
     "metadata": {},
     "output_type": "display_data"
    }
   ],
   "source": [
    "# frequency & probability for spenders between $0 and $250 (to account for outliers in sales)\n",
    "plot_rrate_hist(df[(df['NetAmount']<36) & (df['NetAmount']>8)], 'NetAmount',10)"
   ]
  },
  {
   "cell_type": "code",
   "execution_count": 608,
   "metadata": {
    "collapsed": false
   },
   "outputs": [
    {
     "data": {
      "image/png": "[encoded data removed]",
      "text/plain": [
       "<matplotlib.figure.Figure at 0x1b4fa2b0>"
      ]
     },
     "metadata": {},
     "output_type": "display_data"
    }
   ],
   "source": [
    "# frequency & probability for spenders between $0 and $250 (to account for outliers in sales)\n",
    "plot_rrate_hist(df[(df['NetAmount']<250) & (df['NetAmount']>0)], 'NetAmount',10)"
   ]
  },
  {
   "cell_type": "markdown",
   "metadata": {},
   "source": [
    "### inspecting into correlation of features\n",
    "- as expected, some features have very high correlations\n",
    "    - Sales Lines & Net Amount\n",
    "    - Net Amount & Net Retail Amount\n",
    "    - Sale Lines & Unique Items\n",
    "\n",
    "\n",
    "- ML algorithm will have to accomodate highly-correlated features"
   ]
  },
  {
   "cell_type": "code",
   "execution_count": 609,
   "metadata": {
    "collapsed": false
   },
   "outputs": [
    {
     "data": {
      "text/html": [
       "<div>\n",
       "<table border=\"1\" class=\"dataframe\">\n",
       "  <thead>\n",
       "    <tr style=\"text-align: right;\">\n",
       "      <th></th>\n",
       "      <th>TicketTime</th>\n",
       "      <th>PriorVisits</th>\n",
       "      <th>SaleLines</th>\n",
       "      <th>ReturnLines</th>\n",
       "      <th>GiftCardLines</th>\n",
       "      <th>NetAmount</th>\n",
       "      <th>NetRetailAmount</th>\n",
       "      <th>NetQSRAmount</th>\n",
       "      <th>DiscountAmount</th>\n",
       "      <th>UniqueItems</th>\n",
       "      <th>UniqueCategories</th>\n",
       "      <th>ReturnedBags</th>\n",
       "      <th>BoughtProduce</th>\n",
       "      <th>TicketMonthDecimal</th>\n",
       "      <th>WeekdayNumber</th>\n",
       "      <th>IsWeekday</th>\n",
       "      <th>IsFrontEnd</th>\n",
       "    </tr>\n",
       "  </thead>\n",
       "  <tbody>\n",
       "    <tr>\n",
       "      <th>TicketTime</th>\n",
       "      <td></td>\n",
       "      <td></td>\n",
       "      <td></td>\n",
       "      <td></td>\n",
       "      <td></td>\n",
       "      <td></td>\n",
       "      <td></td>\n",
       "      <td></td>\n",
       "      <td></td>\n",
       "      <td></td>\n",
       "      <td></td>\n",
       "      <td></td>\n",
       "      <td></td>\n",
       "      <td></td>\n",
       "      <td></td>\n",
       "      <td></td>\n",
       "      <td></td>\n",
       "    </tr>\n",
       "    <tr>\n",
       "      <th>PriorVisits</th>\n",
       "      <td></td>\n",
       "      <td></td>\n",
       "      <td></td>\n",
       "      <td></td>\n",
       "      <td></td>\n",
       "      <td></td>\n",
       "      <td></td>\n",
       "      <td></td>\n",
       "      <td></td>\n",
       "      <td></td>\n",
       "      <td></td>\n",
       "      <td></td>\n",
       "      <td></td>\n",
       "      <td></td>\n",
       "      <td></td>\n",
       "      <td></td>\n",
       "      <td></td>\n",
       "    </tr>\n",
       "    <tr>\n",
       "      <th>SaleLines</th>\n",
       "      <td></td>\n",
       "      <td></td>\n",
       "      <td></td>\n",
       "      <td></td>\n",
       "      <td></td>\n",
       "      <td>0.772714</td>\n",
       "      <td>0.785757</td>\n",
       "      <td></td>\n",
       "      <td></td>\n",
       "      <td>0.980805</td>\n",
       "      <td>0.844837</td>\n",
       "      <td></td>\n",
       "      <td>0.508431</td>\n",
       "      <td></td>\n",
       "      <td></td>\n",
       "      <td></td>\n",
       "      <td></td>\n",
       "    </tr>\n",
       "    <tr>\n",
       "      <th>ReturnLines</th>\n",
       "      <td></td>\n",
       "      <td></td>\n",
       "      <td></td>\n",
       "      <td></td>\n",
       "      <td></td>\n",
       "      <td></td>\n",
       "      <td></td>\n",
       "      <td></td>\n",
       "      <td></td>\n",
       "      <td></td>\n",
       "      <td></td>\n",
       "      <td>0.687726</td>\n",
       "      <td></td>\n",
       "      <td></td>\n",
       "      <td></td>\n",
       "      <td></td>\n",
       "      <td></td>\n",
       "    </tr>\n",
       "    <tr>\n",
       "      <th>GiftCardLines</th>\n",
       "      <td></td>\n",
       "      <td></td>\n",
       "      <td></td>\n",
       "      <td></td>\n",
       "      <td></td>\n",
       "      <td></td>\n",
       "      <td></td>\n",
       "      <td></td>\n",
       "      <td></td>\n",
       "      <td></td>\n",
       "      <td></td>\n",
       "      <td></td>\n",
       "      <td></td>\n",
       "      <td></td>\n",
       "      <td></td>\n",
       "      <td></td>\n",
       "      <td></td>\n",
       "    </tr>\n",
       "    <tr>\n",
       "      <th>NetAmount</th>\n",
       "      <td></td>\n",
       "      <td></td>\n",
       "      <td>0.772714</td>\n",
       "      <td></td>\n",
       "      <td></td>\n",
       "      <td></td>\n",
       "      <td>0.96559</td>\n",
       "      <td></td>\n",
       "      <td></td>\n",
       "      <td>0.747154</td>\n",
       "      <td>0.646295</td>\n",
       "      <td></td>\n",
       "      <td></td>\n",
       "      <td></td>\n",
       "      <td></td>\n",
       "      <td></td>\n",
       "      <td></td>\n",
       "    </tr>\n",
       "    <tr>\n",
       "      <th>NetRetailAmount</th>\n",
       "      <td></td>\n",
       "      <td></td>\n",
       "      <td>0.785757</td>\n",
       "      <td></td>\n",
       "      <td></td>\n",
       "      <td>0.96559</td>\n",
       "      <td></td>\n",
       "      <td></td>\n",
       "      <td></td>\n",
       "      <td>0.7636</td>\n",
       "      <td>0.675023</td>\n",
       "      <td></td>\n",
       "      <td></td>\n",
       "      <td></td>\n",
       "      <td></td>\n",
       "      <td></td>\n",
       "      <td></td>\n",
       "    </tr>\n",
       "    <tr>\n",
       "      <th>NetQSRAmount</th>\n",
       "      <td></td>\n",
       "      <td></td>\n",
       "      <td></td>\n",
       "      <td></td>\n",
       "      <td></td>\n",
       "      <td></td>\n",
       "      <td></td>\n",
       "      <td></td>\n",
       "      <td></td>\n",
       "      <td></td>\n",
       "      <td></td>\n",
       "      <td></td>\n",
       "      <td></td>\n",
       "      <td></td>\n",
       "      <td></td>\n",
       "      <td></td>\n",
       "      <td></td>\n",
       "    </tr>\n",
       "    <tr>\n",
       "      <th>DiscountAmount</th>\n",
       "      <td></td>\n",
       "      <td></td>\n",
       "      <td></td>\n",
       "      <td></td>\n",
       "      <td></td>\n",
       "      <td></td>\n",
       "      <td></td>\n",
       "      <td></td>\n",
       "      <td></td>\n",
       "      <td></td>\n",
       "      <td></td>\n",
       "      <td></td>\n",
       "      <td></td>\n",
       "      <td></td>\n",
       "      <td></td>\n",
       "      <td></td>\n",
       "      <td></td>\n",
       "    </tr>\n",
       "    <tr>\n",
       "      <th>UniqueItems</th>\n",
       "      <td></td>\n",
       "      <td></td>\n",
       "      <td>0.980805</td>\n",
       "      <td></td>\n",
       "      <td></td>\n",
       "      <td>0.747154</td>\n",
       "      <td>0.7636</td>\n",
       "      <td></td>\n",
       "      <td></td>\n",
       "      <td></td>\n",
       "      <td>0.867877</td>\n",
       "      <td></td>\n",
       "      <td>0.532414</td>\n",
       "      <td></td>\n",
       "      <td></td>\n",
       "      <td></td>\n",
       "      <td></td>\n",
       "    </tr>\n",
       "    <tr>\n",
       "      <th>UniqueCategories</th>\n",
       "      <td></td>\n",
       "      <td></td>\n",
       "      <td>0.844837</td>\n",
       "      <td></td>\n",
       "      <td></td>\n",
       "      <td>0.646295</td>\n",
       "      <td>0.675023</td>\n",
       "      <td></td>\n",
       "      <td></td>\n",
       "      <td>0.867877</td>\n",
       "      <td></td>\n",
       "      <td></td>\n",
       "      <td>0.579083</td>\n",
       "      <td></td>\n",
       "      <td></td>\n",
       "      <td></td>\n",
       "      <td>0.516499</td>\n",
       "    </tr>\n",
       "    <tr>\n",
       "      <th>ReturnedBags</th>\n",
       "      <td></td>\n",
       "      <td></td>\n",
       "      <td></td>\n",
       "      <td>0.687726</td>\n",
       "      <td></td>\n",
       "      <td></td>\n",
       "      <td></td>\n",
       "      <td></td>\n",
       "      <td></td>\n",
       "      <td></td>\n",
       "      <td></td>\n",
       "      <td></td>\n",
       "      <td></td>\n",
       "      <td></td>\n",
       "      <td></td>\n",
       "      <td></td>\n",
       "      <td></td>\n",
       "    </tr>\n",
       "    <tr>\n",
       "      <th>BoughtProduce</th>\n",
       "      <td></td>\n",
       "      <td></td>\n",
       "      <td>0.508431</td>\n",
       "      <td></td>\n",
       "      <td></td>\n",
       "      <td></td>\n",
       "      <td></td>\n",
       "      <td></td>\n",
       "      <td></td>\n",
       "      <td>0.532414</td>\n",
       "      <td>0.579083</td>\n",
       "      <td></td>\n",
       "      <td></td>\n",
       "      <td></td>\n",
       "      <td></td>\n",
       "      <td></td>\n",
       "      <td></td>\n",
       "    </tr>\n",
       "    <tr>\n",
       "      <th>TicketMonthDecimal</th>\n",
       "      <td></td>\n",
       "      <td></td>\n",
       "      <td></td>\n",
       "      <td></td>\n",
       "      <td></td>\n",
       "      <td></td>\n",
       "      <td></td>\n",
       "      <td></td>\n",
       "      <td></td>\n",
       "      <td></td>\n",
       "      <td></td>\n",
       "      <td></td>\n",
       "      <td></td>\n",
       "      <td></td>\n",
       "      <td></td>\n",
       "      <td></td>\n",
       "      <td></td>\n",
       "    </tr>\n",
       "    <tr>\n",
       "      <th>WeekdayNumber</th>\n",
       "      <td></td>\n",
       "      <td></td>\n",
       "      <td></td>\n",
       "      <td></td>\n",
       "      <td></td>\n",
       "      <td></td>\n",
       "      <td></td>\n",
       "      <td></td>\n",
       "      <td></td>\n",
       "      <td></td>\n",
       "      <td></td>\n",
       "      <td></td>\n",
       "      <td></td>\n",
       "      <td></td>\n",
       "      <td></td>\n",
       "      <td></td>\n",
       "      <td></td>\n",
       "    </tr>\n",
       "    <tr>\n",
       "      <th>IsWeekday</th>\n",
       "      <td></td>\n",
       "      <td></td>\n",
       "      <td></td>\n",
       "      <td></td>\n",
       "      <td></td>\n",
       "      <td></td>\n",
       "      <td></td>\n",
       "      <td></td>\n",
       "      <td></td>\n",
       "      <td></td>\n",
       "      <td></td>\n",
       "      <td></td>\n",
       "      <td></td>\n",
       "      <td></td>\n",
       "      <td></td>\n",
       "      <td></td>\n",
       "      <td></td>\n",
       "    </tr>\n",
       "    <tr>\n",
       "      <th>IsFrontEnd</th>\n",
       "      <td></td>\n",
       "      <td></td>\n",
       "      <td></td>\n",
       "      <td></td>\n",
       "      <td></td>\n",
       "      <td></td>\n",
       "      <td></td>\n",
       "      <td></td>\n",
       "      <td></td>\n",
       "      <td></td>\n",
       "      <td>0.516499</td>\n",
       "      <td></td>\n",
       "      <td></td>\n",
       "      <td></td>\n",
       "      <td></td>\n",
       "      <td></td>\n",
       "      <td></td>\n",
       "    </tr>\n",
       "  </tbody>\n",
       "</table>\n",
       "</div>"
      ],
      "text/plain": [
       "                   TicketTime PriorVisits SaleLines ReturnLines GiftCardLines  \\\n",
       "TicketTime                                                                      \n",
       "PriorVisits                                                                     \n",
       "SaleLines                                                                       \n",
       "ReturnLines                                                                     \n",
       "GiftCardLines                                                                   \n",
       "NetAmount                                  0.772714                             \n",
       "NetRetailAmount                            0.785757                             \n",
       "NetQSRAmount                                                                    \n",
       "DiscountAmount                                                                  \n",
       "UniqueItems                                0.980805                             \n",
       "UniqueCategories                           0.844837                             \n",
       "ReturnedBags                                           0.687726                 \n",
       "BoughtProduce                              0.508431                             \n",
       "TicketMonthDecimal                                                              \n",
       "WeekdayNumber                                                                   \n",
       "IsWeekday                                                                       \n",
       "IsFrontEnd                                                                      \n",
       "\n",
       "                   NetAmount NetRetailAmount NetQSRAmount DiscountAmount  \\\n",
       "TicketTime                                                                 \n",
       "PriorVisits                                                                \n",
       "SaleLines           0.772714        0.785757                               \n",
       "ReturnLines                                                                \n",
       "GiftCardLines                                                              \n",
       "NetAmount                            0.96559                               \n",
       "NetRetailAmount      0.96559                                               \n",
       "NetQSRAmount                                                               \n",
       "DiscountAmount                                                             \n",
       "UniqueItems         0.747154          0.7636                               \n",
       "UniqueCategories    0.646295        0.675023                               \n",
       "ReturnedBags                                                               \n",
       "BoughtProduce                                                              \n",
       "TicketMonthDecimal                                                         \n",
       "WeekdayNumber                                                              \n",
       "IsWeekday                                                                  \n",
       "IsFrontEnd                                                                 \n",
       "\n",
       "                   UniqueItems UniqueCategories ReturnedBags BoughtProduce  \\\n",
       "TicketTime                                                                   \n",
       "PriorVisits                                                                  \n",
       "SaleLines             0.980805         0.844837                   0.508431   \n",
       "ReturnLines                                         0.687726                 \n",
       "GiftCardLines                                                                \n",
       "NetAmount             0.747154         0.646295                              \n",
       "NetRetailAmount         0.7636         0.675023                              \n",
       "NetQSRAmount                                                                 \n",
       "DiscountAmount                                                               \n",
       "UniqueItems                            0.867877                   0.532414   \n",
       "UniqueCategories      0.867877                                    0.579083   \n",
       "ReturnedBags                                                                 \n",
       "BoughtProduce         0.532414         0.579083                              \n",
       "TicketMonthDecimal                                                           \n",
       "WeekdayNumber                                                                \n",
       "IsWeekday                                                                    \n",
       "IsFrontEnd                             0.516499                              \n",
       "\n",
       "                   TicketMonthDecimal WeekdayNumber IsWeekday IsFrontEnd  \n",
       "TicketTime                                                                \n",
       "PriorVisits                                                               \n",
       "SaleLines                                                                 \n",
       "ReturnLines                                                               \n",
       "GiftCardLines                                                             \n",
       "NetAmount                                                                 \n",
       "NetRetailAmount                                                           \n",
       "NetQSRAmount                                                              \n",
       "DiscountAmount                                                            \n",
       "UniqueItems                                                               \n",
       "UniqueCategories                                                0.516499  \n",
       "ReturnedBags                                                              \n",
       "BoughtProduce                                                             \n",
       "TicketMonthDecimal                                                        \n",
       "WeekdayNumber                                                             \n",
       "IsWeekday                                                                 \n",
       "IsFrontEnd                                                                "
      ]
     },
     "execution_count": 609,
     "metadata": {},
     "output_type": "execute_result"
    }
   ],
   "source": [
    "# find correlations between \n",
    "Xcorr = X.corr()\n",
    "Xcorr.where((Xcorr >.5) & (Xcorr < 1),'')"
   ]
  },
  {
   "cell_type": "markdown",
   "metadata": {},
   "source": [
    "### applying k-means clusters as a feature\n",
    "- from preliminary analysis, k-means clusters seem well-defined and intuitive from a business perspective\n",
    "- the goal of this project is to better understand and segment customers, so clustering is very important"
   ]
  },
  {
   "cell_type": "code",
   "execution_count": null,
   "metadata": {
    "collapsed": true
   },
   "outputs": [],
   "source": [
    "# finding the elbow plotting inertia\n",
    "k = []\n",
    "i = []\n",
    "for n in range(1,20):\n",
    "    km2 = KMeans(n_clusters=n)\n",
    "    km2.fit(X_train)\n",
    "    k.append(n)\n",
    "    i.append(km2.inertia_)\n",
    "    \n",
    "plt.plot(k, i);"
   ]
  },
  {
   "cell_type": "markdown",
   "metadata": {},
   "source": []
  },
  {
   "cell_type": "markdown",
   "metadata": {},
   "source": []
  }
 ],
 "metadata": {
  "kernelspec": {
   "display_name": "Python 2",
   "language": "python",
   "name": "python2"
  },
  "language_info": {
   "codemirror_mode": {
    "name": "ipython",
    "version": 2
   },
   "file_extension": ".py",
   "mimetype": "text/x-python",
   "name": "python",
   "nbconvert_exporter": "python",
   "pygments_lexer": "ipython2",
   "version": "2.7.11"
  }
 },
 "nbformat": 4,
 "nbformat_minor": 0
}
